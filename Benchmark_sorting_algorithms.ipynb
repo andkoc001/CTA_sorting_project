{
 "cells": [
  {
   "cell_type": "markdown",
   "metadata": {},
   "source": [
    "# Benchmarking sorting algorithms\n",
    "The final project assignment for Computational Thinking with Algorithms module, GMIT 2020.\n",
    "\n",
    "Lecturer: dr Dominic Carr\n",
    "\n",
    ">Author: **Andrzej Kocielski**  \n",
    ">Github: [andkoc001](https://github.com/andkoc001/)  \n",
    ">Email: G00376291@gmit.ie, and.koc001@gmail.com\n",
    "\n",
    "Created: 03-04-2020"
   ]
  },
  {
   "cell_type": "markdown",
   "metadata": {},
   "source": [
    "<figure>\n",
    "  <img src=\"https://upload.wikimedia.org/wikipedia/commons/7/7e/Comparison_computational_complexity.svg\" alt=\"Big O notation\" style=\"width:400px\">\n",
    "  <figcaption>Image source: Wikipedia.</figcaption>\n",
    "</figure>"
   ]
  },
  {
   "cell_type": "markdown",
   "metadata": {},
   "source": [
    "___\n",
    "### Content\n",
    "\n",
    "1. Introduction\n",
    "2. Sorting algorithms\n",
    "3. Benchmarking\n",
    "4. Results\n",
    "5. Discussion\n",
    "6. References\n",
    " "
   ]
  },
  {
   "cell_type": "markdown",
   "metadata": {},
   "source": [
    "**Below is to be deleted**\n",
    "\n",
    "Ideas:\n",
    "- discuss terms:\n",
    "    - sorting\n",
    "    - efficiency (time efficiency only considered in this project)\n",
    "    - best-, average- and worst-case time complexity\n",
    "    - comparison\n",
    "    - stability\n",
    "    - inversion\n",
    "    - sort key data (satellite data neglected in this analysis)\n",
    "    - in-place sorting   \n"
   ]
  },
  {
   "cell_type": "markdown",
   "metadata": {},
   "source": [
    "___"
   ]
  },
  {
   "cell_type": "markdown",
   "metadata": {},
   "source": [
    "## Introduction"
   ]
  },
  {
   "cell_type": "markdown",
   "metadata": {},
   "source": [
    "### Sorting algorithms selected for testing\n",
    "\n",
    "For this project a Python application is written which will be used to benchmark five different sorting algorithms. The benchmarking is about running selected sorting algorithms for various size random numbers arrays and measure the time it takes for run. \n",
    "\n",
    "The five sorting algorithms are selected to satisfy the project specification, that is according to the following criteria:\n",
    "\n",
    "1. A simple comparison-based sort - I have chosen to analyse the **Bubble Sort**\n",
    "2. An efficient comparison-based sort - I have chosen to analyse the **Quicksort**\n",
    "3. A non-comparison sort - I have chosen to analyse the **Bucket Sort** \n",
    "\n",
    "The remaining two algorithms were left to my choice:\n",
    "\n",
    "4. Another efficient sort - **Merge Sort**\n",
    "5. A hybrid sort - **Timsort** \n",
    "6. Extra - a Python built-in sorting algorithm - **sorted()** method\n",
    "\n",
    "Each of the selected algorithms are briefly described followed by the algorithms implementation and benchmarking. Finally, at the end of the report, there is the discussion of the results of the benchmarking process and findings."
   ]
  },
  {
   "cell_type": "markdown",
   "metadata": {},
   "source": [
    "___\n"
   ]
  },
  {
   "cell_type": "markdown",
   "metadata": {},
   "source": [
    "## Bubble Sort\n",
    "### Algorithm description\n",
    "...\n"
   ]
  },
  {
   "cell_type": "code",
   "execution_count": 1,
   "metadata": {},
   "outputs": [],
   "source": [
    "##### Credits #####\n",
    "# Source: https://stackabuse.com/sorting-algorithms-in-python/\n",
    "# Adapted and commented by the author of this Notebook\n",
    "\n",
    "##### Function definition #####\n",
    "# Function performing the bubble sort; it takes an arrey to be sorted as an argument\n",
    "def bubble_sort(array):\n",
    "    # Variable swapped is initially set to True, so that the loop runs at least once\n",
    "    swapped = True\n",
    "    while swapped:\n",
    "        swapped = False\n",
    "        for i in range(len(array) - 1):\n",
    "            if array[i] > array[i + 1]:\n",
    "                # Swap the elements\n",
    "                array[i], array[i + 1] = array[i + 1], array[i]\n",
    "                # Set the swapped to True so it will loop again\n",
    "                swapped = True\n"
   ]
  },
  {
   "cell_type": "code",
   "execution_count": null,
   "metadata": {},
   "outputs": [],
   "source": [
    "# Verify the algorithm works\n",
    "random_list_of_nums = [2, 7, 1, 8, 4, 1]\n",
    "print(\"Before:\",random_list_of_nums)\n",
    "\n",
    "bubble_sort(random_list_of_nums)\n",
    "print(\"After:\",random_list_of_nums)"
   ]
  },
  {
   "cell_type": "markdown",
   "metadata": {},
   "source": [
    "## Quicksort\n",
    "### Algorithm description\n",
    "...\n",
    "\n",
    "\n"
   ]
  },
  {
   "cell_type": "markdown",
   "metadata": {},
   "source": [
    "<figure>\n",
    "  <img src=\"https://upload.wikimedia.org/wikipedia/commons/6/6a/Sorting_quicksort_anim.gif\"  alt=\"Quick sort visualisation\" style=\"width:400px; height:200px\">\n",
    "  <figcaption>Image source: Wikipedia.</figcaption>\n",
    "</figure>"
   ]
  },
  {
   "cell_type": "markdown",
   "metadata": {},
   "source": [
    "### Algorithm implementation\n",
    "Based on https://youtu.be/u4tVQszsyEQ"
   ]
  },
  {
   "cell_type": "code",
   "execution_count": 2,
   "metadata": {},
   "outputs": [],
   "source": [
    "##### Credits #####\n",
    "# Source: https://youtu.be/u4tVQszsyEQ\n",
    "# Adapted and commented by the author of this Notebook\n",
    "\n",
    "\n",
    "##### Function definition #####\n",
    "# Function performing the quick sort; it takes an array to be sorted as an argument\n",
    "def sortowanie_szybkie(array):\n",
    "    \n",
    "    # creation of empty lists\n",
    "    mniejsze = [] # less than the pivot\n",
    "    rowne = [] # equal to the pivot\n",
    "    wieksze =[] # greater than the pivot\n",
    "    \n",
    "    # base case of the recursion \n",
    "    # check whether the list is more than one element long (otherwise, one-element list is considered to be sorted)\n",
    "    if len(array) <= 1:\n",
    "        return array\n",
    "    \n",
    "    # recursion algorithm for a list that holds more than one element\n",
    "    else: \n",
    "        # set the pivot value at the middle element of the list\n",
    "        middle = (len(array))//2\n",
    "        pivot = array[middle]\n",
    "        \n",
    "        # let's consider three cases for each element of the list\n",
    "        for x in array:\n",
    "            # case #1 - the current element is greater than the pivot\n",
    "            if x > pivot:\n",
    "                wieksze.append(x) # add the current element to the list \"wieksze\"\n",
    "            # case #2 - the current element is equal to the pivot\n",
    "            elif x == pivot:\n",
    "                rowne.append(x) # add the current element to the list \"rowne\"\n",
    "            # case #3 - the current element is less than the pivot\n",
    "            else:\n",
    "                mniejsze.append(x) # add the current element to the list \"mniejsze\"\n",
    "        \n",
    "        # as a result of the above loop, the function will return:\n",
    "        # in the middle: the element(s) that has just been sorted, i.e. equal to the pivot(?) (as well as those sorted on previous recurses)\n",
    "        # on the left-hand side: elements that are less than the pivot - still unsorted, therefore the same function is called recursively (with the \"mniejsze\" list as an argument)\n",
    "        # on the the right-hand side: elements that are greater than the pivot - still unsorted, therefore the same function is called recursively (with the \"wieksze\" list as an argument)\n",
    "        \n",
    "        return sortowanie_szybkie(mniejsze) + rowne + sortowanie_szybkie(wieksze)\n",
    "        "
   ]
  },
  {
   "cell_type": "code",
   "execution_count": null,
   "metadata": {},
   "outputs": [],
   "source": [
    "# Verify the algorithm works\n",
    "random_list_of_nums = [2, 7, 1, 8, 4, 1]\n",
    "print(\"Before:\",random_list_of_nums)\n",
    "print(\"After:\",sortowanie_szybkie(random_list_of_nums))"
   ]
  },
  {
   "cell_type": "markdown",
   "metadata": {},
   "source": [
    "## Bucket Sort\n",
    "### Algorithm description\n",
    "...\n",
    "\n"
   ]
  },
  {
   "cell_type": "code",
   "execution_count": 3,
   "metadata": {},
   "outputs": [],
   "source": [
    "##### Credits #####\n",
    "# Own implementation, developed based on pseudocode from https://youtu.be/geVyIsFpxUs\n",
    "# Adapted and commented by the author of this Notebook\n",
    "\n",
    "# Auxiliary function that sorts the content of each bucket, using the insert sort\n",
    "# Source: https://www.geeksforgeeks.org/bucket-sort-2/\n",
    "def insertSort(b): \n",
    "    for i in range(1, len(b)): \n",
    "        up = b[i] \n",
    "        j = i - 1\n",
    "        while j >=0 and b[j] > up:  \n",
    "            b[j + 1] = b[j] \n",
    "            j -= 1\n",
    "        b[j + 1] = up      \n",
    "    return b   \n",
    "        \n",
    "\n",
    "##### Function definition #####\n",
    "\n",
    "# import required external libraries\n",
    "import math # will be needed for ceil() method\n",
    "\n",
    "# define the function, which takes as an argument the array to be sorted\n",
    "def bucket_sort(array):\n",
    "\n",
    "    #print(\"Original list:\", arr) # for testing\n",
    "    \n",
    "    # number of buckets\n",
    "    n_buckets = 6 # assumed arbitrarily\n",
    "\n",
    "    # create an empty array of buckets, where each bucket is also an empty array\n",
    "    bucket = []\n",
    "    for i in range(n_buckets):\n",
    "        bucket.append([])\n",
    "        \n",
    "    # define a divider which will be used for sorting;\n",
    "    # divider is the value of the maximum element of the array to be sorted divided by number of buckets\n",
    "    divider = math.ceil((max(array)+1)/n_buckets)\n",
    "    # divider = 10 # alternatively to the above line, it can be just assumed arbitrarily\n",
    "\n",
    "    \n",
    "    # sorting the array's element into the buckets (unsorted)\n",
    "    # loop through the array\n",
    "    for i in array:\n",
    "        # determine into which bucket index will fall each element of the arrey\n",
    "        j = i//divider\n",
    "        # put the current i-element of the array to the corresponding bucket\n",
    "        bucket[j].append(i)\n",
    "    \n",
    "    # for testing \n",
    "    #print(\"Sorted unto the buckets:\", bucket) # for testing\n",
    "        \n",
    "    # put sorted content of each bucket into a single array (concatenate single buckets)\n",
    "    # adopted from https://gist.github.com/sahid/5022081\n",
    "    sorted_result = []\n",
    "    for i in range(n_buckets):\n",
    "        # adding the sorted content of each bucket to the resulting array, \n",
    "        # using the insertSort() function iteratively for each bucket\n",
    "        sorted_result += insertSort(bucket[i])\n",
    "        \n",
    "    return sorted_result \n"
   ]
  },
  {
   "cell_type": "code",
   "execution_count": null,
   "metadata": {},
   "outputs": [],
   "source": [
    "# Verify the algorithm works\n",
    "random_list_of_nums = [2, 7, 1, 8, 4, 1]\n",
    "print(\"Before:\",random_list_of_nums)\n",
    "print(\"After:\",bucket_sort(random_list_of_nums))"
   ]
  },
  {
   "cell_type": "markdown",
   "metadata": {},
   "source": [
    "## Merge Sort\n",
    "### Algorithm description\n",
    "..."
   ]
  },
  {
   "cell_type": "code",
   "execution_count": 4,
   "metadata": {},
   "outputs": [],
   "source": [
    "##### Credits #####\n",
    "# Source: https://stackabuse.com/sorting-algorithms-in-python/\n",
    "# Adapted and commented by the author of this Notebook\n",
    "\n",
    "\n",
    "# Auxiliary function, merging and sorting two arrays\n",
    "def merge(left_list, right_list):\n",
    "    sorted_list = []\n",
    "    left_list_index = right_list_index = 0\n",
    "\n",
    "    # We use the list lengths often, so its handy to make variables\n",
    "    left_list_length, right_list_length = len(left_list), len(right_list)\n",
    "\n",
    "    for _ in range(left_list_length + right_list_length):\n",
    "        if left_list_index < left_list_length and right_list_index < right_list_length:\n",
    "            # We check which value from the start of each list is smaller\n",
    "            # If the item at the beginning of the left list is smaller, add it\n",
    "            # to the sorted list\n",
    "            if left_list[left_list_index] <= right_list[right_list_index]:\n",
    "                sorted_list.append(left_list[left_list_index])\n",
    "                left_list_index += 1\n",
    "            # If the item at the beginning of the right list is smaller, add it\n",
    "            # to the sorted list\n",
    "            else:\n",
    "                sorted_list.append(right_list[right_list_index])\n",
    "                right_list_index += 1\n",
    "\n",
    "        # If we've reached the end of the of the left list, add the elementsgit s\n",
    "        # from the right list\n",
    "        elif left_list_index == left_list_length:\n",
    "            sorted_list.append(right_list[right_list_index])\n",
    "            right_list_index += 1\n",
    "        # If we've reached the end of the of the right list, add the elements\n",
    "        # from the left list\n",
    "        elif right_list_index == right_list_length:\n",
    "            sorted_list.append(left_list[left_list_index])\n",
    "            left_list_index += 1\n",
    "\n",
    "    # final result of the sorting\n",
    "    return sorted_list\n",
    "\n",
    "\n",
    "##### Function definition #####\n",
    "# Function performing the merge sort; it takes an array to be sorted as an argument\n",
    "def merge_sort(array):\n",
    "    # If the list is a single element, return it\n",
    "    if len(array) <= 1:\n",
    "        return array\n",
    "\n",
    "    # Use floor division to get midpoint, indices must be integers\n",
    "    mid = len(array) // 2\n",
    "\n",
    "    # Sort and merge each half\n",
    "    left_list = merge_sort(array[:mid])\n",
    "    right_list = merge_sort(array[mid:])\n",
    "\n",
    "    # Merge the sorted lists into a new one\n",
    "    return merge(left_list, right_list)\n"
   ]
  },
  {
   "cell_type": "code",
   "execution_count": null,
   "metadata": {},
   "outputs": [],
   "source": [
    "# Verify the algorithm works\n",
    "random_list_of_nums = [2, 7, 1, 8, 4, 1]\n",
    "print(\"Before:\",random_list_of_nums)\n",
    "print(\"After:\",merge_sort(random_list_of_nums))"
   ]
  },
  {
   "cell_type": "markdown",
   "metadata": {},
   "source": [
    "## Timsort\n",
    "### Algorithm description\n",
    "...\n"
   ]
  },
  {
   "cell_type": "code",
   "execution_count": 5,
   "metadata": {},
   "outputs": [],
   "source": [
    "##### Credits #####\n",
    "# Source: https://quinston.com/code-snippets/\n",
    "# Adapted and commented by the author of this Notebook\n",
    "\n",
    "\n",
    "import random\n",
    "\n",
    "# Insert Sort algorithm\n",
    "# Function InsertionSort() takes one argument - an array\n",
    "def InsertionSort(array):\n",
    "\n",
    "    for x in range (1, len(array)):\n",
    "        for i in range(x, 0, -1):\n",
    "            if array[i] < array[i - 1]:\n",
    "                t = array[i]\n",
    "                array[i] = array[i - 1]\n",
    "                array[i - 1] = t\n",
    "            else:\n",
    "                break\n",
    "            i = i - 1\n",
    "    return array\n",
    "\n",
    "\n",
    "# Auxiliary function that sorts the content of each bucket, using the insert sort\n",
    "# Source: https://www.geeksforgeeks.org/bucket-sort-2/\n",
    "#def insertSort(b): \n",
    "#    for i in range(1, len(b)): \n",
    "#        up = b[i] \n",
    "#        j = i - 1\n",
    "#        while j >=0 and b[j] > up:  \n",
    "#            b[j + 1] = b[j] \n",
    "#            j -= 1\n",
    "#        b[j + 1] = up      \n",
    "#    return b   \n",
    "\n",
    "\n",
    "\n",
    "\n",
    "# Merge Sort implementation\n",
    "# The Merge() function takes two arguments - two arrays - and merge them together. The function returns yet another array\n",
    "def Merge(aArr, bArr):\n",
    "    \n",
    "    a = 0 # a is a pointer (index position) of aArr array\n",
    "    b = 0 # b is a pointer of bArr array\n",
    "    \n",
    "    # placeholder - an empty array cArr which will be holding sorted values of aArr and bArr arrays\n",
    "    cArr = []\n",
    "\n",
    "    # end of loop codition:\n",
    "    while a < len(aArr) and b < len(bArr):\n",
    "        # check if a-element of array aArr is less than b-element of array bArr\n",
    "        if aArr[a] < bArr[b]:\n",
    "            cArr.append(aArr[a]) # if the condition is satisfied, assign the value of a-element to cArr array\n",
    "            a = a + 1 # move the pointer to the next aArr array index\n",
    "            \n",
    "        elif aArr[a] > bArr[b]:\n",
    "            cArr.append(bArr[b])\n",
    "            b = b + 1\n",
    "        \n",
    "        # in case the a-element of aArra and b-element of bArr are equal\n",
    "        else:\n",
    "            cArr.append(aArr[a])\n",
    "            cArr.append(bArr[b])\n",
    "            a = a + 1\n",
    "            b = b + 1\n",
    "    \n",
    "    # when there are no left elements from bArr to compare with aArr, the remaining elements from aArr are appended at the end of cArr array\n",
    "    while a < len(aArr):\n",
    "        cArr.append(aArr[a])\n",
    "        a = a + 1\n",
    "\n",
    "    while b < len(bArr):\n",
    "        cArr.append(bArr[b])\n",
    "        b = b + 1\n",
    "\n",
    "    # function returns merged the two arrays, sorted\n",
    "    return cArr\n",
    "\n",
    "\n",
    "##### Function definition #####\n",
    "# Implementation of the TimSort sorting algorithm, with an array to be sorted as an argument.\n",
    "# Funtion TimSort divides the array to be sorted (arr) into smaller chunks of size RUN.\n",
    "# The variable RUN is defined outside the funtion body, prior to its first call.\n",
    "def TimSort(array):\n",
    "\n",
    "    # chunk size - the array will be splitted into this size of chunks, usually the chunk size is between 32 and 64\n",
    "    RUN = 32   \n",
    "    \n",
    "    # divide the array into chunks\n",
    "    for x in range(0, len(array), RUN): # loop starting from index 0, to the last element of the array, with incrementing step size RUN; note the value of len(arr) is excluded from the loop\n",
    "        # arr[x: x+RUN] is the current slice of the array (from x to x+RUN)\n",
    "        # values of the current array slice are transfered (passed) to InsertionSort function; the return from the InsertionSort is already sorted array assigned to the original slice\n",
    "        array[x: x+RUN] = InsertionSort(array[x: x+RUN])\n",
    "    \n",
    "    \n",
    "    # merging the already sortd slices of the array\n",
    "    # create an auxiliary variable     \n",
    "    RUNinc = RUN\n",
    "    # define loop termination condition\n",
    "    while RUNinc < len(array):\n",
    "        \n",
    "        # the array is divided into pairs of neighbouring slices and passed to Merge() function\n",
    "        for x in range(0, len(array), 2 * RUNinc):\n",
    "            # the return from the Merge() function is assigned to the slice (size of 2xRUN) original array\n",
    "            array[x: x+2 * RUNinc] = Merge(array[x: x+RUNinc], array[x+RUNinc: x+2*RUNinc])\n",
    "        \n",
    "        # incrementation for the while loop\n",
    "        RUNinc = RUNinc*2\n"
   ]
  },
  {
   "cell_type": "code",
   "execution_count": null,
   "metadata": {},
   "outputs": [],
   "source": [
    "# Verify the algorithm works\n",
    "random_list_of_nums = [2, 7, 1, 8, 4, 1]\n",
    "print(\"Before:\",random_list_of_nums)\n",
    "TimSort(random_list_of_nums)\n",
    "print(\"After:\",random_list_of_nums)"
   ]
  },
  {
   "cell_type": "markdown",
   "metadata": {},
   "source": [
    "____\n",
    "## Benchmarking the sorting algorithms"
   ]
  },
  {
   "cell_type": "markdown",
   "metadata": {},
   "source": [
    "### Benchmarking algorithm"
   ]
  },
  {
   "cell_type": "code",
   "execution_count": null,
   "metadata": {},
   "outputs": [],
   "source": []
  },
  {
   "cell_type": "markdown",
   "metadata": {},
   "source": [
    "___\n",
    "## Data analysis"
   ]
  },
  {
   "cell_type": "markdown",
   "metadata": {},
   "source": [
    "### Setting the data type\n",
    "\n",
    "The project is about timing, that is measuring the time required for execution, the selected sorting algorithms. \n",
    "\n",
    "From the project brief:\n",
    ">To benchmark the algorithms, you should use arrays of randomly generated integers with different\n",
    "input sizes n. You should use a variety of different input sizes, e.g. n=10,n=100,n=500,...,n=10,000\n",
    "etc. to test the effect of the input size on the running time of each algorithm. See the console output\n",
    "below for a selection of suggested sizes of n. You may test values of n which are higher than 10,000 if\n",
    "you wish, e.g. 500,000. Just be aware that algorithms such as Bubble Sort may take a long time to\n",
    "run when using large values of n!\n",
    "\n"
   ]
  },
  {
   "cell_type": "markdown",
   "metadata": {},
   "source": [
    "#### Python environment setup\n",
    "The following external Python libraries were used in the project for building and analysing the dataset."
   ]
  },
  {
   "cell_type": "code",
   "execution_count": 6,
   "metadata": {},
   "outputs": [],
   "source": [
    "import numpy as np\n",
    "import pandas as pd"
   ]
  },
  {
   "cell_type": "markdown",
   "metadata": {},
   "source": [
    "#### Dataset attributes\n",
    "\n",
    "The times for each algorithm and size of the array being sorted is recorded and stored in a a form of a data table. The dataset is organised into columns corresponding to the sorting algorithms, and rows, representing the size of the array. The type of the dataset is Pandas' DataFrame, and is assigned to the variable `data`.\n",
    "\n",
    "Below I am creating an empty dataset with the following headings only. Subsequently, the value of time for each algorithm and array size will be added to the dataset. Time will be shown in seconds.\n",
    "* Size - the size of the array, \n",
    "* Bubble - Bubble sort algorithm,\n",
    "* Quick - Quicksort,\n",
    "* Bucket - Bucket sort,\n",
    "* Merge - Merge sort,\n",
    "* Tim - Timsort,\n",
    "* Python - Python's built in method sorted() - for comparison."
   ]
  },
  {
   "cell_type": "code",
   "execution_count": 7,
   "metadata": {},
   "outputs": [],
   "source": [
    "# creation of empty data (just headings)\n",
    "data = pd.DataFrame(columns = [\"Size\", \"Bubble\", \"Quick\", \"Bucket\", \"Merge\", \"Tim\", \"Python\"]) \n",
    "\n",
    "#data.head() # for testing"
   ]
  },
  {
   "cell_type": "markdown",
   "metadata": {},
   "source": [
    "#### Size of the array\n",
    "\n",
    "The size of the array to be sorted is assumed arbitrarily, based on the project brief. "
   ]
  },
  {
   "cell_type": "code",
   "execution_count": 8,
   "metadata": {},
   "outputs": [],
   "source": [
    "# adding values of the size column to the dataset\n",
    "data[\"Size\"] = (100, 250, 500, 750, 1000, 1500, 2000, 2500, 3750, 5000, 7500, 10000, 20000, 50000)"
   ]
  },
  {
   "cell_type": "code",
   "execution_count": null,
   "metadata": {},
   "outputs": [],
   "source": [
    "# for testing\n",
    "#data[\"Size\"] = (5, 10, 15, 20, 25, 30, 35, 40, 45, 50, 55, 60, 65, 70)"
   ]
  },
  {
   "cell_type": "code",
   "execution_count": null,
   "metadata": {},
   "outputs": [],
   "source": [
    "# for testing\n",
    "data.head(3) "
   ]
  },
  {
   "cell_type": "code",
   "execution_count": null,
   "metadata": {},
   "outputs": [],
   "source": []
  },
  {
   "cell_type": "markdown",
   "metadata": {},
   "source": [
    "### Random data arrays \n",
    "\n",
    "The sorting task is performed on a array of a given size. The arrays consist of integer numbers generated in a range from 0 to 99. In order to make the benchmarking more accurate, the each test will be repeated ten times and the average of the measured times will be added to the dataframe. \n",
    "\n",
    "For each of the selected array sizes, ten different arrays will be generated and stored for the analysis. Exactly the same arrays will be used for timing the sorting algorithms, in order to increase the credibility of the benchmarking."
   ]
  },
  {
   "cell_type": "code",
   "execution_count": 9,
   "metadata": {},
   "outputs": [],
   "source": [
    "# generating arrays of random numbers\n",
    "# based on algorithm provided in the project brief\n",
    "def random_array(size): \n",
    "    # create an empty array\n",
    "    array = []\n",
    "    # populate the arr list with randomly generated numbers\n",
    "    for i in range(size):\n",
    "        array.append(np.random.randint(0, 100)) # random integer numbers in range from 0 to 99\n",
    "    return array\n",
    "\n",
    "\n",
    "\n",
    "# generation of arrays for each test sizes\n",
    "\n",
    "# create an empty container to hold the set of arrays\n",
    "random_number_arrays = []\n",
    "# loop through array sizes and for each one assign rundom numbers for each array size (array size is shown in \"data\" DataFrame, column \"size\")\n",
    "for array_size in data[\"Size\"]:\n",
    "    # create an auxiliary counter representing the index \n",
    "    random_number_arrays_index = 0\n",
    "    # call function random_array(), passing as an argument the number of elements to be generated\n",
    "    random_number_arrays.append(random_array(array_size))\n",
    "    # increment the counter by 1\n",
    "    random_number_arrays_index += 1"
   ]
  },
  {
   "cell_type": "code",
   "execution_count": null,
   "metadata": {},
   "outputs": [],
   "source": [
    "# for testing only, show existing arrays, their sizes and first few elements\n",
    "'''\n",
    "for i in range(len(data[\"Size\"])):\n",
    "    print(\"\\nArray #\", i+1, \"\\tSize:  \", len(random_number_arrays[i]))\n",
    "    for j in range(len(random_number_arrays[i])):\n",
    "        if j<5: # print out first 5 elements of the array\n",
    "            print(j, \"\\t\", random_number_arrays[i][j])\n",
    "'''"
   ]
  },
  {
   "cell_type": "code",
   "execution_count": null,
   "metadata": {},
   "outputs": [],
   "source": []
  },
  {
   "cell_type": "markdown",
   "metadata": {},
   "source": [
    "### Benchmarking the algorithms\n",
    "\n",
    "Getting times and collation the results into the dataframe. Each test is run `num_runs` times and the average time is then put into the dataset.\n",
    "\n"
   ]
  },
  {
   "cell_type": "markdown",
   "metadata": {},
   "source": [
    "#### Bubble Sort"
   ]
  },
  {
   "cell_type": "markdown",
   "metadata": {},
   "source": [
    "Note: only first half of the arrays is tested"
   ]
  },
  {
   "cell_type": "code",
   "execution_count": 10,
   "metadata": {},
   "outputs": [],
   "source": [
    "# the benchmarking algoirithms is based on the lecture materials\n",
    "\n",
    "import time\n",
    "\n",
    "\n",
    "# loop through each array size in data[\"Size\"] column:\n",
    "# data[\"Size\"] = (100, 250, 500, ...)\n",
    "for array in range(len(data[\"Size\"])//2): # Note: only first half of the arrays is tested\n",
    "    \n",
    "    #print(\"Array #\\t\", array+1, \"\\tSize:\", data.loc[(array),\"Size\"])\n",
    "    \n",
    "    # a placeholder to store results for each test\n",
    "    intermediate_results = []\n",
    "    \n",
    "    '''\n",
    "    # loop through each test sizes\n",
    "    for i in range(len(random_number_arrays)):\n",
    "    '''    \n",
    "    # perform the same sorting test several times in order to get the avarage time\n",
    "    num_runs = 10 # number of the tests \n",
    "        \n",
    "    # benchmarking the function \n",
    "    for r in range(num_runs):\n",
    "        \n",
    "        # make a copy of the array to preserve the original unsorted order\n",
    "        ar = random_number_arrays[array].copy()\n",
    "        \n",
    "        \n",
    "        \n",
    "        # for testing, after sorting\n",
    "        #t1 = []\n",
    "        #for j in range(10):\n",
    "        #    t1.append(ar[j])\n",
    "        #print(\"\\tFirst 10 elements before sorting:\\t\", t1)\n",
    "        \n",
    "        \n",
    "        \n",
    "        \n",
    "        # log the start time (time stamp)\n",
    "        start_time = time.time()\n",
    "    \n",
    "        \n",
    "        ### call the function to be benchmarked\n",
    "        bubble_sort(ar)\n",
    "        \n",
    "        \n",
    "        \n",
    "        \n",
    "        # for testing, after sorting\n",
    "        #t2 = []\n",
    "        #for j in range(10):\n",
    "        #    t2.append(ar[j])\n",
    "        #print(\"\\tFirst 10 elements after sorting:\\t\", t2)\n",
    "        \n",
    "        \n",
    "   \n",
    "        # log the end time (time stamp)\n",
    "        end_time = time.time()\n",
    "        \n",
    "        # calculate the elapsed time\n",
    "        time_elapsed = end_time - start_time\n",
    "            \n",
    "        #print(\"Time of run\", r+1,\":\", time_elapsed, \"\\n\")\n",
    "    \n",
    "        # for each sorting instance, add the time to the below array\n",
    "        intermediate_results.append(time_elapsed)\n",
    "    \n",
    "    # Average result, added straight to the 'data' dataframe\n",
    "    average_result = np.mean(intermediate_results)\n",
    "    #print(\"Average time of\", num_runs, \"tests:\", average_result)\n",
    "    #print()\n",
    "    \n",
    "    #add the average time to the dataframe\n",
    "    data.loc[array, \"Bubble\"] = average_result"
   ]
  },
  {
   "cell_type": "code",
   "execution_count": null,
   "metadata": {},
   "outputs": [],
   "source": []
  },
  {
   "cell_type": "markdown",
   "metadata": {},
   "source": [
    "#### Quicksort"
   ]
  },
  {
   "cell_type": "code",
   "execution_count": null,
   "metadata": {},
   "outputs": [],
   "source": []
  },
  {
   "cell_type": "code",
   "execution_count": 11,
   "metadata": {},
   "outputs": [],
   "source": [
    "# the benchmarking algoirithms is based on the lecture materials\n",
    "\n",
    "import time\n",
    "\n",
    "\n",
    "# loop through each array size in data[\"Size\"] column:\n",
    "# data[\"Size\"] = (100, 250, 500, ...)\n",
    "for array in range(len(data[\"Size\"])):\n",
    "    \n",
    "    #print(\"Array #\\t\", array+1, \"\\tSize:\", data.loc[(array),\"Size\"])\n",
    "    \n",
    "    # a placeholder to store results for each test\n",
    "    intermediate_results = []\n",
    "    \n",
    "    '''\n",
    "    # loop through each test sizes\n",
    "    for i in range(len(random_number_arrays)):\n",
    "    '''    \n",
    "    # perform the same sorting test several times in order to get the avarage time\n",
    "    num_runs = 10 # number of the tests \n",
    "        \n",
    "    # benchmarking the function \n",
    "    for r in range(num_runs):\n",
    "        \n",
    "        # make a copy of the array to preserve the original unsorted order\n",
    "        ar = random_number_arrays[array].copy()\n",
    "        \n",
    "        \n",
    "        # log the start time (time stamp)\n",
    "        start_time = time.time()\n",
    "    \n",
    "    \n",
    "        ### call the function to be benchmarked\n",
    "        sortowanie_szybkie(ar)\n",
    "\n",
    "        \n",
    "        # log the end time (time stamp)\n",
    "        end_time = time.time()\n",
    "        \n",
    "        # calculate the elapsed time\n",
    "        time_elapsed = end_time - start_time\n",
    "            \n",
    "        #print(\"Time of run\", r+1,\":\", time_elapsed, \"\\n\")\n",
    "    \n",
    "        # for each sorting instance, add the time to the below array\n",
    "        intermediate_results.append(time_elapsed)\n",
    "    \n",
    "    # Average result, added straight to the 'data' dataframe\n",
    "    average_result = np.mean(intermediate_results)\n",
    "    \n",
    "    #print(\"Average time of\", num_runs, \"tests:\", average_result)\n",
    "    #print()\n",
    "    \n",
    "    #add the average time to the dataframe\n",
    "    data.loc[array, \"Quick\"] = average_result\n",
    "    "
   ]
  },
  {
   "cell_type": "code",
   "execution_count": null,
   "metadata": {},
   "outputs": [],
   "source": []
  },
  {
   "cell_type": "code",
   "execution_count": null,
   "metadata": {},
   "outputs": [],
   "source": []
  },
  {
   "cell_type": "markdown",
   "metadata": {},
   "source": [
    "#### Bucket Sort"
   ]
  },
  {
   "cell_type": "markdown",
   "metadata": {},
   "source": [
    "Note: not all of the arrays is tested - some larger arrays were truncated to save the computational time"
   ]
  },
  {
   "cell_type": "code",
   "execution_count": 12,
   "metadata": {},
   "outputs": [],
   "source": [
    "# the benchmarking algoirithms is based on the lecture materials\n",
    "\n",
    "import time\n",
    "\n",
    "\n",
    "# loop through each array size in data[\"Size\"] column:\n",
    "# data[\"Size\"] = (100, 250, 500, ...)\n",
    "for array in range(len(data[\"Size\"])-2): # Note: not all of the arrays are tested\n",
    "    \n",
    "    #print(\"Array #\\t\", array+1, \"\\tSize:\", data.loc[(array),\"Size\"])\n",
    "    \n",
    "    # a placeholder to store results for each test\n",
    "    intermediate_results = []\n",
    "    \n",
    "    '''\n",
    "    # loop through each test sizes\n",
    "    for i in range(len(random_number_arrays)):\n",
    "    '''    \n",
    "    # perform the same sorting test several times in order to get the avarage time\n",
    "    num_runs = 10 # number of the tests \n",
    "        \n",
    "    # benchmarking the function \n",
    "    for r in range(num_runs):\n",
    "        \n",
    "        # make a copy of the array to preserve the original unsorted order\n",
    "        ar = random_number_arrays[array].copy()\n",
    "        \n",
    "        \n",
    "        # log the start time (time stamp)\n",
    "        start_time = time.time()\n",
    "    \n",
    "    \n",
    "        ### call the function to be benchmarked\n",
    "        bucket_sort(ar)\n",
    "\n",
    "        \n",
    "        # log the end time (time stamp)\n",
    "        end_time = time.time()\n",
    "        \n",
    "        # calculate the elapsed time\n",
    "        time_elapsed = end_time - start_time\n",
    "            \n",
    "        #print(\"Time of run\", r+1,\":\", time_elapsed, \"\\n\")\n",
    "    \n",
    "        # for each sorting instance, add the time to the below array\n",
    "        intermediate_results.append(time_elapsed)\n",
    "    \n",
    "    # Average result, added straight to the 'data' dataframe\n",
    "    average_result = np.mean(intermediate_results)\n",
    "    #print(\"Average time of\", num_runs, \"tests:\", average_result)\n",
    "    #print()\n",
    "    \n",
    "    #add the average time to the dataframe\n",
    "    data.loc[array, \"Bucket\"] = average_result"
   ]
  },
  {
   "cell_type": "code",
   "execution_count": null,
   "metadata": {},
   "outputs": [],
   "source": []
  },
  {
   "cell_type": "markdown",
   "metadata": {},
   "source": [
    "#### Merge Sort"
   ]
  },
  {
   "cell_type": "code",
   "execution_count": null,
   "metadata": {},
   "outputs": [],
   "source": []
  },
  {
   "cell_type": "code",
   "execution_count": 13,
   "metadata": {},
   "outputs": [],
   "source": [
    "# the benchmarking algoirithms is based on the lecture materials\n",
    "\n",
    "import time\n",
    "\n",
    "\n",
    "# loop through each array size in data[\"Size\"] column:\n",
    "# data[\"Size\"] = (100, 250, 500, ...)\n",
    "for array in range(len(data[\"Size\"])):\n",
    "    \n",
    "    #print(\"Array #\\t\", array+1, \"\\tSize:\", data.loc[(array),\"Size\"])\n",
    "    \n",
    "    # a placeholder to store results for each test\n",
    "    intermediate_results = []\n",
    "    \n",
    "    '''\n",
    "    # loop through each test sizes\n",
    "    for i in range(len(random_number_arrays)):\n",
    "    '''    \n",
    "    # perform the same sorting test several times in order to get the avarage time\n",
    "    num_runs = 10 # number of the tests \n",
    "        \n",
    "    # benchmarking the function \n",
    "    for r in range(num_runs):\n",
    "        \n",
    "        # make a copy of the array to preserve the original unsorted order\n",
    "        ar = random_number_arrays[array].copy()\n",
    "        \n",
    "        \n",
    "        # log the start time (time stamp)\n",
    "        start_time = time.time()\n",
    "    \n",
    "    \n",
    "        ### call the function to be benchmarked\n",
    "        merge_sort(ar)\n",
    "\n",
    "        \n",
    "        # log the end time (time stamp)\n",
    "        end_time = time.time()\n",
    "        \n",
    "        # calculate the elapsed time\n",
    "        time_elapsed = end_time - start_time\n",
    "            \n",
    "        #print(\"Time of run\", r+1,\":\", time_elapsed, \"\\n\")\n",
    "    \n",
    "        # for each sorting instance, add the time to the below array\n",
    "        intermediate_results.append(time_elapsed)\n",
    "    \n",
    "    # Average result, added straight to the 'data' dataframe\n",
    "    average_result = np.mean(intermediate_results)\n",
    "    #print(\"Average time of\", num_runs, \"tests:\", average_result)\n",
    "    #print()\n",
    "    \n",
    "    #add the average time to the dataframe\n",
    "    data.loc[array, \"Merge\"] = average_result"
   ]
  },
  {
   "cell_type": "code",
   "execution_count": null,
   "metadata": {},
   "outputs": [],
   "source": []
  },
  {
   "cell_type": "code",
   "execution_count": null,
   "metadata": {},
   "outputs": [],
   "source": []
  },
  {
   "cell_type": "markdown",
   "metadata": {},
   "source": [
    "#### TimSort"
   ]
  },
  {
   "cell_type": "code",
   "execution_count": 14,
   "metadata": {},
   "outputs": [],
   "source": [
    "# the benchmarking algoirithms is based on the lecture materials\n",
    "\n",
    "import time\n",
    "\n",
    "\n",
    "# loop through each array size in data[\"Size\"] column:\n",
    "# data[\"Size\"] = (100, 250, 500, ...)\n",
    "for array in range(len(data[\"Size\"])):\n",
    "    \n",
    "    #print(\"Array #\\t\", array+1, \"\\tSize:\", data.loc[(array),\"Size\"])\n",
    "    \n",
    "    # a placeholder to store results for each test\n",
    "    intermediate_results = []\n",
    "    \n",
    "    '''\n",
    "    # loop through each test sizes\n",
    "    for i in range(len(random_number_arrays)):\n",
    "    '''    \n",
    "    # perform the same sorting test several times in order to get the avarage time\n",
    "    num_runs = 10 # number of the tests \n",
    "        \n",
    "    # benchmarking the function \n",
    "    for r in range(num_runs):\n",
    "        \n",
    "        # make a copy of the array to preserve the original unsorted order\n",
    "        ar = random_number_arrays[array].copy()\n",
    "        \n",
    "        \n",
    "        # log the start time (time stamp)\n",
    "        start_time = time.time()\n",
    "    \n",
    "    \n",
    "        ### call the function to be benchmarked\n",
    "        TimSort(ar)\n",
    "\n",
    "        \n",
    "        # log the end time (time stamp)\n",
    "        end_time = time.time()\n",
    "        \n",
    "        # calculate the elapsed time\n",
    "        time_elapsed = end_time - start_time\n",
    "            \n",
    "        #print(\"Time of run\", r+1,\":\", time_elapsed, \"\\n\")\n",
    "    \n",
    "        # for each sorting instance, add the time to the below array\n",
    "        intermediate_results.append(time_elapsed)\n",
    "    \n",
    "    # Average result, added straight to the 'data' dataframe\n",
    "    average_result = np.mean(intermediate_results)\n",
    "    #print(\"Average time of\", num_runs, \"tests:\", average_result)\n",
    "    #print()\n",
    "    \n",
    "    #add the average time to the dataframe\n",
    "    data.loc[array, \"Tim\"] = average_result"
   ]
  },
  {
   "cell_type": "code",
   "execution_count": null,
   "metadata": {},
   "outputs": [],
   "source": []
  },
  {
   "cell_type": "markdown",
   "metadata": {},
   "source": [
    "#### Python built-in sortied() function"
   ]
  },
  {
   "cell_type": "code",
   "execution_count": 15,
   "metadata": {},
   "outputs": [],
   "source": [
    "# the benchmarking algoirithms is based on the lecture materials\n",
    "\n",
    "import time\n",
    "\n",
    "\n",
    "# loop through each array size in data[\"Size\"] column:\n",
    "# data[\"Size\"] = (100, 250, 500, ...)\n",
    "for array in range(len(data[\"Size\"])):\n",
    "    \n",
    "    #print(\"Array #\\t\", array+1, \"\\tSize:\", data.loc[(array),\"Size\"])\n",
    "    \n",
    "    # a placeholder to store results for each test\n",
    "    intermediate_results = []\n",
    "    \n",
    " \n",
    "    # perform the same sorting test several times in order to get the avarage time\n",
    "    num_runs = 10 # number of the tests \n",
    "        \n",
    "    # benchmarking the function \n",
    "    for r in range(num_runs):\n",
    "        \n",
    "        # make a copy of the array to preserve the original unsorted order\n",
    "        ar = random_number_arrays[array].copy()\n",
    "        \n",
    "        \n",
    "        # log the start time (time stamp)\n",
    "        start_time = time.time()\n",
    "    \n",
    "    \n",
    "        ### call the function to be benchmarked\n",
    "        sorted(ar)\n",
    "\n",
    "        \n",
    "        # log the end time (time stamp)\n",
    "        end_time = time.time()\n",
    "        \n",
    "        # calculate the elapsed time\n",
    "        time_elapsed = end_time - start_time\n",
    "            \n",
    "        #print(\"Time of run\", r+1,\":\", time_elapsed, \"\\n\")\n",
    "    \n",
    "        # for each sorting instance, add the time to the below array\n",
    "        intermediate_results.append(time_elapsed)\n",
    "    \n",
    "    # Average result, added straight to the 'data' dataframe\n",
    "    average_result = np.mean(intermediate_results)\n",
    "    #print(\"Average time of\", num_runs, \"tests:\", average_result)\n",
    "    #print()\n",
    "    \n",
    "    #add the average time to the dataframe\n",
    "    data.loc[array, \"Python\"] = average_result"
   ]
  },
  {
   "cell_type": "code",
   "execution_count": null,
   "metadata": {},
   "outputs": [],
   "source": []
  },
  {
   "cell_type": "markdown",
   "metadata": {},
   "source": [
    "### Display the entire dataframe"
   ]
  },
  {
   "cell_type": "code",
   "execution_count": 16,
   "metadata": {},
   "outputs": [],
   "source": [
    "# Apply formating to three decimal places\n",
    "# Source: https://stackoverflow.com/a/42735712\n",
    "pd.options.display.float_format = '{:,.3f}'.format"
   ]
  },
  {
   "cell_type": "code",
   "execution_count": 17,
   "metadata": {},
   "outputs": [
    {
     "data": {
      "text/html": [
       "<div>\n",
       "<style scoped>\n",
       "    .dataframe tbody tr th:only-of-type {\n",
       "        vertical-align: middle;\n",
       "    }\n",
       "\n",
       "    .dataframe tbody tr th {\n",
       "        vertical-align: top;\n",
       "    }\n",
       "\n",
       "    .dataframe thead th {\n",
       "        text-align: right;\n",
       "    }\n",
       "</style>\n",
       "<table border=\"1\" class=\"dataframe\">\n",
       "  <thead>\n",
       "    <tr style=\"text-align: right;\">\n",
       "      <th></th>\n",
       "      <th>Size</th>\n",
       "      <th>Bubble</th>\n",
       "      <th>Quick</th>\n",
       "      <th>Bucket</th>\n",
       "      <th>Merge</th>\n",
       "      <th>Tim</th>\n",
       "      <th>Python</th>\n",
       "    </tr>\n",
       "  </thead>\n",
       "  <tbody>\n",
       "    <tr>\n",
       "      <th>0</th>\n",
       "      <td>100</td>\n",
       "      <td>0.001</td>\n",
       "      <td>0.000</td>\n",
       "      <td>0.000</td>\n",
       "      <td>0.000</td>\n",
       "      <td>0.000</td>\n",
       "      <td>0.000</td>\n",
       "    </tr>\n",
       "    <tr>\n",
       "      <th>1</th>\n",
       "      <td>250</td>\n",
       "      <td>0.011</td>\n",
       "      <td>0.000</td>\n",
       "      <td>0.001</td>\n",
       "      <td>0.001</td>\n",
       "      <td>0.001</td>\n",
       "      <td>0.000</td>\n",
       "    </tr>\n",
       "    <tr>\n",
       "      <th>2</th>\n",
       "      <td>500</td>\n",
       "      <td>0.044</td>\n",
       "      <td>0.001</td>\n",
       "      <td>0.004</td>\n",
       "      <td>0.003</td>\n",
       "      <td>0.002</td>\n",
       "      <td>0.000</td>\n",
       "    </tr>\n",
       "    <tr>\n",
       "      <th>3</th>\n",
       "      <td>750</td>\n",
       "      <td>0.116</td>\n",
       "      <td>0.001</td>\n",
       "      <td>0.006</td>\n",
       "      <td>0.004</td>\n",
       "      <td>0.004</td>\n",
       "      <td>0.000</td>\n",
       "    </tr>\n",
       "    <tr>\n",
       "      <th>4</th>\n",
       "      <td>1000</td>\n",
       "      <td>0.183</td>\n",
       "      <td>0.001</td>\n",
       "      <td>0.008</td>\n",
       "      <td>0.005</td>\n",
       "      <td>0.005</td>\n",
       "      <td>0.000</td>\n",
       "    </tr>\n",
       "    <tr>\n",
       "      <th>5</th>\n",
       "      <td>1500</td>\n",
       "      <td>0.450</td>\n",
       "      <td>0.002</td>\n",
       "      <td>0.017</td>\n",
       "      <td>0.008</td>\n",
       "      <td>0.008</td>\n",
       "      <td>0.000</td>\n",
       "    </tr>\n",
       "    <tr>\n",
       "      <th>6</th>\n",
       "      <td>2000</td>\n",
       "      <td>0.786</td>\n",
       "      <td>0.004</td>\n",
       "      <td>0.033</td>\n",
       "      <td>0.008</td>\n",
       "      <td>0.012</td>\n",
       "      <td>0.000</td>\n",
       "    </tr>\n",
       "    <tr>\n",
       "      <th>7</th>\n",
       "      <td>2500</td>\n",
       "      <td>NaN</td>\n",
       "      <td>0.003</td>\n",
       "      <td>0.052</td>\n",
       "      <td>0.011</td>\n",
       "      <td>0.012</td>\n",
       "      <td>0.000</td>\n",
       "    </tr>\n",
       "    <tr>\n",
       "      <th>8</th>\n",
       "      <td>3750</td>\n",
       "      <td>NaN</td>\n",
       "      <td>0.004</td>\n",
       "      <td>0.117</td>\n",
       "      <td>0.017</td>\n",
       "      <td>0.019</td>\n",
       "      <td>0.000</td>\n",
       "    </tr>\n",
       "    <tr>\n",
       "      <th>9</th>\n",
       "      <td>5000</td>\n",
       "      <td>NaN</td>\n",
       "      <td>0.005</td>\n",
       "      <td>0.214</td>\n",
       "      <td>0.023</td>\n",
       "      <td>0.026</td>\n",
       "      <td>0.001</td>\n",
       "    </tr>\n",
       "    <tr>\n",
       "      <th>10</th>\n",
       "      <td>7500</td>\n",
       "      <td>NaN</td>\n",
       "      <td>0.007</td>\n",
       "      <td>0.502</td>\n",
       "      <td>0.037</td>\n",
       "      <td>0.042</td>\n",
       "      <td>0.001</td>\n",
       "    </tr>\n",
       "    <tr>\n",
       "      <th>11</th>\n",
       "      <td>10000</td>\n",
       "      <td>NaN</td>\n",
       "      <td>0.009</td>\n",
       "      <td>0.850</td>\n",
       "      <td>0.055</td>\n",
       "      <td>0.057</td>\n",
       "      <td>0.001</td>\n",
       "    </tr>\n",
       "    <tr>\n",
       "      <th>12</th>\n",
       "      <td>20000</td>\n",
       "      <td>NaN</td>\n",
       "      <td>0.023</td>\n",
       "      <td>NaN</td>\n",
       "      <td>0.106</td>\n",
       "      <td>0.120</td>\n",
       "      <td>0.003</td>\n",
       "    </tr>\n",
       "    <tr>\n",
       "      <th>13</th>\n",
       "      <td>50000</td>\n",
       "      <td>NaN</td>\n",
       "      <td>0.068</td>\n",
       "      <td>NaN</td>\n",
       "      <td>0.312</td>\n",
       "      <td>0.308</td>\n",
       "      <td>0.007</td>\n",
       "    </tr>\n",
       "  </tbody>\n",
       "</table>\n",
       "</div>"
      ],
      "text/plain": [
       "     Size Bubble Quick Bucket Merge   Tim Python\n",
       "0     100  0.001 0.000  0.000 0.000 0.000  0.000\n",
       "1     250  0.011 0.000  0.001 0.001 0.001  0.000\n",
       "2     500  0.044 0.001  0.004 0.003 0.002  0.000\n",
       "3     750  0.116 0.001  0.006 0.004 0.004  0.000\n",
       "4    1000  0.183 0.001  0.008 0.005 0.005  0.000\n",
       "5    1500  0.450 0.002  0.017 0.008 0.008  0.000\n",
       "6    2000  0.786 0.004  0.033 0.008 0.012  0.000\n",
       "7    2500    NaN 0.003  0.052 0.011 0.012  0.000\n",
       "8    3750    NaN 0.004  0.117 0.017 0.019  0.000\n",
       "9    5000    NaN 0.005  0.214 0.023 0.026  0.001\n",
       "10   7500    NaN 0.007  0.502 0.037 0.042  0.001\n",
       "11  10000    NaN 0.009  0.850 0.055 0.057  0.001\n",
       "12  20000    NaN 0.023    NaN 0.106 0.120  0.003\n",
       "13  50000    NaN 0.068    NaN 0.312 0.308  0.007"
      ]
     },
     "execution_count": 17,
     "metadata": {},
     "output_type": "execute_result"
    }
   ],
   "source": [
    "data"
   ]
  },
  {
   "cell_type": "code",
   "execution_count": null,
   "metadata": {},
   "outputs": [],
   "source": []
  },
  {
   "cell_type": "markdown",
   "metadata": {},
   "source": [
    "### Data visualisation"
   ]
  },
  {
   "cell_type": "markdown",
   "metadata": {},
   "source": [
    "The results of the benchmarking analysis are plotted below in a chart. The x-axis represents the size of the input array, and the y-axis - time it took to sort the array. Each sorting algorithm is shown in a different colour."
   ]
  },
  {
   "cell_type": "code",
   "execution_count": 18,
   "metadata": {},
   "outputs": [],
   "source": [
    "import matplotlib.pyplot as plt \n",
    "import seaborn as sns\n",
    "import scipy.stats as stats\n",
    "\n",
    "# below command will allow for the plots being displayed inside the Notebook, rather than in a separate screen.\n",
    "%matplotlib inline"
   ]
  },
  {
   "cell_type": "code",
   "execution_count": null,
   "metadata": {},
   "outputs": [],
   "source": []
  },
  {
   "cell_type": "code",
   "execution_count": 19,
   "metadata": {},
   "outputs": [
    {
     "data": {
      "image/png": "[encoded data removed]",
      "text/plain": [
       "<Figure size 432x288 with 1 Axes>"
      ]
     },
     "metadata": {
      "needs_background": "light"
     },
     "output_type": "display_data"
    }
   ],
   "source": [
    "plt.plot(data['Size'], data['Bubble'], label='Bubble Sort')\n",
    "plt.plot(data['Size'], data['Quick'], label='Quick Sort')\n",
    "plt.plot(data['Size'], data['Bucket'], label='Bucket Sort')\n",
    "plt.plot(data['Size'], data['Merge'], label='Merge Sort')\n",
    "plt.plot(data['Size'], data['Tim'], label='Tim Sort')\n",
    "plt.plot(data['Size'], data['Python'], label='Python Sort')\n",
    "\n",
    "# Adding some nice labels \n",
    "plt.xlabel(\"Input Size\") \n",
    "plt.ylabel(\"Time, seconds\")\n",
    "plt.legend()\n",
    "plt.show()"
   ]
  },
  {
   "cell_type": "code",
   "execution_count": null,
   "metadata": {},
   "outputs": [],
   "source": []
  },
  {
   "cell_type": "markdown",
   "metadata": {},
   "source": [
    "___\n",
    "## Discussion / Findings"
   ]
  },
  {
   "cell_type": "code",
   "execution_count": null,
   "metadata": {},
   "outputs": [],
   "source": []
  },
  {
   "cell_type": "code",
   "execution_count": null,
   "metadata": {},
   "outputs": [],
   "source": []
  },
  {
   "cell_type": "markdown",
   "metadata": {},
   "source": [
    "___\n",
    "## References"
   ]
  },
  {
   "cell_type": "markdown",
   "metadata": {},
   "source": [
    "### Sorting Algorithms\n",
    "\n",
    "* Lectures materials [online] Available at: https://learnonline.gmit.ie/course/view.php?id=1696 [Accessed April 2020].\n",
    "* Quicksort tutorial - Codementor Community [online] Available at: https://www.codementor.io/@garethdwyer/quicksort-tutorial-python-implementation-with-line-by-line-explanation-p9h7jd3r6 [Accessed April 2020].\n",
    "* Analysis of Algorithms - Big O Analysis  - Geeks for Geeks [online] Available at: https://www.geeksforgeeks.org/analysis-algorithms-big-o-analysis/ [Accessed April 2020].\n",
    "* Analysis of of different sorting techniques  - Geeks for Geeks [online] Available at: https://www.geeksforgeeks.org/analysis-of-different-sorting-techniques/ [Accessed April 2020].\n",
    "* Asymptotic Analysis and comparison of sorting algorithms - Geeks for Geeks [online] Available at: https://www.geeksforgeeks.org/asymptotic-analysis-comparison-sorting-algorithms/ [Accessed April 2020].\n",
    "* Sorting, how to - Python documentation [online] Available at: https://docs.python.org/3/howto/sorting.html [Accessed April 2020].\n",
    "* Python's built in sort() function source code [online] Available at: https://github.com/python/cpython/blob/master/Objects/listobject.c [Accessed April 2020].\n",
    "* A tour of the top 5 sorting algorithms with Python code - Medium [online] Available at: https://medium.com/@george.seif94/a-tour-of-the-top-5-sorting-algorithms-with-python-code-43ea9aa02889 [Accessed April 2020].\n",
    "* Sorting Algorithms - Free Code Camp [online] Available at: https://guide.freecodecamp.org/algorithms/sorting-algorithms/ [Accessed April 2020].\n",
    "* Big O notation - Wikipedia [online] Available at: https://en.wikipedia.org/wiki/Big_O_notation [Accessed April 2020].\n",
    "* Sorting Algorithm - Wikipedia [online] Available at: https://en.wikipedia.org/wiki/Sorting_algorithm [Accessed April 2020].\n",
    "* Sorting Algorithms Demonstration in Java [online] Available at: http://home.westman.wave.ca/~rhenry/sort/#flashsort [Accessed April 2020].\n",
    "* Sorting Algorithms in Python [online] Available at: https://stackabuse.com/sorting-algorithms-in-python/ [Accessed April 2020].\n",
    "\n",
    "* Bubble Sort - Wikipedia [online] Available at: https://en.wikipedia.org/wiki/Bubble_sort [Accessed April 2020].\n",
    "\n",
    "* Bucket Sort - Programiz [online] Available at: https://www.programiz.com/dsa/bucket-sort [Accessed April 2020].\n",
    "* Bucket Sort - Geeks for Geeks [online] Available at: https://www.geeksforgeeks.org/bucket-sort-2/ [Accessed April 2020].\n",
    "\n",
    "* Timsort - Wikipedia [online] Available at: https://en.wikipedia.org/wiki/Timsort [Accessed April 2020].\n",
    "* Python bug tracker - Timsort [online] Available at: https://bugs.python.org/file4451/timsort.txt [Accessed April 2020].\n",
    "\n",
    "\n"
   ]
  },
  {
   "cell_type": "markdown",
   "metadata": {},
   "source": [
    "### Sorting Algorithm Visualisations\n",
    "* Visualising Sorting [online] Available at: https://corte.si/posts/code/visualisingsorting/index.html [Accessed April 2020].\n",
    "* Sorting Algorithm Animations [online] Available at: https://www.toptal.com/developers/sorting-algorithms [Accessed April 2020].\n",
    "* Visualising Python's Timsort [online] Available at: https://corte.si/posts/code/timsort/index.html [Accessed April 2020].\n",
    "\n",
    "* Hilbert Curve + Sorting Algorithms + Procrastination = ? [online] Available at: https://corte.si/posts/code/sortvis-fruitsalad/index.html [Accessed April 2020].\n",
    "* Timsort - a study in grayscale [online] Available at: https://corte.si/posts/code/timsort-grayscale/index.html [Accessed April 2020].\n"
   ]
  },
  {
   "cell_type": "markdown",
   "metadata": {},
   "source": [
    "### Data analysis\n",
    "* Google [online] Available at: https://google.com [Accessed April 2020].\n"
   ]
  },
  {
   "cell_type": "markdown",
   "metadata": {},
   "source": [
    "___"
   ]
  },
  {
   "cell_type": "markdown",
   "metadata": {},
   "source": [
    "Andrzej Kocielski, 2020"
   ]
  }
 ],
 "metadata": {
  "kernelspec": {
   "display_name": "Python 3",
   "language": "python",
   "name": "python3"
  },
  "language_info": {
   "codemirror_mode": {
    "name": "ipython",
    "version": 3
   },
   "file_extension": ".py",
   "mimetype": "text/x-python",
   "name": "python",
   "nbconvert_exporter": "python",
   "pygments_lexer": "ipython3",
   "version": "3.7.5"
  },
  "toc-autonumbering": true
 },
 "nbformat": 4,
 "nbformat_minor": 4
}
