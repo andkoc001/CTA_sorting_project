{
 "cells": [
  {
   "cell_type": "markdown",
   "metadata": {},
   "source": [
    "# Benchmarking sorting algorithms\n",
    "This is part of the final project assignment for Computational Thinking with Algorithms module, GMIT 2020.\n",
    "\n",
    "Lecturer: dr Dominic Carr\n",
    "\n",
    ">Author: **Andrzej Kocielski**  \n",
    ">Github: [andkoc001](https://github.com/andkoc001/)  \n",
    ">Email: G00376291@gmit.ie, and.koc001@gmail.com\n"
   ]
  },
  {
   "cell_type": "markdown",
   "metadata": {},
   "source": [
    "<figure>\n",
    "  <img src=\"https://upload.wikimedia.org/wikipedia/commons/7/7e/Comparison_computational_complexity.svg\" alt=\"Big O notation\" style=\"width:400px\">\n",
    "  <figcaption>Image source: Wikipedia.</figcaption>\n",
    "</figure>"
   ]
  },
  {
   "cell_type": "markdown",
   "metadata": {},
   "source": [
    "___\n",
    "### Content\n",
    "\n",
    "1. Introduction\n",
    "2. Sorting algorithms\n",
    "3. Benchmarking\n",
    "4. Data analysis\n",
    "5. Discussion\n",
    "6. References\n",
    " "
   ]
  },
  {
   "cell_type": "markdown",
   "metadata": {},
   "source": [
    "**Below is to be deleted**\n",
    "\n",
    "Ideas:\n",
    "- discuss terms:\n",
    "    - sorting\n",
    "    - efficiency (time efficiency only considered in this project)\n",
    "    - best-, average- and worst-case time complexity\n",
    "    - comparison\n",
    "    - stability\n",
    "    - inversion\n",
    "    - sort key data (satellite data neglected in this analysis)\n",
    "    - in-place sorting   \n"
   ]
  },
  {
   "cell_type": "markdown",
   "metadata": {},
   "source": [
    "___"
   ]
  },
  {
   "cell_type": "markdown",
   "metadata": {},
   "source": [
    "## Introduction"
   ]
  },
  {
   "cell_type": "markdown",
   "metadata": {},
   "source": [
    "### Sorting algorithms selected for testing\n",
    "\n",
    "For this project a Python application is written which will be used to benchmark five different sorting algorithms. \n",
    "\n",
    "The five sorting algorithms are selected to satisfy the project specification, that is according to the following criteria:\n",
    "\n",
    "1. A simple comparison-based sort - I have chosen to analyse the **Bubble Sort**, Selection Sort or Insertion Sort - TBD\n",
    "2. An efficient comparison-based sort - I have chosen to analyse the Merge Sort, **Quicksort** or Heap Sort - TBD\n",
    "3. A non-comparison sort - I have chosen to analyse the **Bucket Sort** or Radix Sort - TBD\n",
    "\n",
    "The remaining two algorithms were left to my choice:\n",
    "\n",
    "4. An efficient sort (**Merge Sort** or Heap Sort) - TBD\n",
    "5. A hybrid sort (**Timsort** or Introsort) - TBD\n",
    "6. Extra - a Python built-in sorting algorithm: the sort() or **sorted()** (a Timsort implementation) - TBD\n",
    "\n",
    "\n",
    "Each of the selected algorithms are briefly described followed by the algorithms implementation and benchmarking. Finally, at the end of the report, there is the discussion of the results of the benchmarking process and findings.\n",
    "\n",
    "\n",
    "The following algorithms were selected for benchmarking analysis:\n",
    "\n",
    "1. **Bubble Sort**\n",
    "2. **Quicksort**\n",
    "3. **Bucket Sort**\n",
    "4. **Merge Sort**\n",
    "5. **Tim Sort**\n"
   ]
  },
  {
   "cell_type": "markdown",
   "metadata": {},
   "source": [
    "### Credits\n",
    "..."
   ]
  },
  {
   "cell_type": "markdown",
   "metadata": {},
   "source": [
    "___\n"
   ]
  },
  {
   "cell_type": "markdown",
   "metadata": {},
   "source": [
    "## Bubble Sort\n",
    "### Algorithm description\n",
    "...\n"
   ]
  },
  {
   "cell_type": "code",
   "execution_count": 42,
   "metadata": {},
   "outputs": [
    {
     "name": "stdout",
     "output_type": "stream",
     "text": [
      "[5, 2, 1, 8, 4]\n",
      "[1, 2, 4, 5, 8]\n"
     ]
    }
   ],
   "source": [
    "##### Credits #####\n",
    "# Source: https://stackabuse.com/sorting-algorithms-in-python/\n",
    "\n",
    "def bubble_sort(array):\n",
    "    # We set swapped to True so the loop looks runs at least once\n",
    "    swapped = True\n",
    "    while swapped:\n",
    "        swapped = False\n",
    "        for i in range(len(array) - 1):\n",
    "            if array[i] > array[i + 1]:\n",
    "                # Swap the elements\n",
    "                array[i], array[i + 1] = array[i + 1], array[i]\n",
    "                # Set the flag to True so we'll loop again\n",
    "                swapped = True\n",
    "\n",
    "\n",
    "# Verify it works\n",
    "random_list_of_nums = [5, 2, 1, 8, 4]\n",
    "print(random_list_of_nums)\n",
    "bubble_sort(random_list_of_nums)\n",
    "print(random_list_of_nums)"
   ]
  },
  {
   "cell_type": "code",
   "execution_count": null,
   "metadata": {},
   "outputs": [],
   "source": []
  },
  {
   "cell_type": "markdown",
   "metadata": {},
   "source": [
    "## Quicksort\n",
    "### Algorithm description\n",
    "...\n",
    "\n",
    "\n"
   ]
  },
  {
   "cell_type": "markdown",
   "metadata": {},
   "source": [
    "<figure>\n",
    "  <img src=\"https://upload.wikimedia.org/wikipedia/commons/6/6a/Sorting_quicksort_anim.gif\"  alt=\"Quick sort visualisation\" style=\"width:400px; height:200px\">\n",
    "  <figcaption>Image source: Wikipedia.</figcaption>\n",
    "</figure>"
   ]
  },
  {
   "cell_type": "markdown",
   "metadata": {},
   "source": [
    "### Algorithm implementation\n",
    "Based on https://youtu.be/u4tVQszsyEQ"
   ]
  },
  {
   "cell_type": "code",
   "execution_count": 37,
   "metadata": {},
   "outputs": [
    {
     "name": "stdout",
     "output_type": "stream",
     "text": [
      "[0, 1, 2, 3, 5, 7, 9]\n"
     ]
    }
   ],
   "source": [
    "##### Credits #####\n",
    "# Source: https://youtu.be/u4tVQszsyEQ\n",
    "# Comments added by myself (AK)\n",
    "\n",
    "##### Function definition #####\n",
    "# Function performing the quick sort; it takes a list to be sorted as an argument\n",
    "def sortowanie_szybkie(lista):\n",
    "    \n",
    "    # creation of empty lists\n",
    "    mniejsze = [] # less than the pivot\n",
    "    rowne = [] # equal to the pivot\n",
    "    wieksze =[] # greater than the pivot\n",
    "    \n",
    "    # base case of the recursion \n",
    "    # check whether the list is more than one element long (otherwise, one-element list is considered to be sorted)\n",
    "    if len(lista) <= 1:\n",
    "        return lista\n",
    "    \n",
    "    # recursion algorithm for a list that holds more than one element\n",
    "    else: \n",
    "        # set the pivot value at the middle element of the list\n",
    "        middle = (len(lista))//2\n",
    "        pivot = lista[middle]\n",
    "        \n",
    "        # let's consider three cases for each element of the list\n",
    "        for x in lista:\n",
    "            # case #1 - the current element is greater than the pivot\n",
    "            if x > pivot:\n",
    "                wieksze.append(x) # add the current element to the list \"wieksze\"\n",
    "            # case #2 - the current element is equal to the pivot\n",
    "            elif x == pivot:\n",
    "                rowne.append(x) # add the current element to the list \"rowne\"\n",
    "            # case #3 - the current element is less than the pivot\n",
    "            else:\n",
    "                mniejsze.append(x) # add the current element to the list \"mniejsze\"\n",
    "        \n",
    "        # as a result of the above loop, the function will return:\n",
    "        # in the middle: the element(s) that has just been sorted, i.e. equal to the pivot(?) (as well as those sorted on previous recurses)\n",
    "        # on the left-hand side: elements that are less than the pivot - still unsorted, therefore the same function is called recursively (with the \"mniejsze\" list as an argument)\n",
    "        # on the the right-hand side: elements that are greater than the pivot - still unsorted, therefore the same function is called recursively (with the \"wieksze\" list as an argument)\n",
    "        \n",
    "        return sortowanie_szybkie(mniejsze) + rowne + sortowanie_szybkie(wieksze)\n",
    "        \n",
    "l = [3,1,0,9,2,7,5]\n",
    "print(sortowanie_szybkie(l))"
   ]
  },
  {
   "cell_type": "code",
   "execution_count": 19,
   "metadata": {},
   "outputs": [
    {
     "data": {
      "text/plain": [
       "9"
      ]
     },
     "execution_count": 19,
     "metadata": {},
     "output_type": "execute_result"
    }
   ],
   "source": [
    "l = [3,6,0,9,2,7,5]\n",
    "lista[(len(lista))//2]"
   ]
  },
  {
   "cell_type": "code",
   "execution_count": null,
   "metadata": {},
   "outputs": [],
   "source": []
  },
  {
   "cell_type": "markdown",
   "metadata": {},
   "source": [
    "## Bucket Sort\n",
    "### Algorithm description\n",
    "...\n"
   ]
  },
  {
   "cell_type": "code",
   "execution_count": 9,
   "metadata": {},
   "outputs": [
    {
     "name": "stdout",
     "output_type": "stream",
     "text": [
      "Original list: [20, 18, 0, 37, 22, 7, 5, 20, 45, 8, 13, 17]\n",
      "Sorted unto the buckets: [[0, 7, 5], [8, 13], [20, 18, 22, 20, 17], [], [37], [45]]\n",
      "Post sorting:  [0, 5, 7, 8, 13, 17, 18, 20, 20, 22, 37, 45]\n"
     ]
    }
   ],
   "source": [
    "import math\n",
    "\n",
    "# define the function, which takes as an argument the array to be sorted\n",
    "# own implementation, developed based on pseudocode from https://youtu.be/geVyIsFpxUs\n",
    "def bucket_sort(arr):\n",
    "\n",
    "    print(\"Original list:\", arr) # for testing\n",
    "    \n",
    "    # number of buckets\n",
    "    n_buckets = 6 # assumed arbitrarily\n",
    "\n",
    "    # create an empty array of buckets, where each bucket is also an empty array\n",
    "    bucket = []\n",
    "    for i in range(n_buckets):\n",
    "        bucket.append([])\n",
    "        \n",
    "    # define a divider which will be used for sorting; divider is the value of the maximum element of the array to be sorted divided by number of buckets\n",
    "    divider = math.ceil((max(arr)+1)/n_buckets)\n",
    "    # divider = 10 # alternatively to the above line, it can be just assumed arbitrarily\n",
    "\n",
    "    \n",
    "    # sorting the array's element into the buckets (unsorted)\n",
    "    # loop through the array\n",
    "    for i in arr:\n",
    "        # determine into which bucket index will fall each element of the arrey\n",
    "        j = i//divider\n",
    "        # put the current i-element of the array to the corresponding bucket\n",
    "        bucket[j].append(i)\n",
    "        \n",
    "    print(\"Sorted unto the buckets:\", bucket) # for testing\n",
    "        \n",
    "    # put sorted content of each bucket into a single array (concatenate single buckets)\n",
    "    # adopted from https://gist.github.com/sahid/5022081\n",
    "    sorted_result = []\n",
    "    for i in range(n_buckets):\n",
    "        # adding the sorted content of each bucket to the resulting array, using the insertionSort function iteratively for each bucket\n",
    "        sorted_result += insertionSort(bucket[i])\n",
    "    return sorted_result \n",
    "\n",
    "\n",
    "# sorting the content of each bucket, using the insert sort\n",
    "# Source: https://www.geeksforgeeks.org/bucket-sort-2/\n",
    "def insertionSort(b): \n",
    "    for i in range(1, len(b)): \n",
    "        up = b[i] \n",
    "        j = i - 1\n",
    "        while j >=0 and b[j] > up:  \n",
    "            b[j + 1] = b[j] \n",
    "            j -= 1\n",
    "        b[j + 1] = up      \n",
    "    return b   \n",
    "        \n",
    "arr = [20, 18, 0, 37, 22, 7, 5, 20, 45, 8, 13, 17]\n",
    "print(\"Post sorting: \", bucket_sort(arr))"
   ]
  },
  {
   "cell_type": "code",
   "execution_count": null,
   "metadata": {},
   "outputs": [],
   "source": []
  },
  {
   "cell_type": "markdown",
   "metadata": {},
   "source": [
    "## Merge Sort\n",
    "### Algorithm description\n",
    "..."
   ]
  },
  {
   "cell_type": "code",
   "execution_count": null,
   "metadata": {},
   "outputs": [],
   "source": [
    "##### Credits #####\n",
    "# Source: https://stackabuse.com/sorting-algorithms-in-python/#selectionsort\n",
    "\n",
    "def merge(left_list, right_list):\n",
    "    sorted_list = []\n",
    "    left_list_index = right_list_index = 0\n",
    "\n",
    "    # We use the list lengths often, so its handy to make variables\n",
    "    left_list_length, right_list_length = len(left_list), len(right_list)\n",
    "\n",
    "    for _ in range(left_list_length + right_list_length):\n",
    "        if left_list_index < left_list_length and right_list_index < right_list_length:\n",
    "            # We check which value from the start of each list is smaller\n",
    "            # If the item at the beginning of the left list is smaller, add it\n",
    "            # to the sorted list\n",
    "            if left_list[left_list_index] <= right_list[right_list_index]:\n",
    "                sorted_list.append(left_list[left_list_index])\n",
    "                left_list_index += 1\n",
    "            # If the item at the beginning of the right list is smaller, add it\n",
    "            # to the sorted list\n",
    "            else:\n",
    "                sorted_list.append(right_list[right_list_index])\n",
    "                right_list_index += 1\n",
    "\n",
    "        # If we've reached the end of the of the left list, add the elementsgit s\n",
    "        # from the right list\n",
    "        elif left_list_index == left_list_length:\n",
    "            sorted_list.append(right_list[right_list_index])\n",
    "            right_list_index += 1\n",
    "        # If we've reached the end of the of the right list, add the elements\n",
    "        # from the left list\n",
    "        elif right_list_index == right_list_length:\n",
    "            sorted_list.append(left_list[left_list_index])\n",
    "            left_list_index += 1\n",
    "\n",
    "    return sorted_list\n",
    "\n",
    "\n",
    "def merge_sort(nums):\n",
    "    # If the list is a single element, return it\n",
    "    if len(nums) <= 1:\n",
    "        return nums\n",
    "\n",
    "    # Use floor division to get midpoint, indices must be integers\n",
    "    mid = len(nums) // 2\n",
    "\n",
    "    # Sort and merge each half\n",
    "    left_list = merge_sort(nums[:mid])\n",
    "    right_list = merge_sort(nums[mid:])\n",
    "\n",
    "    # Merge the sorted lists into a new one\n",
    "    return merge(left_list, right_list)\n",
    "\n",
    "\n",
    "# Verify it works\n",
    "random_list_of_nums = [120, 45, 68, 250, 176]\n",
    "random_list_of_nums = merge_sort(random_list_of_nums)\n",
    "print(random_list_of_nums)"
   ]
  },
  {
   "cell_type": "code",
   "execution_count": null,
   "metadata": {},
   "outputs": [],
   "source": []
  },
  {
   "cell_type": "code",
   "execution_count": null,
   "metadata": {},
   "outputs": [],
   "source": []
  },
  {
   "cell_type": "markdown",
   "metadata": {},
   "source": [
    "## Timsort\n",
    "### Algorithm description\n",
    "...\n"
   ]
  },
  {
   "cell_type": "code",
   "execution_count": 60,
   "metadata": {},
   "outputs": [
    {
     "name": "stdout",
     "output_type": "stream",
     "text": [
      "[99, 77, 53, 28, 71, 84, 96, 47, 32, 89, 62, 5, 60, 35, 13, 59, 86, 30, 82, 41, 4, 42, 68, 96, 51, 94, 88, 6, 31, 19, 61, 92, 75, 69, 5, 100, 14, 74, 100, 96, 54, 62, 92, 57, 83, 99, 95, 5, 58, 10, 57, 3, 15, 54, 58, 49, 16, 84, 48, 38, 90, 90, 11, 18, 94, 48, 9, 55, 96, 92, 6, 9, 45, 38, 76, 27, 73, 69, 95, 44, 82, 83, 50, 94, 22, 57, 65, 63, 0, 37, 97, 71, 74, 86, 29, 41, 86, 3, 41, 65]\n",
      "\n",
      "[0, 3, 3, 4, 5, 5, 5, 6, 6, 9, 9, 10, 11, 13, 14, 15, 16, 18, 19, 22, 27, 28, 29, 30, 31, 32, 35, 37, 38, 38, 41, 41, 41, 42, 44, 45, 47, 48, 48, 49, 50, 51, 53, 54, 54, 55, 57, 57, 57, 58, 58, 59, 60, 61, 62, 62, 63, 65, 65, 68, 69, 69, 71, 71, 73, 74, 74, 75, 76, 77, 82, 82, 83, 83, 84, 84, 86, 86, 86, 88, 89, 90, 90, 92, 92, 92, 94, 94, 94, 95, 95, 96, 96, 96, 96, 97, 99, 99, 100, 100]\n"
     ]
    }
   ],
   "source": [
    "##### Credits #####\n",
    "# Based on https://quinston.com/code-snippets/\n",
    "# my own comments\n",
    "\n",
    "import random\n",
    "\n",
    "# Insert Sort algorithm\n",
    "# Function InsertionSort() takes one argument - an array\n",
    "def InsertionSort(array):\n",
    "\n",
    "    for x in range (1, len(array)):\n",
    "        for i in range(x, 0, -1):\n",
    "            if array[i] < array[i - 1]:\n",
    "                t = array[i]\n",
    "                array[i] = array[i - 1]\n",
    "                array[i - 1] = t\n",
    "            else:\n",
    "                break\n",
    "            i = i - 1\n",
    "    return array\n",
    "\n",
    "\n",
    "# Merge Sort implementation\n",
    "# The Merge() function takes two arguments - two arrays - and merge them together. The function returns yet another array\n",
    "def Merge(aArr, bArr):\n",
    "    \n",
    "    a = 0 # a is a pointer (index position) of aArr array\n",
    "    b = 0 # b is a pointer of bArr array\n",
    "    \n",
    "    # placeholder - an empty array cArr which will be holding sorted values of aArr and bArr arrays\n",
    "    cArr = []\n",
    "\n",
    "    # end of loop codition:\n",
    "    while a < len(aArr) and b < len(bArr):\n",
    "        # check if a-element of array aArr is less than b-element of array bArr\n",
    "        if aArr[a] < bArr[b]:\n",
    "            cArr.append(aArr[a]) # if the condition is satisfied, assign the value of a-element to cArr array\n",
    "            a = a + 1 # move the pointer to the next aArr array index\n",
    "            \n",
    "        elif aArr[a] > bArr[b]:\n",
    "            cArr.append(bArr[b])\n",
    "            b = b + 1\n",
    "        \n",
    "        # in case the a-element of aArra and b-element of bArr are equal\n",
    "        else:\n",
    "            cArr.append(aArr[a])\n",
    "            cArr.append(bArr[b])\n",
    "            a = a + 1\n",
    "            b = b + 1\n",
    "    \n",
    "    # when there are no left elements from bArr to compare with aArr, the remaining elements from aArr are appended at the end of cArr array\n",
    "    while a < len(aArr):\n",
    "        cArr.append(aArr[a])\n",
    "        a = a + 1\n",
    "\n",
    "    while b < len(bArr):\n",
    "        cArr.append(bArr[b])\n",
    "        b = b + 1\n",
    "\n",
    "    # function returns merged the two arrays, sorted\n",
    "    return cArr\n",
    "\n",
    "\n",
    "# Implementation of the TimSort sorting algorithm\n",
    "# Funtion TimSort divides the array to be sorted (arr) into smaller chunks of size RUN. The variable RUN is defined outside the funtion body, prior to its first call.\n",
    "def TimSort(a):\n",
    "\n",
    "    # divide the array into chunks\n",
    "    for x in range(0, len(arr), RUN): # loop starting from index 0, to the last element of the array, with incrementing step size RUN; note the value of len(arr) is excluded from the loop\n",
    "        # arr[x : x + RUN] is the current slice of the array (from x to x+RUN)\n",
    "        # values of the current array slice are transfered (passed) to InsertionSort function; the return from the InsertionSort is already sorted array assigned to the original slice\n",
    "        arr[x : x + RUN] = InsertionSort(arr[x : x + RUN])\n",
    "    \n",
    "    # merging the already sortd slices of the array\n",
    "    # create an auxiliary variable     \n",
    "    RUNinc = RUN\n",
    "    # define loop termination condition\n",
    "    while RUNinc < len(arr):\n",
    "        \n",
    "        # the array is divided into pairs of neighbouring slices and passed to Merge() function\n",
    "        for x in range(0, len(arr), 2 * RUNinc):\n",
    "            # the return from the Merge() function is assigned to the slice (size of 2xRUN) original array\n",
    "            arr[x : x + 2 * RUNinc] = Merge(arr[x : x + RUNinc], arr[x + RUNinc: x + 2 * RUNinc])\n",
    "        RUNinc = RUNinc * 2\n",
    "\n",
    "# generate the list of elements - variable arr \n",
    "# create an empty list\n",
    "arr = []\n",
    "# populate the arr list with randomly generated numbers\n",
    "for x in range(0, 100): # how many elements of the list? \n",
    "    arr.append(random.randint(0, 100)) # integer numbers from 0 to 100\n",
    "\n",
    "\n",
    "print(arr)\n",
    "print()\n",
    "RUN = 32    \n",
    "TimSort(arr)\n",
    "\n",
    "print(arr)\n"
   ]
  },
  {
   "cell_type": "code",
   "execution_count": null,
   "metadata": {},
   "outputs": [],
   "source": []
  },
  {
   "cell_type": "markdown",
   "metadata": {},
   "source": [
    "____\n",
    "## Benchmarking the sorting algorithms"
   ]
  },
  {
   "cell_type": "markdown",
   "metadata": {},
   "source": [
    "### Benchmarking algorithm"
   ]
  },
  {
   "cell_type": "code",
   "execution_count": null,
   "metadata": {},
   "outputs": [],
   "source": []
  },
  {
   "cell_type": "code",
   "execution_count": null,
   "metadata": {},
   "outputs": [],
   "source": []
  },
  {
   "cell_type": "markdown",
   "metadata": {},
   "source": [
    "___\n",
    "## Data analysis"
   ]
  },
  {
   "cell_type": "markdown",
   "metadata": {},
   "source": [
    "### Setting the scene \n",
    "\n",
    "The project is about timing, that is measuring the time required for execution, the selected sorting algorithms. \n",
    "\n",
    "From the project brief:\n",
    ">To benchmark the algorithms, you should use arrays of randomly generated integers with different\n",
    "input sizes n. You should use a variety of different input sizes, e.g. n=10,n=100,n=500,...,n=10,000\n",
    "etc. to test the effect of the input size on the running time of each algorithm. See the console output\n",
    "below for a selection of suggested sizes of n. You may test values of n which are higher than 10,000 if\n",
    "you wish, e.g. 500,000. Just be aware that algorithms such as Bubble Sort may take a long time to\n",
    "run when using large values of n!\n",
    "\n"
   ]
  },
  {
   "cell_type": "markdown",
   "metadata": {},
   "source": [
    "#### Python environment setup\n",
    "The following external Python libraries were used in the project for building and analysing the dataset."
   ]
  },
  {
   "cell_type": "code",
   "execution_count": 11,
   "metadata": {},
   "outputs": [],
   "source": [
    "import numpy as np\n",
    "import pandas as pd"
   ]
  },
  {
   "cell_type": "markdown",
   "metadata": {},
   "source": [
    "#### Dataset attributes\n",
    "\n",
    "The times for each algorithm and size of the array being sorted is recorded and stored in a a form of a data table. The dataset is organised into columns corresponding to the sorting algorithms, and rows, representing the size of the array. The type of the dataset is Pandas' DataFrame, and is assigned to the variable `data`.\n",
    "\n",
    "Below I am creating an empty dataset with the following headings only. Subsequently, the value of time for each algorithm and array size will be added to the dataset. Time will be shown in seconds.\n",
    "* Size - the size of the array, \n",
    "* Bubble - Bubble sort algorithm,\n",
    "* Quick - Quicksort,\n",
    "* Bucket - Bucket sort,\n",
    "* Merge - Merge sort,\n",
    "* Tim - Timsort,\n",
    "* Python - Python's built in method sorted() - for comparison."
   ]
  },
  {
   "cell_type": "code",
   "execution_count": 146,
   "metadata": {},
   "outputs": [],
   "source": [
    "# creation of empty data (just headings)\n",
    "data = pd.DataFrame(columns = [\"Size\", \"Bubble\", \"Quick\", \"Bucket\", \"Merge\", \"Tim\", \"Python\"]) \n",
    "\n",
    "# data.head() # for testing"
   ]
  },
  {
   "cell_type": "markdown",
   "metadata": {},
   "source": [
    "#### Size of the array\n",
    "\n",
    "The size of the array to be sorted is assumed arbitrarily, based on the project brief. "
   ]
  },
  {
   "cell_type": "code",
   "execution_count": 155,
   "metadata": {},
   "outputs": [],
   "source": [
    "# adding values of the size column to the dataset\n",
    "#data[\"Size\"] = (100, 250, 500, 750, 1000, 1500, 2000, 2500, 3750, 5000, 7500, 10000)\n",
    "data[\"Size\"] = (5, 10, 15, 20, 25) # for testing only"
   ]
  },
  {
   "cell_type": "code",
   "execution_count": null,
   "metadata": {},
   "outputs": [],
   "source": []
  },
  {
   "cell_type": "markdown",
   "metadata": {},
   "source": [
    "#### Random data arrays \n",
    "\n",
    "The sorting task is performed on a array of a given size. The arrays consist of integer numbers generated in a range from 0 to 99. In order to make the benchmarking more accurate, the each test will be repeated ten times and the average of the measured times will be added to the dataframe. \n",
    "\n",
    "For each of the selected array sizes, ten different arrays will be generated and stored for the analysis. Exactly the same arrays will be used for timing the sorting algorithms."
   ]
  },
  {
   "cell_type": "code",
   "execution_count": 174,
   "metadata": {},
   "outputs": [],
   "source": [
    "# generating arrays of random numbers\n",
    "# based on algorithm provided in the project brief\n",
    "def random_array(size): \n",
    "    # create an empty array\n",
    "    array = []\n",
    "    # populate the arr list with randomly generated numbers\n",
    "    for i in range(size):\n",
    "        array.append(np.random.randint(0, 100)) # random integer numbers in range from 0 to 99\n",
    "    return array\n",
    "\n",
    "# print(random_array(data.iloc[0,0]))"
   ]
  },
  {
   "cell_type": "code",
   "execution_count": 181,
   "metadata": {},
   "outputs": [
    {
     "name": "stdout",
     "output_type": "stream",
     "text": [
      "5\n",
      "[25, 89, 21, 70, 38]\n",
      "10\n",
      "[45, 22, 46, 38, 0, 18, 58, 38, 76, 11]\n",
      "15\n",
      "[37, 77, 85, 85, 30, 84, 81, 54, 6, 30, 79, 20, 25, 72, 84]\n",
      "20\n",
      "[36, 21, 95, 59, 23, 71, 97, 38, 66, 65, 54, 52, 0, 65, 73, 2, 98, 73, 97, 92]\n",
      "25\n",
      "[88, 83, 47, 82, 42, 42, 35, 46, 61, 4, 8, 96, 59, 24, 57, 92, 9, 12, 63, 59, 14, 91, 46, 25, 14]\n"
     ]
    }
   ],
   "source": [
    "# generation of arrays for each test sizes\n",
    "\n",
    "# data[\"Size\"] = (5, 10, 15, 20, 25)\n",
    "for array in data[\"Size\"]:\n",
    "    print(array)\n",
    "    print(random_array(array))"
   ]
  },
  {
   "cell_type": "code",
   "execution_count": null,
   "metadata": {},
   "outputs": [],
   "source": []
  },
  {
   "cell_type": "code",
   "execution_count": null,
   "metadata": {},
   "outputs": [],
   "source": []
  },
  {
   "cell_type": "markdown",
   "metadata": {},
   "source": [
    "### Benchmarking\n",
    "\n",
    "Getting times and collation the results into the dataframe. Each test is run `num_runs` times and the average time is then put into the dataset.\n",
    "\n"
   ]
  },
  {
   "cell_type": "code",
   "execution_count": 209,
   "metadata": {},
   "outputs": [
    {
     "name": "stdout",
     "output_type": "stream",
     "text": [
      "\n",
      "Average time of 10 tests: 5.125999450683594e-06\n"
     ]
    }
   ],
   "source": [
    "# the benchmarking algoirithms is based on the lecture materials\n",
    "\n",
    "import time\n",
    "\n",
    "# number of times to test the function\n",
    "num_runs = 10\n",
    "\n",
    "# empty array (a placeholder) to store results for each test\n",
    "results = []\n",
    "\n",
    "# benchmarking the function\n",
    "for r in range(num_runs):\n",
    "    \n",
    "    # log the start time (time stamp)\n",
    "    start_time = time.time()\n",
    "    \n",
    "    #print(\"Run\", r+1,\", before: \", l) # checking the unsorted array\n",
    "    \n",
    "    # call the function to be benchmarked\n",
    "    sortowanie_szybkie(l)\n",
    "    #print(\"Run\", r+1,\", after:  \", sortowanie_szybkie(l)) # checking the array after sorting\n",
    "        \n",
    "    # log the end time (time stamp)\n",
    "    end_time = time.time()\n",
    "    \n",
    "    # calculate the elapsed time\n",
    "    time_elapsed = end_time - start_time\n",
    "    \n",
    "    #print(\"Run\", r+1, \"time: \", time_elapsed)\n",
    "        \n",
    "    results.append(time_elapsed)\n",
    "\n",
    "average_result = np.mean(results)\n",
    "#print()\n",
    "#print(\"------\")\n",
    "#print(results) # times of each run\n",
    "print()\n",
    "print(\"Average time of\", num_runs, \"tests:\", average_result)"
   ]
  },
  {
   "cell_type": "code",
   "execution_count": null,
   "metadata": {},
   "outputs": [],
   "source": []
  },
  {
   "cell_type": "code",
   "execution_count": null,
   "metadata": {},
   "outputs": [],
   "source": []
  },
  {
   "cell_type": "markdown",
   "metadata": {},
   "source": [
    "### Data visualisation"
   ]
  },
  {
   "cell_type": "code",
   "execution_count": null,
   "metadata": {},
   "outputs": [],
   "source": []
  },
  {
   "cell_type": "code",
   "execution_count": 10,
   "metadata": {},
   "outputs": [],
   "source": [
    "import matplotlib.pyplot as plt \n",
    "import seaborn as sns\n",
    "import scipy.stats as stats\n",
    "\n",
    "# below command will allow for the plots being displayed inside the Notebook, rather than in a separate screen.\n",
    "%matplotlib inline"
   ]
  },
  {
   "cell_type": "code",
   "execution_count": null,
   "metadata": {},
   "outputs": [],
   "source": []
  },
  {
   "cell_type": "markdown",
   "metadata": {},
   "source": [
    "___\n",
    "## Discussion / Findings / Visualisation"
   ]
  },
  {
   "cell_type": "code",
   "execution_count": null,
   "metadata": {},
   "outputs": [],
   "source": []
  },
  {
   "cell_type": "code",
   "execution_count": null,
   "metadata": {},
   "outputs": [],
   "source": []
  },
  {
   "cell_type": "markdown",
   "metadata": {},
   "source": [
    "___\n",
    "## References"
   ]
  },
  {
   "cell_type": "markdown",
   "metadata": {},
   "source": [
    "### Sorting Algorithms\n",
    "\n",
    "* Lectures materials [online] Available at: https://learnonline.gmit.ie/course/view.php?id=1696 [Accessed April 2020].\n",
    "* Quicksort tutorial - Codementor Community [online] Available at: https://www.codementor.io/@garethdwyer/quicksort-tutorial-python-implementation-with-line-by-line-explanation-p9h7jd3r6 [Accessed April 2020].\n",
    "* Analysis of Algorithms - Big O Analysis  - Geeks for Geeks [online] Available at: https://www.geeksforgeeks.org/analysis-algorithms-big-o-analysis/ [Accessed April 2020].\n",
    "* Analysis of of different sorting techniques  - Geeks for Geeks [online] Available at: https://www.geeksforgeeks.org/analysis-of-different-sorting-techniques/ [Accessed April 2020].\n",
    "* Asymptotic Analysis and comparison of sorting algorithms - Geeks for Geeks [online] Available at: https://www.geeksforgeeks.org/asymptotic-analysis-comparison-sorting-algorithms/ [Accessed April 2020].\n",
    "* Sorting, how to - Python documentation [online] Available at: https://docs.python.org/3/howto/sorting.html [Accessed April 2020].\n",
    "* Python's built in sort() function source code [online] Available at: https://github.com/python/cpython/blob/master/Objects/listobject.c [Accessed April 2020].\n",
    "* A tour of the top 5 sorting algorithms with Python code - Medium [online] Available at: https://medium.com/@george.seif94/a-tour-of-the-top-5-sorting-algorithms-with-python-code-43ea9aa02889 [Accessed April 2020].\n",
    "* Sorting Algorithms - Free Code Camp [online] Available at: https://guide.freecodecamp.org/algorithms/sorting-algorithms/ [Accessed April 2020].\n",
    "* Big O notation - Wikipedia [online] Available at: https://en.wikipedia.org/wiki/Big_O_notation [Accessed April 2020].\n",
    "* Sorting Algorithm - Wikipedia [online] Available at: https://en.wikipedia.org/wiki/Sorting_algorithm [Accessed April 2020].\n",
    "* Sorting Algorithms Demonstration in Java [online] Available at: http://home.westman.wave.ca/~rhenry/sort/#flashsort [Accessed April 2020].\n",
    "* Sorting Algorithms in Python [online] Available at: https://stackabuse.com/sorting-algorithms-in-python/ [Accessed April 2020].\n",
    "\n",
    "* Bubble Sort - Wikipedia [online] Available at: https://en.wikipedia.org/wiki/Bubble_sort [Accessed April 2020].\n",
    "\n",
    "* Bucket Sort - Programiz [online] Available at: https://www.programiz.com/dsa/bucket-sort [Accessed April 2020].\n",
    "* Bucket Sort - Geeks for Geeks [online] Available at: https://www.geeksforgeeks.org/bucket-sort-2/ [Accessed April 2020].\n",
    "\n",
    "* Timsort - Wikipedia [online] Available at: https://en.wikipedia.org/wiki/Timsort [Accessed April 2020].\n",
    "* Python bug tracker - Timsort [online] Available at: https://bugs.python.org/file4451/timsort.txt [Accessed April 2020].\n",
    "\n",
    "\n"
   ]
  },
  {
   "cell_type": "markdown",
   "metadata": {},
   "source": [
    "### Sorting Algorithm Visualisations\n",
    "* Visualising Sorting [online] Available at: https://corte.si/posts/code/visualisingsorting/index.html [Accessed April 2020].\n",
    "* Sorting Algorithm Animations [online] Available at: https://www.toptal.com/developers/sorting-algorithms [Accessed April 2020].\n",
    "* Visualising Python's Timsort [online] Available at: https://corte.si/posts/code/timsort/index.html [Accessed April 2020].\n",
    "\n",
    "* Hilbert Curve + Sorting Algorithms + Procrastination = ? [online] Available at: https://corte.si/posts/code/sortvis-fruitsalad/index.html [Accessed April 2020].\n",
    "* Timsort - a study in grayscale [online] Available at: https://corte.si/posts/code/timsort-grayscale/index.html [Accessed April 2020].\n"
   ]
  },
  {
   "cell_type": "markdown",
   "metadata": {},
   "source": [
    "### Data analysis\n",
    "* Google [online] Available at: https://google.com [Accessed April 2020].\n"
   ]
  },
  {
   "cell_type": "markdown",
   "metadata": {},
   "source": [
    "___"
   ]
  },
  {
   "cell_type": "markdown",
   "metadata": {},
   "source": [
    "Andrzej Kocielski, 2020"
   ]
  }
 ],
 "metadata": {
  "kernelspec": {
   "display_name": "Python 3",
   "language": "python",
   "name": "python3"
  },
  "language_info": {
   "codemirror_mode": {
    "name": "ipython",
    "version": 3
   },
   "file_extension": ".py",
   "mimetype": "text/x-python",
   "name": "python",
   "nbconvert_exporter": "python",
   "pygments_lexer": "ipython3",
   "version": "3.7.5"
  },
  "toc-autonumbering": true
 },
 "nbformat": 4,
 "nbformat_minor": 4
}
