{
 "cells": [
  {
   "cell_type": "markdown",
   "metadata": {},
   "source": [
    "# Benchmarking sorting algorithms\n",
    "This is part of the final project assignment for Computational Thinking with Algorithms module, GMIT 2020. Lecturer: dr Dominic Carr\n",
    "\n",
    "> Author: Andrzej Kocielski  \n"
   ]
  },
  {
   "cell_type": "markdown",
   "metadata": {},
   "source": [
    "<figure>\n",
    "  <img src=\"https://upload.wikimedia.org/wikipedia/commons/7/7e/Comparison_computational_complexity.svg\" alt=\"Big O notation\" style=\"width:400px\">\n",
    "  <figcaption>Image source: Wikipedia.</figcaption>\n",
    "</figure>"
   ]
  },
  {
   "cell_type": "markdown",
   "metadata": {},
   "source": [
    "___\n",
    "### Content\n",
    "\n",
    "1. Introduction\n",
    "2. Sorting algorithms\n",
    "3. Benchmarking\n",
    "4. Data analysis\n",
    "5. Discussion\n",
    "6. References\n",
    " "
   ]
  },
  {
   "cell_type": "markdown",
   "metadata": {},
   "source": [
    "**Below is to be deleted**\n",
    "\n",
    "Ideas:\n",
    "- discuss terms:\n",
    "    - sorting\n",
    "    - efficiency (time efficiency only considered in this project)\n",
    "    - best-, average- and worst-case time complexity\n",
    "    - comparison\n",
    "    - stability\n",
    "    - inversion\n",
    "    - sort key data (satellite data neglected in this analysis)\n",
    "    - in-place sorting   \n"
   ]
  },
  {
   "cell_type": "markdown",
   "metadata": {},
   "source": [
    "___"
   ]
  },
  {
   "cell_type": "markdown",
   "metadata": {},
   "source": [
    "## Introduction"
   ]
  },
  {
   "cell_type": "markdown",
   "metadata": {},
   "source": [
    "### Sorting algorithms selected for testing\n",
    "\n",
    "For this project a Python application is written which will be used to benchmark five different sorting algorithms. \n",
    "\n",
    "The five sorting algorithms are selected to satisfy the project specification, that is according to the following criteria:\n",
    "\n",
    "1. A simple comparison-based sort - I have chosen to analyse the **Bubble Sort**, Selection Sort or Insertion Sort - TBD\n",
    "2. An efficient comparison-based sort - I have chosen to analyse the Merge Sort, **Quicksort** or Heap Sort - TBD\n",
    "3. A non-comparison sort - I have chosen to analyse the **Bucket Sort** or Radix Sort - TBD\n",
    "\n",
    "The remaining two algorithms were left to my choice:\n",
    "\n",
    "4. An efficient sort (**Merge Sort** or Heap Sort) - TBD\n",
    "5. A hybrid sort (**Timsort** or Introsort) - TBD\n",
    "6. Extra - a Python built-in sorting algorithm: the sort() or **sorted()** (a Timsort implementation) - TBD\n",
    "\n",
    "\n",
    "Each of the selected algorithms are briefly described followed by the algorithms implementation and benchmarking. Finally, at the end of the report, there is the discussion of the results of the benchmarking process and findings.\n",
    "\n",
    "\n",
    "The following algorithms were selected for benchmarking analysis:\n",
    "\n",
    "1. **Bubble Sort**\n",
    "2. **Quicksort**\n",
    "3. **Bucket Sort**\n",
    "4. **Merge Sort**\n",
    "5. **Tim Sort**\n"
   ]
  },
  {
   "cell_type": "markdown",
   "metadata": {},
   "source": [
    "### Credits\n",
    "..."
   ]
  },
  {
   "cell_type": "markdown",
   "metadata": {},
   "source": [
    "___\n"
   ]
  },
  {
   "cell_type": "markdown",
   "metadata": {},
   "source": [
    "## Bubble Sort\n",
    "### Algorithm description\n",
    "...\n"
   ]
  },
  {
   "cell_type": "code",
   "execution_count": null,
   "metadata": {},
   "outputs": [],
   "source": [
    "##### Credits #####\n",
    "# Source: https://stackabuse.com/sorting-algorithms-in-python/\n",
    "\n",
    "def bubble_sort(nums):\n",
    "    # We set swapped to True so the loop looks runs at least once\n",
    "    swapped = True\n",
    "    while swapped:\n",
    "        swapped = False\n",
    "        for i in range(len(nums) - 1):\n",
    "            if nums[i] > nums[i + 1]:\n",
    "                # Swap the elements\n",
    "                nums[i], nums[i + 1] = nums[i + 1], nums[i]\n",
    "                # Set the flag to True so we'll loop again\n",
    "                swapped = True\n",
    "\n",
    "\n",
    "# Verify it works\n",
    "random_list_of_nums = [5, 2, 1, 8, 4]\n",
    "bubble_sort(random_list_of_nums)\n",
    "print(random_list_of_nums)"
   ]
  },
  {
   "cell_type": "code",
   "execution_count": null,
   "metadata": {},
   "outputs": [],
   "source": []
  },
  {
   "cell_type": "markdown",
   "metadata": {},
   "source": [
    "## Quicksort\n",
    "### Algorithm description\n",
    "...\n",
    "\n",
    "\n"
   ]
  },
  {
   "cell_type": "markdown",
   "metadata": {},
   "source": [
    "<figure>\n",
    "  <img src=\"https://upload.wikimedia.org/wikipedia/commons/6/6a/Sorting_quicksort_anim.gif\"  alt=\"Quick sort visualisation\" style=\"width:400px; height:200px\">\n",
    "  <figcaption>Image source: Wikipedia.</figcaption>\n",
    "</figure>"
   ]
  },
  {
   "cell_type": "markdown",
   "metadata": {},
   "source": [
    "### Algorithm implementation\n",
    "Based on https://youtu.be/u4tVQszsyEQ"
   ]
  },
  {
   "cell_type": "code",
   "execution_count": 24,
   "metadata": {},
   "outputs": [
    {
     "name": "stdout",
     "output_type": "stream",
     "text": [
      "[0, 1, 2, 3, 5, 7, 9]\n"
     ]
    }
   ],
   "source": [
    "##### Credits #####\n",
    "# Source: https://youtu.be/u4tVQszsyEQ\n",
    "# Comments added by myself (AK)\n",
    "\n",
    "##### Function definition #####\n",
    "# Function performing the quick sort; it takes a list to be sorted as an argument\n",
    "def sortowanie_szybkie(lista):\n",
    "    \n",
    "    # creation of empty lists\n",
    "    mniejsze = [] # less than the pivot\n",
    "    rowne = [] # equal to the pivot\n",
    "    wieksze =[] # greater than the pivot\n",
    "    \n",
    "    # base case of the recursion \n",
    "    # check whether the list is more than one element long (otherwise, one-element list is considered to be sorted)\n",
    "    if len(lista) <= 1:\n",
    "        return lista\n",
    "    \n",
    "    # recursion algorithm for a list that holds more than one element\n",
    "    else: \n",
    "        # set the pivot value at the middle element of the list\n",
    "        middle = (len(lista))//2\n",
    "        pivot = lista[middle]\n",
    "        \n",
    "        # let's consider three cases for each element of the list\n",
    "        for x in lista:\n",
    "            # case #1 - the current element is greater than the pivot\n",
    "            if x > pivot:\n",
    "                wieksze.append(x) # add the current element to the list \"wieksze\"\n",
    "            # case #2 - the current element is equal to the pivot\n",
    "            elif x == pivot:\n",
    "                rowne.append(x) # add the current element to the list \"rowne\"\n",
    "            # case #3 - the current element is less than the pivot\n",
    "            else:\n",
    "                mniejsze.append(x) # add the current element to the list \"mniejsze\"\n",
    "        \n",
    "        # as a result of the above loop, the function will return:\n",
    "        # in the middle: the element(s) that has just been sorted, i.e. equal to the pivot(?) (as well as those sorted on previous recurses)\n",
    "        # on the left-hand side: elements that are less than the pivot - still unsorted, therefore the same function is called recursively (with the \"mniejsze\" list as an argument)\n",
    "        # on the the right-hand side: elements that are greater than the pivot - still unsorted, therefore the same function is called recursively (with the \"wieksze\" list as an argument)\n",
    "        \n",
    "        return sortowanie_szybkie(mniejsze) + rowne + sortowanie_szybkie(wieksze)\n",
    "        \n",
    "l = [3,1,0,9,2,7,5]\n",
    "print(sortowanie_szybkie(l))"
   ]
  },
  {
   "cell_type": "code",
   "execution_count": 19,
   "metadata": {},
   "outputs": [
    {
     "data": {
      "text/plain": [
       "9"
      ]
     },
     "execution_count": 19,
     "metadata": {},
     "output_type": "execute_result"
    }
   ],
   "source": [
    "l = [3,6,0,9,2,7,5]\n",
    "lista[(len(lista))//2]"
   ]
  },
  {
   "cell_type": "code",
   "execution_count": 60,
   "metadata": {},
   "outputs": [
    {
     "name": "stdout",
     "output_type": "stream",
     "text": [
      "[0, 1, 2, 3, 5, 7, 9]\n"
     ]
    }
   ],
   "source": [
    "##### Credits #####\n",
    "# Source: https://youtu.be/u4tVQszsyEQ\n",
    "# Comments added by myself (AK)\n",
    "\n",
    "# Function performing the quick sort; it takes a list to be sorted as an argument\n",
    "def sortowanie_szybkie2(lista):\n",
    "    \n",
    "    # set the pivot value at the middle element of the list\n",
    "    middle = (len(lista))//2\n",
    "    #pivot = lista[middle]\n",
    "        \n",
    "    # creation of empty lists\n",
    "    mniejsze = [x for x in lista if x < lista[middle]] # less than the pivot\n",
    "    rowne = [x for x in lista if x == lista[middle]] # equal to the pivot\n",
    "    wieksze =[x for x in lista if x > lista[middle]] # greater than the pivot\n",
    "    \n",
    "    # base case of the recursion \n",
    "    # check whether the list is more than one element long (otherwise, one-element list is considered to be sorted)\n",
    "    if len(lista) <= 1:\n",
    "        return lista\n",
    "    \n",
    "    # recursion algorithm for a list that holds more than one element\n",
    "    else: \n",
    "        return sortowanie_szybkie2(mniejsze) + rowne + sortowanie_szybkie2(wieksze)\n",
    "        \n",
    "l = [3,1,0,9,2,7,5]\n",
    "print(sortowanie_szybkie2(l))"
   ]
  },
  {
   "cell_type": "code",
   "execution_count": null,
   "metadata": {},
   "outputs": [],
   "source": []
  },
  {
   "cell_type": "code",
   "execution_count": null,
   "metadata": {},
   "outputs": [],
   "source": []
  },
  {
   "cell_type": "markdown",
   "metadata": {},
   "source": [
    "## Bucket Sort\n",
    "### Algorithm description\n",
    "...\n"
   ]
  },
  {
   "cell_type": "code",
   "execution_count": 9,
   "metadata": {},
   "outputs": [
    {
     "name": "stdout",
     "output_type": "stream",
     "text": [
      "Original list: [20, 18, 0, 37, 22, 7, 5, 20, 45, 8, 13, 17]\n",
      "Sorted unto the buckets: [[0, 7, 5], [8, 13], [20, 18, 22, 20, 17], [], [37], [45]]\n",
      "Post sorting:  [0, 5, 7, 8, 13, 17, 18, 20, 20, 22, 37, 45]\n"
     ]
    }
   ],
   "source": [
    "import math\n",
    "\n",
    "# define the function, which takes as an argument the array to be sorted\n",
    "# own implementation, developed based on pseudocode from https://youtu.be/geVyIsFpxUs\n",
    "def bucket_sort(arr):\n",
    "\n",
    "    print(\"Original list:\", arr) # for testing\n",
    "    \n",
    "    # number of buckets\n",
    "    n_buckets = 6 # assumed arbitrarily\n",
    "\n",
    "    # create an empty array of buckets, where each bucket is also an empty array\n",
    "    bucket = []\n",
    "    for i in range(n_buckets):\n",
    "        bucket.append([])\n",
    "        \n",
    "    # define a divider which will be used for sorting; divider is the value of the maximum element of the array to be sorted divided by number of buckets\n",
    "    divider = math.ceil((max(arr)+1)/n_buckets)\n",
    "    # divider = 10 # alternatively to the above line, it can be just assumed arbitrarily\n",
    "\n",
    "    \n",
    "    # sorting the array's element into the buckets (unsorted)\n",
    "    # loop through the array\n",
    "    for i in arr:\n",
    "        # determine into which bucket index will fall each element of the arrey\n",
    "        j = i//divider\n",
    "        # put the current i-element of the array to the corresponding bucket\n",
    "        bucket[j].append(i)\n",
    "        \n",
    "    print(\"Sorted unto the buckets:\", bucket) # for testing\n",
    "        \n",
    "    # put sorted content of each bucket into a single array (concatenate single buckets)\n",
    "    # adopted from https://gist.github.com/sahid/5022081\n",
    "    sorted_result = []\n",
    "    for i in range(n_buckets):\n",
    "        # adding the sorted content of each bucket to the resulting array, using the insertionSort function iteratively for each bucket\n",
    "        sorted_result += insertionSort(bucket[i])\n",
    "    return sorted_result \n",
    "\n",
    "\n",
    "# sorting the content of each bucket, using the insert sort\n",
    "# Source: https://www.geeksforgeeks.org/bucket-sort-2/\n",
    "def insertionSort(b): \n",
    "    for i in range(1, len(b)): \n",
    "        up = b[i] \n",
    "        j = i - 1\n",
    "        while j >=0 and b[j] > up:  \n",
    "            b[j + 1] = b[j] \n",
    "            j -= 1\n",
    "        b[j + 1] = up      \n",
    "    return b   \n",
    "        \n",
    "arr = [20, 18, 0, 37, 22, 7, 5, 20, 45, 8, 13, 17]\n",
    "print(\"Post sorting: \", bucket_sort(arr))"
   ]
  },
  {
   "cell_type": "code",
   "execution_count": null,
   "metadata": {},
   "outputs": [],
   "source": []
  },
  {
   "cell_type": "markdown",
   "metadata": {},
   "source": [
    "## Merge Sort\n",
    "### Algorithm description\n",
    "..."
   ]
  },
  {
   "cell_type": "code",
   "execution_count": null,
   "metadata": {},
   "outputs": [],
   "source": [
    "##### Credits #####\n",
    "# Source: https://stackabuse.com/sorting-algorithms-in-python/#selectionsort\n",
    "\n",
    "def merge(left_list, right_list):\n",
    "    sorted_list = []\n",
    "    left_list_index = right_list_index = 0\n",
    "\n",
    "    # We use the list lengths often, so its handy to make variables\n",
    "    left_list_length, right_list_length = len(left_list), len(right_list)\n",
    "\n",
    "    for _ in range(left_list_length + right_list_length):\n",
    "        if left_list_index < left_list_length and right_list_index < right_list_length:\n",
    "            # We check which value from the start of each list is smaller\n",
    "            # If the item at the beginning of the left list is smaller, add it\n",
    "            # to the sorted list\n",
    "            if left_list[left_list_index] <= right_list[right_list_index]:\n",
    "                sorted_list.append(left_list[left_list_index])\n",
    "                left_list_index += 1\n",
    "            # If the item at the beginning of the right list is smaller, add it\n",
    "            # to the sorted list\n",
    "            else:\n",
    "                sorted_list.append(right_list[right_list_index])\n",
    "                right_list_index += 1\n",
    "\n",
    "        # If we've reached the end of the of the left list, add the elementsgit s\n",
    "        # from the right list\n",
    "        elif left_list_index == left_list_length:\n",
    "            sorted_list.append(right_list[right_list_index])\n",
    "            right_list_index += 1\n",
    "        # If we've reached the end of the of the right list, add the elements\n",
    "        # from the left list\n",
    "        elif right_list_index == right_list_length:\n",
    "            sorted_list.append(left_list[left_list_index])\n",
    "            left_list_index += 1\n",
    "\n",
    "    return sorted_list\n",
    "\n",
    "\n",
    "def merge_sort(nums):\n",
    "    # If the list is a single element, return it\n",
    "    if len(nums) <= 1:\n",
    "        return nums\n",
    "\n",
    "    # Use floor division to get midpoint, indices must be integers\n",
    "    mid = len(nums) // 2\n",
    "\n",
    "    # Sort and merge each half\n",
    "    left_list = merge_sort(nums[:mid])\n",
    "    right_list = merge_sort(nums[mid:])\n",
    "\n",
    "    # Merge the sorted lists into a new one\n",
    "    return merge(left_list, right_list)\n",
    "\n",
    "\n",
    "# Verify it works\n",
    "random_list_of_nums = [120, 45, 68, 250, 176]\n",
    "random_list_of_nums = merge_sort(random_list_of_nums)\n",
    "print(random_list_of_nums)"
   ]
  },
  {
   "cell_type": "code",
   "execution_count": null,
   "metadata": {},
   "outputs": [],
   "source": []
  },
  {
   "cell_type": "code",
   "execution_count": null,
   "metadata": {},
   "outputs": [],
   "source": []
  },
  {
   "cell_type": "markdown",
   "metadata": {},
   "source": [
    "## Timsort\n",
    "### Algorithm description\n",
    "...\n"
   ]
  },
  {
   "cell_type": "code",
   "execution_count": null,
   "metadata": {},
   "outputs": [],
   "source": [
    "##### Credits #####\n",
    "# Based on https://quinston.com/code-snippets/\n",
    "# my own comments\n",
    "\n",
    "import random\n",
    "\n",
    "# Insert Sort algorithm\n",
    "# Function InsertionSort() takes one argument - array\n",
    "def InsertionSort(array):\n",
    "\n",
    "    for x in range (1, len(array)):\n",
    "        for i in range(x, 0, -1):\n",
    "            if array[i] < array[i - 1]:\n",
    "                t = array[i]\n",
    "                array[i] = array[i - 1]\n",
    "                array[i - 1] = t\n",
    "            else:\n",
    "                break\n",
    "            i = i - 1\n",
    "    return array\n",
    "\n",
    "\n",
    "# Merge Sort implementation\n",
    "# The Merge() function takes two arguments - two arrays - and merge them together. The function returns yet another array\n",
    "def Merge(aArr, bArr):\n",
    "    \n",
    "    a = 0 # a is a pointer (index position) of aArr array\n",
    "    b = 0 # b is a pointer of bArr array\n",
    "    \n",
    "    # placeholder - an empty array cArr which will be holding sorted values of aArr and bArr arrays\n",
    "    cArr = []\n",
    "\n",
    "    # end of loop codition:\n",
    "    while a < len(aArr) and b < len(bArr):\n",
    "        # check if a-element of array aArr is less than b-element of array bArr\n",
    "        if aArr[a] < bArr[b]:\n",
    "            cArr.append(aArr[a]) # if the condition is satisfied, assign the value of a-element to cArr array\n",
    "            a = a + 1 # move the pointer to the next aArr array index\n",
    "            \n",
    "        elif aArr[a] > bArr[b]:\n",
    "            cArr.append(bArr[b])\n",
    "            b = b + 1\n",
    "        \n",
    "        # in case the a-element of aArra and b-element of bArr are equal\n",
    "        else:\n",
    "            cArr.append(aArr[a])\n",
    "            cArr.append(bArr[b])\n",
    "            a = a + 1\n",
    "            b = b + 1\n",
    "    \n",
    "    # when there are no left elements from bArr to compare with aArr, the remaining elements from aArr are appended at the end of cArr array\n",
    "    while a < len(aArr):\n",
    "        cArr.append(aArr[a])\n",
    "        a = a + 1\n",
    "\n",
    "    while b < len(bArr):\n",
    "        cArr.append(bArr[b])\n",
    "        b = b + 1\n",
    "\n",
    "    # function returns merged the two arrays, sorted\n",
    "    return cArr\n",
    "\n",
    "\n",
    "# Implementation of the TimSort sorting algorithm\n",
    "# Funtion TimSort divides the array to be sorted (arr) into smaller chunks of size RUN. The variable RUN is defined outside the funtion body, prior to its first call.\n",
    "def TimSort():\n",
    "\n",
    "    # divide the array into chunks\n",
    "    for x in range(0, len(arr), RUN): # loop starting from index 0, to the last element of the array, with incrementing step size RUN; note the value of len(arr) is excluded from the loop\n",
    "        # arr[x : x + RUN] is the current slice of the array (from x to x+RUN)\n",
    "        # values of the current array slice are transfered (passed) to InsertionSort function; the return from the InsertionSort is already sorted array assigned to the original slice\n",
    "        arr[x : x + RUN] = InsertionSort(arr[x : x + RUN])\n",
    "    \n",
    "    # merging the already sortd slices of the array\n",
    "    # create an auxiliary variable     \n",
    "    RUNinc = RUN\n",
    "    # define loop termination condition\n",
    "    while RUNinc < len(arr):\n",
    "        \n",
    "        # the array is divided into pairs of neighbouring slices and passed to Merge() function\n",
    "        for x in range(0, len(arr), 2 * RUNinc):\n",
    "            # the return from the Merge() function is assigned to the slice (size of 2xRUN) original array\n",
    "            arr[x : x + 2 * RUNinc] = Merge(arr[x : x + RUNinc], arr[x + RUNinc: x + 2 * RUNinc])\n",
    "        RUNinc = RUNinc * 2\n",
    "\n",
    "# generate the list of elements - variable arr \n",
    "# create an empty list\n",
    "arr = []\n",
    "# populate the arr list with randomly generated numbers\n",
    "for x in range(0, 100): # how many elements of the list? \n",
    "    arr.append(random.randint(0, 100)) # integer numbers from 0 to 100\n",
    "\n",
    "    \n",
    "RUN = 32    \n",
    "TimSort()\n",
    "\n",
    "print(arr)\n"
   ]
  },
  {
   "cell_type": "code",
   "execution_count": null,
   "metadata": {},
   "outputs": [],
   "source": []
  },
  {
   "cell_type": "markdown",
   "metadata": {},
   "source": [
    "____\n",
    "## Benchmarking the sorting algorithms"
   ]
  },
  {
   "cell_type": "markdown",
   "metadata": {},
   "source": [
    "### Benchmarking algorithm"
   ]
  },
  {
   "cell_type": "code",
   "execution_count": 62,
   "metadata": {},
   "outputs": [
    {
     "data": {
      "text/plain": [
       "[8.821487426757812e-06,\n",
       " 5.245208740234375e-06,\n",
       " 5.0067901611328125e-06,\n",
       " 4.76837158203125e-06,\n",
       " 4.76837158203125e-06,\n",
       " 4.76837158203125e-06,\n",
       " 4.76837158203125e-06,\n",
       " 4.5299530029296875e-06,\n",
       " 4.5299530029296875e-06,\n",
       " 4.5299530029296875e-06]"
      ]
     },
     "execution_count": 62,
     "metadata": {},
     "output_type": "execute_result"
    }
   ],
   "source": [
    "##### Credits #####\n",
    "# the benchmarking algoirithms is based on the lecture materials\n",
    "\n",
    "import time\n",
    "\n",
    "# number of times to test the function\n",
    "num_runs = 10\n",
    "\n",
    "# empty array (a placeholder) to store results for each test\n",
    "results = []\n",
    "\n",
    "# benchmarking the function\n",
    "for r in range(num_runs):\n",
    "    \n",
    "    # log the start time (time stamp)\n",
    "    start_time = time.time()\n",
    "    \n",
    "    # call the function to be benchmarked\n",
    "    sortowanie_szybkie(l)\n",
    "    \n",
    "    # log the end time (time stamp)\n",
    "    end_time = time.time()\n",
    "    \n",
    "    # calculate the elapsed time\n",
    "    time_elapsed = end_time - start_time\n",
    "    \n",
    "    results.append(time_elapsed)\n",
    "\n",
    "results"
   ]
  },
  {
   "cell_type": "code",
   "execution_count": null,
   "metadata": {},
   "outputs": [],
   "source": []
  },
  {
   "cell_type": "markdown",
   "metadata": {},
   "source": [
    "___\n",
    "## Data analysis"
   ]
  },
  {
   "cell_type": "markdown",
   "metadata": {},
   "source": [
    "### Random data array preparation \n",
    "\n",
    "From the project brief:\n",
    ">To benchmark the algorithms, you should use arrays of randomly generated integers with different\n",
    "input sizes n. You should use a variety of different input sizes, e.g. n=10,n=100,n=500,...,n=10,000\n",
    "etc. to test the effect of the input size on the running time of each algorithm. See the console output\n",
    "below for a selection of suggested sizes of n. You may test values of n which are higher than 10,000 if\n",
    "you wish, e.g. 500,000. Just be aware that algorithms such as Bubble Sort may take a long time to\n",
    "run when using large values of n!\n",
    "\n"
   ]
  },
  {
   "cell_type": "code",
   "execution_count": null,
   "metadata": {},
   "outputs": [],
   "source": []
  },
  {
   "cell_type": "markdown",
   "metadata": {},
   "source": [
    "### Benchmarking\n",
    "\n",
    "Getting times and collation the results into a NumPy's ndarray (or Pandas' dataframe)"
   ]
  },
  {
   "cell_type": "code",
   "execution_count": null,
   "metadata": {},
   "outputs": [],
   "source": []
  },
  {
   "cell_type": "markdown",
   "metadata": {},
   "source": [
    "### Data visualisation"
   ]
  },
  {
   "cell_type": "code",
   "execution_count": null,
   "metadata": {},
   "outputs": [],
   "source": []
  },
  {
   "cell_type": "markdown",
   "metadata": {},
   "source": [
    "___\n",
    "## Discussion / Findings / Visualisation"
   ]
  },
  {
   "cell_type": "code",
   "execution_count": null,
   "metadata": {},
   "outputs": [],
   "source": []
  },
  {
   "cell_type": "code",
   "execution_count": null,
   "metadata": {},
   "outputs": [],
   "source": []
  },
  {
   "cell_type": "markdown",
   "metadata": {},
   "source": [
    "___\n",
    "## References"
   ]
  },
  {
   "cell_type": "markdown",
   "metadata": {},
   "source": [
    "### Sorting Algorithms\n",
    "\n",
    "* Lectures materials [online] Available at: https://learnonline.gmit.ie/course/view.php?id=1696 [Accessed April 2020].\n",
    "* Quicksort tutorial - Codementor Community [online] Available at: https://www.codementor.io/@garethdwyer/quicksort-tutorial-python-implementation-with-line-by-line-explanation-p9h7jd3r6 [Accessed April 2020].\n",
    "* Analysis of Algorithms - Big O Analysis  - Geeks for Geeks [online] Available at: https://www.geeksforgeeks.org/analysis-algorithms-big-o-analysis/ [Accessed April 2020].\n",
    "* Analysis of of different sorting techniques  - Geeks for Geeks [online] Available at: https://www.geeksforgeeks.org/analysis-of-different-sorting-techniques/ [Accessed April 2020].\n",
    "* Asymptotic Analysis and comparison of sorting algorithms - Geeks for Geeks [online] Available at: https://www.geeksforgeeks.org/asymptotic-analysis-comparison-sorting-algorithms/ [Accessed April 2020].\n",
    "* Sorting, how to - Python documentation [online] Available at: https://docs.python.org/3/howto/sorting.html [Accessed April 2020].\n",
    "* Python's built in sort() function source code [online] Available at: https://github.com/python/cpython/blob/master/Objects/listobject.c [Accessed April 2020].\n",
    "* A tour of the top 5 sorting algorithms with Python code - Medium [online] Available at: https://medium.com/@george.seif94/a-tour-of-the-top-5-sorting-algorithms-with-python-code-43ea9aa02889 [Accessed April 2020].\n",
    "* Sorting Algorithms - Free Code Camp [online] Available at: https://guide.freecodecamp.org/algorithms/sorting-algorithms/ [Accessed April 2020].\n",
    "* Big O notation - Wikipedia [online] Available at: https://en.wikipedia.org/wiki/Big_O_notation [Accessed April 2020].\n",
    "* Sorting Algorithm - Wikipedia [online] Available at: https://en.wikipedia.org/wiki/Sorting_algorithm [Accessed April 2020].\n",
    "* Sorting Algorithms Demonstration in Java [online] Available at: http://home.westman.wave.ca/~rhenry/sort/#flashsort [Accessed April 2020].\n",
    "* Sorting Algorithms in Python [online] Available at: https://stackabuse.com/sorting-algorithms-in-python/ [Accessed April 2020].\n",
    "\n",
    "* Bubble Sort - Wikipedia [online] Available at: https://en.wikipedia.org/wiki/Bubble_sort [Accessed April 2020].\n",
    "\n",
    "* Bucket Sort - Programiz [online] Available at: https://www.programiz.com/dsa/bucket-sort [Accessed April 2020].\n",
    "* Bucket Sort - Geeks for Geeks [online] Available at: https://www.geeksforgeeks.org/bucket-sort-2/ [Accessed April 2020].\n",
    "\n",
    "* Timsort - Wikipedia [online] Available at: https://en.wikipedia.org/wiki/Timsort [Accessed April 2020].\n",
    "* Python bug tracker - Timsort [online] Available at: https://bugs.python.org/file4451/timsort.txt [Accessed April 2020].\n",
    "\n",
    "\n"
   ]
  },
  {
   "cell_type": "markdown",
   "metadata": {},
   "source": [
    "### Sorting Algorithm Visualisations\n",
    "* Visualising Sorting [online] Available at: https://corte.si/posts/code/visualisingsorting/index.html [Accessed April 2020].\n",
    "* Sorting Algorithm Animations [online] Available at: https://www.toptal.com/developers/sorting-algorithms [Accessed April 2020].\n",
    "* Visualising Python's Timsort [online] Available at: https://corte.si/posts/code/timsort/index.html [Accessed April 2020].\n",
    "\n",
    "* Hilbert Curve + Sorting Algorithms + Procrastination = ? [online] Available at: https://corte.si/posts/code/sortvis-fruitsalad/index.html [Accessed April 2020].\n",
    "* Timsort - a study in grayscale [online] Available at: https://corte.si/posts/code/timsort-grayscale/index.html [Accessed April 2020].\n"
   ]
  },
  {
   "cell_type": "markdown",
   "metadata": {},
   "source": [
    "### Data analysis\n",
    "* Google [online] Available at: https://google.com [Accessed April 2020].\n"
   ]
  },
  {
   "cell_type": "markdown",
   "metadata": {},
   "source": [
    "___"
   ]
  },
  {
   "cell_type": "markdown",
   "metadata": {},
   "source": [
    "Andrzej Kocielski, 2020"
   ]
  }
 ],
 "metadata": {
  "kernelspec": {
   "display_name": "Python 3",
   "language": "python",
   "name": "python3"
  },
  "language_info": {
   "codemirror_mode": {
    "name": "ipython",
    "version": 3
   },
   "file_extension": ".py",
   "mimetype": "text/x-python",
   "name": "python",
   "nbconvert_exporter": "python",
   "pygments_lexer": "ipython3",
   "version": "3.7.5"
  },
  "toc-autonumbering": true
 },
 "nbformat": 4,
 "nbformat_minor": 4
}
