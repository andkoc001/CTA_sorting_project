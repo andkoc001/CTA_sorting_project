{
 "cells": [
  {
   "cell_type": "markdown",
   "metadata": {},
   "source": [
    "# Benchmarking sorting algorithms\n",
    "The final project assignment for Computational Thinking with Algorithms module, GMIT 2020.\n",
    "\n",
    "Lecturer: dr Dominic Carr\n",
    "\n",
    ">Author: **Andrzej Kocielski**  \n",
    ">Github: [andkoc001](https://github.com/andkoc001/)  \n",
    ">Email: G00376291@gmit.ie\n"
   ]
  },
  {
   "cell_type": "markdown",
   "metadata": {},
   "source": [
    "<figure>\n",
    "  <img src=\"https://upload.wikimedia.org/wikipedia/commons/7/7e/Comparison_computational_complexity.svg\" alt=\"Big O notation\" style=\"width:400px\">\n",
    "  <figcaption>Image source: Wikipedia.</figcaption>\n",
    "</figure>"
   ]
  },
  {
   "cell_type": "markdown",
   "metadata": {},
   "source": [
    "___\n",
    "### Content\n",
    "\n",
    "1. Introduction\n",
    "2. Sorting algorithms\n",
    "    1. Bubble Sort\n",
    "    2. Quicksort\n",
    "    3. Bucket Sort\n",
    "    4. Merge Sort\n",
    "    5. Timsort\n",
    "3. Benchmarking\n",
    "    1. About benchmarking\n",
    "    2. Benchmarking the algorithms\n",
    "4. Findings\n",
    " "
   ]
  },
  {
   "cell_type": "markdown",
   "metadata": {},
   "source": [
    "___"
   ]
  },
  {
   "cell_type": "markdown",
   "metadata": {},
   "source": [
    "## 1. Introduction"
   ]
  },
  {
   "cell_type": "markdown",
   "metadata": {},
   "source": [
    "### What is sorting?\n",
    "\n",
    "Sorting is one of the most fundamental problems of computing. “In the early days of computing, the common wisdom was that up to thirty percent of all computing cycles were spent in sorting” ([El Abbadi and Al Yasseri, NK-Sorting Algorithm, 2011](https://www.iasj.net/iasj?func=fulltext&aId=36934)). Although many efficient algorithms have been developed over the time, this research topic remains valid.\n",
    "\n",
    "Sorting can be defined as a process of arranging every element within the collection (e.g. array) in a certain order, e.g. ascending. Cormen et al. defines sorting as follows: for a sequence of n numbers (a1, a2, …, an) sorting is such a permutation (reordering) of the input sequence that a1 ≤ a2 ≤ … ≤ an ([T. H. Cormen et. al, Introduction to Algorithms, 2009](https://web.ist.utl.pt/~fabio.ferreira/material/asa/clrs.pdf)).\n",
    "\n",
    "The elements can be typically ordered by numerical value, alphabetical, time, colour or some other kind of characteristics known as the key. The output is said to be sorted in nondecreasing order, when the elements are arranged in such a way that each element is no smaller than the previous element ([Quora - What is sorting?](https://www.quora.com/What-is-sorting-2)).  "
   ]
  },
  {
   "cell_type": "markdown",
   "metadata": {},
   "source": [
    "### Algorithm complexity\n",
    "\n",
    "The problem of sorting is of a complex nature. In fact, there are several closely connected concerns relating to it. The concept of algorithms is one of them. Computers operate on sequential tasks, performed one by one. An algorithm is any well-defined computational procedure that takes some value, or set of values, as input and produces some value, or set of values, as output. An algorithm is thus a sequence of computational steps that transform the input into the output ([T. H. Cormen et. al, Introduction to Algorithms, 2009](https://web.ist.utl.pt/~fabio.ferreira/material/asa/clrs.pdf)). \n",
    "\n",
    "For a successful algorithm, the instructions must be clear (unambiguous), definite and leading to a desired result. As each operation performed by a computer takes up resources, like time or memory, and various algorithms - even leading to the same result - require an unequal amount of the resources. Consequently, it is relevant to consider algorithms’ efficiency, often described with reference to complexity in terms of time and complexity in terms of space (memory).\n",
    "\n",
    "Very important in computer science is the question of performance of algorithms. The efficiency of sorting algorithms depends on various factors, among others, such as:\n",
    "* the size of the array,\n",
    "* The initial degree of the elements order,\n",
    "* number of operations,\n",
    "* memory allocation (auxiliary variables are held in the memory), etc.\n"
   ]
  },
  {
   "cell_type": "markdown",
   "metadata": {},
   "source": [
    "### The Big O\n",
    "\n",
    "Algorithms complexity is usually described using asymptotic analysis, that is approximation of a function that is asymptotically equivalent ([Wikipedia - Asymptotic analysis](https://www.wikiwand.com/en/Asymptotic_analysis)). In algorithms analysis, this property is traditionally denoted with so-called _big O_ notation, meaning the complexity of the algorithm is at most of such a degree ([Wikipedia - Big O notation](https://en.wikipedia.org/wiki/Big_O_notation)). It is worth noting that there are also other notations used in code analysis, such as Omega, Thata and  others ([O. Kaser, Analyzing Code with Thetha, Oh and Omega, 2017](http://www2.unb.ca/~owen/courses/2383-2018/using-big-theta.pdf). \n",
    "\n",
    "\n",
    "It is often convenient to visualise the relationship between n and t (or m) on a graph. The curve showing the relationship is then approximate by a mathematical function, and simplified with the most significant part of the function. For example, when the curve is an approximation of the square function, it is denoted as O(n2) and means that for n elements to be sorted, time needed for completion of the algorithm is n2. Below figure and table shows the time complexity for various numbers of elements in the array (n) ([T. H. Cormen et. al, Introduction to Algorithms, 2009](https://web.ist.utl.pt/~fabio.ferreira/material/asa/clrs.pdf), [D. E. Knuth, The Art of Computer Programming, Vol. 3: Sorting and Searching, 1998](https://en.wikipedia.org/wiki/The_Art_of_Computer_Programming), [R. Sedgewick, K. Wayne, Algorithms, 2011](https://algs4.cs.princeton.edu/home/))\n",
    "\n",
    "For various array sizes (the number of elements in the array - n) there will be different resource consumption (time - t, memory - m). When trying to characterize an algorithm’s efficiency in terms of execution time, independent of any particular program or computer, it is important to quantify the number of operations or steps that the algorithm will require ([B. Miller and D. Ranum, Problem Solving with Algorithms and Data Structures using Python, 2005](https://runestone.academy/runestone/books/published/pythonds/index.html)).\n",
    "\n",
    "<figure>\n",
    "  <img src=\"https://upload.wikimedia.org/wikipedia/commons/7/7e/Comparison_computational_complexity.svg\" alt=\"Big O notation\" style=\"width:400px\">\n",
    "  <figcaption>Image source: Wikipedia.</figcaption>\n",
    "</figure>"
   ]
  },
  {
   "cell_type": "markdown",
   "metadata": {},
   "source": [
    "Time required for completion of a task, such as sorting an array depends greatly on the algorithm complexity. The below table shows the relationship between the number of elements n and the time it would take for the selected efficiencies (reproduced from: https://youtu.be/LKiaoV86iJo?t=2494)\n",
    "\n",
    "| Array size $n$ | 10 | 20 | 50 | 100 | 200 | 1000 |\n",
    "| --- | --- | --- | --- | --- | --- | --- |\n",
    "| $log n$ | 3.32 ns | 4.23 ns | 5.64 ns | 6.64 ns | 7.64 ns | 9.97 ns |\n",
    "| $n$ | 10 ns | 20 ns | 50 ns | 100 ns | 200 ns | 1 $\\mu$s |\n",
    "| $n log n$ | 33.21 ns | 86.44 ns | 282.2 ns | 664.4 ns | 1.54 $\\mu$s | 9.97 $\\mu$s |\n",
    "| $n2$ | 100 ns | 400 ns | 2.5 $\\mu$s | 10 $\\mu$s | 40 $\\mu$s | 1 ms | 2 n | 1 $\\mu$s | 1.05 ms |\n",
    "| $2n$ | 1 $\\mu$s | 1.05 ms | 13 days | $4x10^{13}$ years | $5.1x10^{43}$ years | $3.4x10^{284}$ years |\n",
    "| $n!$ | $3.6$ ms | 77 years | $9.6x10^{44}$ years | $3x10^{141}$ year | $2.5x10^{358}$ years | $1.27x10^{2551}$ years |\n"
   ]
  },
  {
   "cell_type": "markdown",
   "metadata": {},
   "source": [
    "It is a valid question to realise that the data to be sorted may be in various states of initial order. It is a less consuming process to sort an array that is almost sorted already. In practice, three scenarios are considered: average, worst, and best case. For this reason, while benchmarking the sorting algorithms, it is vital to use the same arrays. \n",
    "\n",
    "<figure>\n",
    "  <img src=\"https://miro.medium.com/max/1192/1*ipkeWQ_Lb0lbkhB8rigxTA.png\" alt=\"Big O notation\" style=\"width:596px\">\n",
    "  <figcaption>Image source: Bigocheatsheet.com, Medium.com</figcaption>\n",
    "</figure>"
   ]
  },
  {
   "cell_type": "markdown",
   "metadata": {},
   "source": [
    "There are two main types of sorting algorithms: comparison-based sorting and partition-based sorting. In the former the arrangement of the elements is performed on comparing the elements’ value. In the latter, the arrangement is achieved by division. For instance, in the bucket sorting algorithm, all the values are divided into groups - buckets, and the elements are distributed between the groups. Surprisingly, there are\n",
    "potentially faster ways to sort elements if you know something about those elements\n",
    "in advance ([G. T. Heinemann et al, Algorithms in a Nutshell, 2016](https://www.amazon.com/Algorithms-Nutshell-Practical-George-Heineman/dp/1491948922)).\n",
    "\n",
    "There are several further qualities of sorting algorithms. One of the most important is in-place sorting. It occurs if it requires only a fixed amount of additional, other than the given array, storage space during the sorting process, i.e. O(1). Opposite to this one is out-of-place sorting, which requires extra storage space on top of the given array, and creates another auxiliary array of data while the sorting process continues.\n",
    "\n",
    "Stable sorting algorithms maintain the order in which elements of the same value (key). This means that if prior to sorting one element of a particular value occurred before the other element of the same value, then after stable sorting this order will be always kept."
   ]
  },
  {
   "cell_type": "markdown",
   "metadata": {},
   "source": [
    "Application of data sorting algorithms can be found in numerous instances of computer programs. Very often the overall efficiency of a program depends on the sorting algorithm it uses. It is, therefore, important to understand the concept of algorithms complexity and know that there are different sorting algorithms. This would allow to select the most suitable algorithm for the purpose and to optimise efficiency of the sorting process"
   ]
  },
  {
   "cell_type": "markdown",
   "metadata": {},
   "source": [
    "___\n"
   ]
  },
  {
   "cell_type": "markdown",
   "metadata": {},
   "source": [
    "## 2.1 Bubble Sort"
   ]
  },
  {
   "cell_type": "markdown",
   "metadata": {},
   "source": [
    "### Algorithm description\n",
    "\n",
    "Key properties (Wikipedia, FreeCodeCamp):\n",
    "* Time complexity (average): O(n2)\n",
    "* Space complexity:  O(1)\n",
    "* Stable: Yes\n",
    "* In-place: Yes\n",
    "* Method: Exchanging\n",
    "\n",
    "Bubble sort is considered as one of the conceptually simplest sorting algorithms, but by the expense of time and space complexity, which are respectively O(n2) and O(1) ([Wikipedia - Bubble sort](https://en.wikipedia.org/wiki/Bubble_sort)). \n",
    "\n",
    "The idea is to make repeated passes up the array. On each pass the next lightest value will appear in the proper place. Assuming the array is indexed [0...n-1], we require (n − 1) passes to guarantee that the array is sorted. The bubbling process compares adjacent values and insures that the larger of the two is on top ([El Abbadi and Al Yasseri, NK-Sorting Algorithm, 2011](https://www.iasj.net/iasj?func=fulltext&aId=36934)).\n",
    "\n",
    "The below figure shows the process of Bubble sort. The steps represent iteration over the array’s elements. In step 1, the first two elements of the array are compared to each other. If the first one is greater than the other, a swap takes place. In other words, the greater element is moved forward. Next, element no.2 and element no.3 are compared, and again the greater is left in the front. Systematically, the greater element of each comparison is pushed forward until it encounters a greater one (and then they swap) or reaches the end of the array. By the time step 1 is over, all elements are compared, the largest element is identified and pushed at its final (sorted) position. In the next step this element is excluded from sorting. In step 2, the same procedure is repeated from the beginning. The array is being sorted iteratively in each step.\n",
    "<figure>\n",
    "  <img src=\"https://he-s3.s3.amazonaws.com/media/uploads/2682167.png\" alt=\"Bubble Sort\" style=\"width:740px\">\n",
    "  <figcaption>Image source: https://www.hackerearth.com/practice/algorithms/sorting/</figcaption>\n",
    "</figure>\n"
   ]
  },
  {
   "cell_type": "markdown",
   "metadata": {},
   "source": [
    "### Algorithm implementation"
   ]
  },
  {
   "cell_type": "code",
   "execution_count": 22,
   "metadata": {
    "jupyter": {
     "source_hidden": true
    }
   },
   "outputs": [],
   "source": [
    "######################################\n",
    "#   Bubble Sort                      \n",
    "######################################\n",
    "\n",
    "##### Credits #####\n",
    "# Source: https://stackabuse.com/sorting-algorithms-in-python/\n",
    "# Adapted and commented by the author of this Notebook\n",
    "\n",
    "##### Function definition #####\n",
    "# Function performing the bubble sort; it takes an arrey to be sorted as an argument\n",
    "def bubble_sort(array):\n",
    "    \n",
    "    # Variable swapped is initially set to True, so that the loop runs at least once\n",
    "    swapped = True\n",
    "    \n",
    "    while swapped:\n",
    "        \n",
    "        swapped = False\n",
    "        \n",
    "        # loop through each element of the array\n",
    "        for i in range(len(array) - 1):\n",
    "            \n",
    "            # compare current (i-th) element with the next one\n",
    "            \n",
    "            if array[i] > array[i + 1]:\n",
    "                \n",
    "                # when the above condition is satisfied, swap the elements\n",
    "                array[i], array[i + 1] = array[i + 1], array[i]\n",
    "                \n",
    "                # Set the swapped to True so it will loop again\n",
    "                swapped = True\n"
   ]
  },
  {
   "cell_type": "code",
   "execution_count": 2,
   "metadata": {
    "jupyter": {
     "source_hidden": true
    }
   },
   "outputs": [
    {
     "name": "stdout",
     "output_type": "stream",
     "text": [
      "Before: [2, 7, 1, 8, 4, 1]\n",
      "After: [1, 1, 2, 4, 7, 8]\n"
     ]
    }
   ],
   "source": [
    "# Verify the algorithm works\n",
    "random_list_of_nums = [2, 7, 1, 8, 4, 1]\n",
    "print(\"Before:\",random_list_of_nums)\n",
    "\n",
    "bubble_sort(random_list_of_nums)\n",
    "print(\"After:\",random_list_of_nums)"
   ]
  },
  {
   "cell_type": "markdown",
   "metadata": {},
   "source": [
    "## 2.2 Quicksort"
   ]
  },
  {
   "cell_type": "markdown",
   "metadata": {},
   "source": [
    "### Algorithm description\n",
    "\n",
    "Key properties (Wikipedia):\n",
    "* Time complexity (average): O(n logn)\n",
    "* Space complexity:  O(logn)\n",
    "* Stable: No\n",
    "* In-place: Yes\n",
    "* Method: Partitioning\n",
    "\n",
    "Quicksort is a highly efficient sorting algorithm. It is an example of a divide and conquer method. Quicksort sorts a list effectively by dividing the list into smaller and smaller lists, and sorting the smaller lists in turn ([A. C. Dalal, Searching and Sorting Algorithms, 2004](http://www.cs.carleton.edu/faculty/adalal/teaching/f04/117/notes/searchSort.pdf)). The procedure is repeated recursively ([El Abbadi and Al Yasseri, NK-Sorting Algorithm, 2011](https://www.iasj.net/iasj?func=fulltext&aId=36934)). This is an in-place algorithm and is not stable.\n",
    "\n",
    "The basic idea behind quicksort is this: Specify one element in the list as a “pivot” point. Then, go through all of the elements in the list, swapping items that are on the “wrong” side of the pivot. In other words, swap items that are smaller than the pivot but on the right side of the pivot with items that are larger than the pivot but on the left side of the pivot. Once you’ve done all possible swaps, move the pivot to wherever it belongs in the list. Now we can ignore the pivot, since it’s in position, and repeat the process for the two halves of the list (on each side of the pivot). We repeat this until all of the items in the list have been sorted ([A. C. Dalal, Searching and Sorting Algorithms, 2004](http://www.cs.carleton.edu/faculty/adalal/teaching/f04/117/notes/searchSort.pdf))."
   ]
  },
  {
   "cell_type": "markdown",
   "metadata": {},
   "source": [
    "<figure>\n",
    "  <img src=\"https://algs4.cs.princeton.edu/23quicksort/images/quicksort-overview.png\" alt=\"Quicksort\">\n",
    "  <figcaption>Image source: https://algs4.cs.princeton.edu/23quicksort/</figcaption>\n",
    "</figure>\n",
    "\n",
    "\n",
    "Quicksort is a divide-and-conquer method for sorting. It works by partitioning an array into two parts, then sorting the parts independently. The crux of the method is the partitioning process, which rearranges the array to make the following three conditions hold ([R. Sedgewick, K. Wayne, Algorithms, 2011](https://algs4.cs.princeton.edu/home/)):\n",
    "* The entry a[j] is in its final place in the array, for some j.\n",
    "* No entry in a[lo] through a[j-1] is greater than a[j].\n",
    "* No entry in a[j+1] through a[hi] is less than a[j].\n",
    "\n",
    "We achieve a complete sort by partitioning, then recursively applying the method to the subarrays. It is a randomized algorithm, because it randomly shuffles the array before sorting it ([R. Sedgewick, K. Wayne, Algorithms, 2011](https://algs4.cs.princeton.edu/home/)).\n",
    "\n",
    "<figure>\n",
    "  <img src=\"https://algs4.cs.princeton.edu/23quicksort/images/partitioning-overview.png\" alt=\"Quicksort\">\n",
    "  <figcaption>Image source: https://algs4.cs.princeton.edu/23quicksort/</figcaption>\n",
    "</figure>\n",
    "\n",
    "\n",
    "The process of the Quicksort is illustrated in the below figure.\n",
    "<figure>\n",
    "  <img src=\"https://algs4.cs.princeton.edu/23quicksort/images/quicksort.png\" alt=\"Quicksort\">\n",
    "  <figcaption>Image source: https://algs4.cs.princeton.edu/23quicksort/</figcaption>\n",
    "</figure>"
   ]
  },
  {
   "cell_type": "markdown",
   "metadata": {},
   "source": [
    "### Algorithm implementation"
   ]
  },
  {
   "cell_type": "code",
   "execution_count": 3,
   "metadata": {
    "jupyter": {
     "source_hidden": true
    }
   },
   "outputs": [],
   "source": [
    "######################################\n",
    "#   Quicksort                      \n",
    "######################################\n",
    "\n",
    "##### Credits #####\n",
    "# Source: https://youtu.be/u4tVQszsyEQ\n",
    "# Adapted and commented by the author of this Notebook\n",
    "\n",
    "\n",
    "##### Function definition #####\n",
    "# Function performing the quick sort; it takes an array to be sorted as an argument\n",
    "def sortowanie_szybkie(array):\n",
    "    \n",
    "    # creation of empty lists\n",
    "    mniejsze = [] # less than the pivot\n",
    "    rowne = [] # equal to the pivot\n",
    "    wieksze =[] # greater than the pivot\n",
    "    \n",
    "    # base case of the recursion \n",
    "    # check whether the array is more than one element long (otherwise, one-element list is considered to be sorted)\n",
    "    if len(array) <= 1:\n",
    "        return array\n",
    "    \n",
    "    # recursion case, when the array contains more than one element\n",
    "    else: \n",
    "        # set the pivot value at the middle element of the list\n",
    "        middle = (len(array))//2\n",
    "        pivot = array[middle]\n",
    "        \n",
    "        # let's consider three cases for each element of the list\n",
    "        for x in array:\n",
    "            \n",
    "            # case #1 - the current element is greater than the pivot\n",
    "            if x > pivot:\n",
    "                wieksze.append(x) # add the current element to the list \"wieksze\"\n",
    "                \n",
    "            # case #2 - the current element is equal to the pivot\n",
    "            elif x == pivot:\n",
    "                rowne.append(x) # add the current element to the list \"rowne\"\n",
    "                \n",
    "            # case #3 - the current element is less than the pivot\n",
    "            else:\n",
    "                mniejsze.append(x) # add the current element to the list \"mniejsze\"\n",
    "        \n",
    "        # as a result of the above loop, the function will return:\n",
    "        # in the middle: the element(s) that has just been sorted, i.e. equal to the pivot (as well as those sorted on previous recurses)\n",
    "        # on the left-hand side: elements that are less than the pivot - still unsorted, therefore the same function is called recursively (with the \"mniejsze\" list as an argument)\n",
    "        # on the the right-hand side: elements that are greater than the pivot - still unsorted, therefore the same function is called recursively (with the \"wieksze\" list as an argument)\n",
    "        \n",
    "        return sortowanie_szybkie(mniejsze) + rowne + sortowanie_szybkie(wieksze)\n",
    "        "
   ]
  },
  {
   "cell_type": "code",
   "execution_count": 4,
   "metadata": {
    "jupyter": {
     "source_hidden": true
    }
   },
   "outputs": [
    {
     "name": "stdout",
     "output_type": "stream",
     "text": [
      "Before: [2, 7, 1, 8, 4, 1]\n",
      "After: [1, 1, 2, 4, 7, 8]\n"
     ]
    }
   ],
   "source": [
    "# Verify the algorithm works\n",
    "random_list_of_nums = [2, 7, 1, 8, 4, 1]\n",
    "print(\"Before:\",random_list_of_nums)\n",
    "print(\"After:\",sortowanie_szybkie(random_list_of_nums))"
   ]
  },
  {
   "cell_type": "markdown",
   "metadata": {},
   "source": [
    "## 2.3 Bucket Sort"
   ]
  },
  {
   "cell_type": "markdown",
   "metadata": {},
   "source": [
    "### Algorithm description\n",
    "\n",
    "Key properties (Wikipedia):\n",
    "* Time complexity (average): O(n+k)\n",
    "* Space complexity: O(n*k)\n",
    "* Stable: Yes\n",
    "* In-place: No\n",
    "* Method: Partitioning\n",
    "\n",
    "Bucket Sort is an example of a non-comparison class algorithm. It is particularly useful when sorting relatively uniformly distributed elements in the array. When the input is drawn from a uniform distribution, bucket sort runs in linear time ([T. H. Cormen et. al, Introduction to Algorithms, 2009](https://web.ist.utl.pt/~fabio.ferreira/material/asa/clrs.pdf))\n",
    "\n",
    "The idea of the bucket sorting algorithm is as follows. First the given range of elements is divided into k sub-intervals (buckets) of the same size and desired sequence. Then, the elements are assigned to the appropriate buckets. For uniformly distributed elements in the array (which is a presumed condition), each bucket would receive a similar - and relatively small - number of the elements. After that, elements inside the buckets are sorted, typically using Insert Sort. Finally, the content of the buckets are put together (append) while maintaining the already arranged sequence.\n",
    "\n",
    "It is also possible to sort the content of the buckets by recursively calling the Bucket sort algorithm ([Programing-algorithms.net - Bucket sort]http://www.programming-algorithms.net/article/41160/Bucket-sort).\n",
    "\n",
    "The below figure shows the idea of the Bucket sort process.\n",
    "\n",
    "<figure>\n",
    "  <img src=\"https://cdn.programiz.com/sites/tutorial2program/files/Bucket_2.png\" alt=\"Bucket Sort\" style=\"width:500px\">\n",
    "  <figcaption>Image source: https://www.programiz.com/dsa/bucket-sort</figcaption>\n",
    "</figure>"
   ]
  },
  {
   "cell_type": "markdown",
   "metadata": {},
   "source": [
    "### Algorithm implementation"
   ]
  },
  {
   "cell_type": "code",
   "execution_count": 5,
   "metadata": {
    "jupyter": {
     "source_hidden": true
    }
   },
   "outputs": [],
   "source": [
    "######################################\n",
    "#   Bucket Sort                      \n",
    "######################################\n",
    "\n",
    "##### Credits #####\n",
    "# Own implementation, developed based on pseudocode from https://youtu.be/geVyIsFpxUs\n",
    "# Adapted and commented by the author of this Notebook\n",
    "\n",
    "# Auxiliary function that sorts the content of each bucket, using the insert sort\n",
    "# Adapted from: https://www.geeksforgeeks.org/bucket-sort-2/\n",
    "\n",
    "# the function takes one argument, a list\n",
    "def insertSort(list): \n",
    "    \n",
    "    # loop through all elements of the list\n",
    "    for i in range(1, len(list)): \n",
    "        #temorary variable \n",
    "        j = i-1 # j is equal to the previous iteration number\n",
    "        \n",
    "        # inner loop - executed as long as two conditions are satisfied\n",
    "        while list[j] > list[i] and j >= 0:  # compare the current and the previous element and the index of the previous element is not-negative\n",
    "            list[j+1] = list[j] # swap  \n",
    "            j -= 1 # decrementation\n",
    "            \n",
    "        list[j+1] = list[i] # move to the next element\n",
    "        \n",
    "    return list   \n",
    "        \n",
    "\n",
    "##### Function definition #####\n",
    "\n",
    "# import required external libraries\n",
    "import math # will be needed for ceil() method\n",
    "\n",
    "# define the function, which takes as an argument the array to be sorted\n",
    "def bucket_sort(array):\n",
    "\n",
    "    #print(\"Original list:\", arr) # for testing\n",
    "    \n",
    "    # number of buckets\n",
    "    n_buckets = 6 # assumed arbitrarily\n",
    "\n",
    "    # create an empty array of buckets, where each bucket is also an empty array\n",
    "    bucket = []\n",
    "    for i in range(n_buckets):\n",
    "        bucket.append([])\n",
    "        \n",
    "    # define a divider which will be used for sorting;\n",
    "    # divider is the value of the maximum element of the array to be sorted divided by number of buckets\n",
    "    divider = math.ceil((max(array)+1)/n_buckets)\n",
    "    # divider = 10 # alternatively to the above line, it can be just assumed arbitrarily\n",
    "\n",
    "    \n",
    "    # sorting the array's element into the buckets (unsorted)\n",
    "    # loop through the array\n",
    "    for i in array:\n",
    "        \n",
    "        # determine into which bucket index will fall each element of the arrey\n",
    "        j = i//divider\n",
    "        # put the current i-element of the array to the corresponding bucket\n",
    "        bucket[j].append(i)\n",
    "    \n",
    "    # for testing \n",
    "    #print(\"Sorted unto the buckets:\", bucket) # for testing\n",
    "        \n",
    "    # put sorted content of each bucket into a single array (concatenate single buckets)\n",
    "    # adopted from https://gist.github.com/sahid/5022081\n",
    "    sorted_result = []\n",
    "    for i in range(n_buckets):\n",
    "        \n",
    "        # adding the sorted content of each bucket to the resulting array, \n",
    "        # using the insertSort() function iteratively for each bucket\n",
    "        sorted_result += insertSort(bucket[i])\n",
    "        \n",
    "    return sorted_result \n"
   ]
  },
  {
   "cell_type": "code",
   "execution_count": 6,
   "metadata": {
    "jupyter": {
     "source_hidden": true
    }
   },
   "outputs": [
    {
     "name": "stdout",
     "output_type": "stream",
     "text": [
      "Before: [2, 7, 1, 8, 4, 1]\n",
      "After: [1, 1, 2, 4, 7, 8]\n"
     ]
    }
   ],
   "source": [
    "# Verify the algorithm works\n",
    "random_list_of_nums = [2, 7, 1, 8, 4, 1]\n",
    "print(\"Before:\",random_list_of_nums)\n",
    "print(\"After:\",bucket_sort(random_list_of_nums))"
   ]
  },
  {
   "cell_type": "markdown",
   "metadata": {},
   "source": [
    "## 2.4 Merge Sort"
   ]
  },
  {
   "cell_type": "markdown",
   "metadata": {},
   "source": [
    "### Algorithm description\n",
    "\n",
    "Key properties (Wikipedia):\n",
    "* Time complexity (average): O(n logn)\n",
    "* Space complexity: O(n)\n",
    "* Stable: Yes\n",
    "* In-place: No\n",
    "* Method: Merging\n",
    "\n",
    "Merge Sort is another highly efficient algorithm. Like the Quicksort algorithm, it also relies on ‘divide and conquer’ strategy, but applies a different approach. It is considered as a neat algorithm, because it’s “the sort that sorts itself” ([A. C. Dalal, Searching and Sorting Algorithms, 2004](http://www.cs.carleton.edu/faculty/adalal/teaching/f04/117/notes/searchSort.pdf)). According to Wolfram MathWorld, the algorithm was first proposed by John von Neumann in 1945. \n",
    "\n",
    "\n",
    "The main idea behind the algorithm is that two ordered lists are merged together into a single list ([Knuth, The Art of Computer Programming, Vol. 3: Sorting and Searching, 1998](https://en.wikipedia.org/wiki/The_Art_of_Computer_Programming)). Merge sort starts by dividing the list to be sorted in half. Then, it divides each of these halves in half. The algorithm repeats until all of these “sublists” have exactly one element in them. At that point, each sublist is sorted. In the next phase of the algorithm, the sublists are gradually merged back together (hence the name), until we get our original list back - sorted, of course ([A. C. Dalal, Searching and Sorting Algorithms, 2004](http://www.cs.carleton.edu/faculty/adalal/teaching/f04/117/notes/searchSort.pdf)).\n",
    "\n",
    "While merging two sub-lists, the first element of both lists is taken into consideration. While sorting in ascending order, the element that is of a lesser value becomes a new element of the sorted list. This procedure is repeated until both the smaller sublists are empty and the new combined sublist comprises all the elements of both the sublists ([Hackerearth.com](https://www.hackerearth.com/practice/algorithms/sorting/)).\n",
    "\n",
    "<figure>\n",
    "  <img src=\"https://www.101computing.net/wp/wp-content/uploads/Merge-Sort-Algorithm.png\" alt=\"Bubble Sort\" style=\"width:640px\">\n",
    "  <figcaption>Image source: https://www.101computing.net/merge-sort-algorithm/</figcaption>\n",
    "</figure>\n",
    "\n",
    "Below is the algorithm visualisation taken from Princeton University lectures materials.\n",
    "\n",
    "<figure>\n",
    "  <img src=\"https://algs4.cs.princeton.edu/22mergesort/images/mergesortTD.png\" alt=\"Bubble Sort\">\n",
    "  <figcaption>Image source: https://algs4.cs.princeton.edu/22mergesort/</figcaption>\n",
    "</figure>"
   ]
  },
  {
   "cell_type": "markdown",
   "metadata": {},
   "source": [
    "### Algorithm implementation"
   ]
  },
  {
   "cell_type": "code",
   "execution_count": 7,
   "metadata": {
    "jupyter": {
     "source_hidden": true
    }
   },
   "outputs": [],
   "source": [
    "######################################\n",
    "#   Merge Sort                      \n",
    "######################################\n",
    "\n",
    "##### Credits #####\n",
    "# Source: https://stackabuse.com/sorting-algorithms-in-python/\n",
    "# Adapted and commented by the author of this Notebook\n",
    "\n",
    "\n",
    "# Auxiliary function, merging and sorting two arrays\n",
    "def merge(left_list, right_list):\n",
    "    sorted_list = []\n",
    "    left_list_index = right_list_index = 0\n",
    "\n",
    "    # We use the list lengths often, so its handy to make variables\n",
    "    left_list_length, right_list_length = len(left_list), len(right_list)\n",
    "\n",
    "    for _ in range(left_list_length + right_list_length):\n",
    "        \n",
    "        if left_list_index < left_list_length and right_list_index < right_list_length:\n",
    "            \n",
    "            # We check which value from the start of each list is smaller\n",
    "            # If the item at the beginning of the left list is smaller, add it to the sorted list\n",
    "            if left_list[left_list_index] <= right_list[right_list_index]:\n",
    "                sorted_list.append(left_list[left_list_index])\n",
    "                left_list_index += 1\n",
    "                \n",
    "            # If the item at the beginning of the right list is smaller, add it to the sorted list\n",
    "            else:\n",
    "                sorted_list.append(right_list[right_list_index])\n",
    "                right_list_index += 1\n",
    "\n",
    "        # If we've reached the end of the of the left list, add the element from the right list\n",
    "        elif left_list_index == left_list_length:\n",
    "            \n",
    "            sorted_list.append(right_list[right_list_index])\n",
    "            right_list_index += 1\n",
    "            \n",
    "        # If we've reached the end of the of the right list, add the elements from the left list\n",
    "        elif right_list_index == right_list_length:\n",
    "            sorted_list.append(left_list[left_list_index])\n",
    "            left_list_index += 1\n",
    "\n",
    "    # final result of the sorting\n",
    "    return sorted_list\n",
    "\n",
    "\n",
    "##### Function definition #####\n",
    "# Function performing the merge sort; it takes an array to be sorted as an argument\n",
    "def merge_sort(array):\n",
    "    \n",
    "    # If the list is a single element, return it\n",
    "    if len(array) <= 1:\n",
    "        return array\n",
    "\n",
    "    # Use floor division to get midpoint, indices must be integers\n",
    "    mid = len(array) // 2\n",
    "\n",
    "    # Sort and merge each half\n",
    "    left_list = merge_sort(array[:mid])\n",
    "    right_list = merge_sort(array[mid:])\n",
    "\n",
    "    # Merge the sorted lists into a new one\n",
    "    return merge(left_list, right_list)\n"
   ]
  },
  {
   "cell_type": "code",
   "execution_count": 23,
   "metadata": {
    "jupyter": {
     "source_hidden": true
    }
   },
   "outputs": [
    {
     "name": "stdout",
     "output_type": "stream",
     "text": [
      "Before: [2, 7, 1, 8, 4, 1]\n",
      "After: [1, 1, 2, 4, 7, 8]\n"
     ]
    }
   ],
   "source": [
    "# Verify the algorithm works\n",
    "random_list_of_nums = [2, 7, 1, 8, 4, 1]\n",
    "print(\"Before:\",random_list_of_nums)\n",
    "print(\"After:\",merge_sort(random_list_of_nums))"
   ]
  },
  {
   "cell_type": "markdown",
   "metadata": {},
   "source": [
    "## 2.5 Timsort"
   ]
  },
  {
   "cell_type": "markdown",
   "metadata": {},
   "source": [
    "### Algorithm description\n",
    "\n",
    "Key properties (Wikipedia):\n",
    "* Time complexity (average): O(n logn)\n",
    "* Space complexity: O(n)\n",
    "* Stable: Yes\n",
    "* In-place: No\n",
    "* Method: Insertion and merging\n",
    "\n",
    "Timsort is a relatively recent sorting algorithm, implemented by Tim Peters in 2002. It is an example of a hybrid sorting algorithm, combining Merge sort and Insertion sort in order to optimise the overall performance. The algorithm is characterised by its adaptive and stable properties ([https://bugs.python.org/file4451/timsort.txt](https://bugs.python.org/file4451/timsort.txt)).\n",
    "\n",
    "The algorithm has replaced the Quick sort in some major programming languages (e.g. Python, Java), It is particularly suited to almost sorted inputs that exist in most real-world data ([Wikipedia, Timsort](https://en.wikipedia.org/wiki/Timsort)). Its time complexity is described as O(n logn) ([N. Auger et. al, On the Worst-Case Complexity of TimSort, 2018](https://drops.dagstuhl.de/opus/volltexte/2018/9467/pdf/LIPIcs-ESA-2018-4.pdf))\n",
    "\n",
    "In a nutshell, the main routine marches over the array once, left to right, alternately identifying the next run, then merging it into the previous runs \"intelligently\". Everything else is complication for speed, and some hard-won measure of memory efficiency ([https://bugs.python.org/file4451/timsort.txt](https://bugs.python.org/file4451/timsort.txt)).\n",
    "\n",
    "The algorithm divides the array into segments called runs, typically of size 32 to 64.\n",
    "In a dataset, a natural run is a state of the array wherein at least two consecutive elements are currently (relative to the array’s global and local states) in either ascending or descending order. Should the two elements not be in correct ascending order, they are simply reversed in place. Timsort makes a first-pass across the array in search of such runs, while concurrently seeking to identify a minrun, or the minimum size of an ordered list within the list ([Medium, The case for Timsort](https://medium.com/@rscheiwe/the-case-for-timsort-349d5ce1e414)):\n",
    "\n",
    "<figure>\n",
    "  <img src=\"https://miro.medium.com/max/1400/0*9J7j17iPNp3E04iR.png\" alt=\"Bubble Sort\" style=\"width:500px\">\n",
    "  <figcaption>Image source:https://medium.com/@rscheiwe/the-case-for-timsort-349d5ce1e414</figcaption>\n",
    "</figure>\n",
    "\n",
    "If a run is smaller than this minimum run size, insertion sort is used to add more elements to the run until the minimum run size is reached ([Wikipedia - Timsort](https://en.wikipedia.org/wiki/Timsort)). \n",
    "\n",
    "If, say, the minrun is equal to or less than 64 elements, Timsort knows to reduce itself to Binary Insertion sort, which guarantees the implementation of merging only in cases where the “weight” of a minrun is too much (e.g., cases where merging cannot be efficiently implemented because the number of minruns is greater than the power of two). In such cases where the array is greater than 64 elements, the first-pass natural-run search determines said natural runs for the sake of merging. It is ideal to delay merging until the optimized time, given the fact that an array may not be fully reduced to its set of runs without the algorithms “knowledge” of exclusive or excluded elements, not to mention the array’s size ([Medium, The case for Timsort](https://medium.com/@rscheiwe/the-case-for-timsort-349d5ce1e414)).\n",
    "\n",
    "These segments are then sorted using insertion sort and merged together, forming finally the sorted array.\n",
    "\n",
    "<figure>\n",
    "  <img src=\"https://corte.si/posts/code/timsort/64r-tim.png\" alt=\"Bubble Sort\" style=\"width:700px\">\n",
    "  <figcaption>Image source:https://corte.si/posts/code/timsort/index.html</figcaption>\n",
    "</figure>\n",
    "\n",
    "This algorithm is similar to Merge sort, but was designed to take advantage of runs of consecutive ordered elements that already exist in most real-world data. The advantage of merging ordered runs instead of merging fixed size sub-lists (as done by traditional mergesort) is that it decreases the total number of comparisons needed to sort the entire list ([Wikipedia - Timsort](https://en.wikipedia.org/wiki/Timsort)).\n",
    "\n",
    "Timsort utilises a concept of ‘galloping’, which enhances the merging process.\n",
    "In galloping mode, Timsort takes two runs (called “sub-runs”, say X and Y) and checks, via binary search, if Y[0] could fit into X. If so, the entirety of the run is placed at the found position given the fact that the two runs are accordingly sorted due to the created of runs in Timsort’s previous step(s). Should Y[0] not fit in to Xat Y[0], then the process is reversed and Timsort attempts to insert X[0] into Y ([Medium. com - The case for Timsort](https://medium.com/@rscheiwe/the-case-for-timsort-349d5ce1e414)).\n",
    "\n",
    "\n",
    "<figure>\n",
    "  <img src=\"https://miro.medium.com/max/1024/0*tQAmlZPVcmcYLKaX.png\" alt=\"Bubble Sort\" style=\"width:500px\">\n",
    "  <figcaption>Image source:https://medium.com/@rscheiwe/the-case-for-timsort-349d5ce1e414</figcaption>\n",
    "</figure>\n",
    "\n",
    "Timsort is now commonly commented as the most efficient sorting algorithm currently available for real-life data ([Medium.com](https://medium.com/@george.seif94/this-is-the-fastest-sorting-algorithm-ever-b5cee86b559c), [Hackernoon.com](https://hackernoon.com/timsort-the-fastest-sorting-algorithm-youve-never-heard-of-36b28417f399)).\n"
   ]
  },
  {
   "cell_type": "markdown",
   "metadata": {},
   "source": [
    "### Algorithm implementation"
   ]
  },
  {
   "cell_type": "code",
   "execution_count": 9,
   "metadata": {
    "jupyter": {
     "source_hidden": true
    }
   },
   "outputs": [],
   "source": [
    "######################################\n",
    "#   Timsort                      \n",
    "######################################\n",
    "\n",
    "##### Credits #####\n",
    "# Source: https://quinston.com/code-snippets/\n",
    "# Adapted and commented by the author of this Notebook\n",
    "\n",
    "\n",
    "# Auxiliary function that sorts the content of each run, using the insert sort algorithm\n",
    "# Function InsertionSort() takes one argument - an array\n",
    "def InsertionSort(array):\n",
    "\n",
    "    # loop through all elements of the array\n",
    "    for x in range (1, len(array)):\n",
    "       \n",
    "        # inner loop\n",
    "        for i in range(x, 0, -1): # decrementation\n",
    "           \n",
    "            # compare current and the next (because decrementation) element\n",
    "            if array[i] < array[i - 1]:\n",
    "                # swap the values if condition satisfied\n",
    "                array[i], array[i - 1] = array[i - 1], array[i]\n",
    "                \n",
    "            else:\n",
    "                break\n",
    "                \n",
    "            # decrementation\n",
    "            i = i - 1\n",
    "            \n",
    "    return array\n",
    "\n",
    "\n",
    "# Merge Sort implementation\n",
    "# The Merge() function takes two arguments - two arrays - and merge them together. The function returns yet another array\n",
    "def Merge(aArr, bArr):\n",
    "    \n",
    "    a = 0 # a is a pointer (index position) of aArr array\n",
    "    b = 0 # b is a pointer of bArr array\n",
    "    \n",
    "    # placeholder - an empty array cArr which will be holding sorted values of aArr and bArr arrays\n",
    "    cArr = []\n",
    "\n",
    "    # end of loop codition:\n",
    "    while a < len(aArr) and b < len(bArr):\n",
    "        # check if a-element of array aArr is less than b-element of array bArr\n",
    "        if aArr[a] < bArr[b]:\n",
    "            cArr.append(aArr[a]) # if the condition is satisfied, assign the value of a-element to cArr array\n",
    "            a = a + 1 # move the pointer to the next aArr array index\n",
    "            \n",
    "        elif aArr[a] > bArr[b]:\n",
    "            cArr.append(bArr[b])\n",
    "            b = b + 1\n",
    "        \n",
    "        # in case the a-element of aArra and b-element of bArr are equal\n",
    "        else:\n",
    "            cArr.append(aArr[a])\n",
    "            cArr.append(bArr[b])\n",
    "            a = a + 1\n",
    "            b = b + 1\n",
    "    \n",
    "    # when there are no left elements from bArr to compare with aArr, the remaining elements from aArr are appended at the end of cArr array\n",
    "    while a < len(aArr):\n",
    "        cArr.append(aArr[a])\n",
    "        a = a + 1\n",
    "\n",
    "    while b < len(bArr):\n",
    "        cArr.append(bArr[b])\n",
    "        b = b + 1\n",
    "\n",
    "    # function returns merged the two arrays, sorted\n",
    "    return cArr\n",
    "\n",
    "\n",
    "##### Function definition #####\n",
    "# Implementation of the TimSort sorting algorithm, with an array to be sorted as an argument.\n",
    "# Funtion TimSort divides the array to be sorted (arr) into smaller chunks of size RUN.\n",
    "# The variable RUN is defined outside the funtion body, prior to its first call.\n",
    "def TimSort(array):\n",
    "\n",
    "    # chunk size - the array will be splitted into this size of chunks, usually the chunk size is between 32 and 64\n",
    "    RUN = 32   \n",
    "    \n",
    "    # divide the array into chunks\n",
    "    for x in range(0, len(array), RUN): # loop starting from index 0, to the last element of the array, with incrementing step size RUN; note the value of len(arr) is excluded from the loop\n",
    "        # arr[x: x+RUN] is the current slice of the array (from x to x+RUN)\n",
    "        # values of the current array slice are transfered (passed) to InsertionSort function; the return from the InsertionSort is already sorted array assigned to the original slice\n",
    "        array[x: x+RUN] = InsertionSort(array[x: x+RUN])\n",
    "    \n",
    "    \n",
    "    # merging the already sortd slices of the array\n",
    "    # create an auxiliary variable     \n",
    "    RUNinc = RUN\n",
    "    # define loop termination condition\n",
    "    while RUNinc < len(array):\n",
    "        \n",
    "        # the array is divided into pairs of neighbouring slices and passed to Merge() function\n",
    "        for x in range(0, len(array), 2 * RUNinc):\n",
    "            # the return from the Merge() function is assigned to the slice (size of 2xRUN) original array\n",
    "            array[x: x+2 * RUNinc] = Merge(array[x: x+RUNinc], array[x+RUNinc: x+2*RUNinc])\n",
    "        \n",
    "        # incrementation for the while loop\n",
    "        RUNinc = RUNinc*2\n",
    "\n",
    "    return array\n"
   ]
  },
  {
   "cell_type": "code",
   "execution_count": 10,
   "metadata": {
    "jupyter": {
     "source_hidden": true
    }
   },
   "outputs": [
    {
     "name": "stdout",
     "output_type": "stream",
     "text": [
      "Before: [2, 7, 1, 8, 4, 1]\n",
      "After: [1, 1, 2, 4, 7, 8]\n"
     ]
    }
   ],
   "source": [
    "# Verify the algorithm works\n",
    "random_list_of_nums = [2, 7, 1, 8, 4, 1]\n",
    "print(\"Before:\",random_list_of_nums)\n",
    "TimSort(random_list_of_nums)\n",
    "print(\"After:\",random_list_of_nums)"
   ]
  },
  {
   "cell_type": "markdown",
   "metadata": {},
   "source": [
    "____\n",
    "## 3.1 About the benchmark"
   ]
  },
  {
   "cell_type": "markdown",
   "metadata": {},
   "source": [
    "### Algorithms selection\n",
    "\n",
    "The five sorting algorithms are selected according to the following criteria:\n",
    "\n",
    "1. A simple comparison-based sort - I have chosen to analyse the **Bubble Sort**\n",
    "2. An efficient comparison-based sort - **Quicksort**\n",
    "3. A non-comparison sort - **Bucket Sort** \n",
    "\n",
    "The remaining two algorithms were left to my choice:\n",
    "\n",
    "4. Another efficient sort - **Merge Sort**\n",
    "5. A hybrid sort - **Timsort** \n",
    "\n",
    "Additionally, for comparison, the Python's built-in sorting algorithm - **sorted()** method has been also benchmarked.\n",
    "\n",
    "Each of the five selected algorithms are briefly described followed by the algorithms implementation in Python and benchmarked. The benchmarking is about running the sorting algorithms for various input size random numbers arrays and measuring the time it takes to run. \n",
    "\n",
    "Finally, at the end of the report, the results of the benchmarking process are discussed and key findings presented.\n"
   ]
  },
  {
   "cell_type": "markdown",
   "metadata": {},
   "source": [
    "### The benchmark conditions\n",
    "\n",
    "This project is about assessment of the time complexity of the selected sorting algorithms, or more accurately - their actual implementations. This means measuring the time required for execution, and comparison to each other as well as to the results found in the literature. \n",
    "\n",
    "In the benchmark, arrays of randomly generated integers with different input sizes $n$ are used. A variety of different input sizes were selected, as per project brief, i.e. $n$=100, 250, 500, 750, 1000, 1250, 2500, 3750, 5000, 6250, 7500, 8750, 10000 to test the effect of the input size on the running time of each algorithm. The arrays consist of integer numbers randomly generated in a range from 0 to 99.\n",
    "\n",
    "Even though the selected sorting algorithms are well known, the tests are subject to numerous factors affecting the timing, and resulting in potential deviation from their expected performances presented in the literature. These factors include among others the array size, the array pre-sorting arrangement, actual algorithms implementation, processor performance, or other processes being performed while executing the sorting algorithm.\n",
    "\n",
    "In order to make the benchmarking more accurate, each test will be repeated ten times and the average of the measured times will be considered in the benchmark. Additionally, for the sake of the test credibility, each run for each algorithm and array size is repeated ten times, and the average result taken into analysis.\n",
    "\n",
    "Furthermore, as the elements of the arrays are randomised, there is a risk that the arrays would be in various degrees pre-sorted, which may lead to uneven sorting cases. In order to eliminate this, the same arrays’ values (for given array size) were used (by cloning) for each sorting algorithm and each of ten runs within the test. Exactly the same arrays will be used for timing the sorting algorithms, in order to increase the credibility of the benchmarking."
   ]
  },
  {
   "cell_type": "markdown",
   "metadata": {},
   "source": [
    "## 3.2 Benchmark procedure"
   ]
  },
  {
   "cell_type": "markdown",
   "metadata": {},
   "source": [
    "\n",
    "The execution times for each algorithm and size of the array being sorted is recorded and stored in a a form of a data table. The dataset is organised into columns corresponding to the sorting algorithms, and rows, representing the size of the array. The type of the dataset is Pandas' _DataFrame_, and is assigned to the variable named `data`.\n",
    "\n",
    "Below I am creating an empty dataset with the following headings only. Subsequently, the value of time for each algorithm and array size will be added to the dataset.\n",
    "\n",
    "* `Size` - the size of the array, \n",
    "* `Bubble` - Bubble sort algorithm,\n",
    "* `Quick` - Quicksort,\n",
    "* `Bucket` - Bucket sort,\n",
    "* `Merge` - Merge sort,\n",
    "* `Tim` - Timsort,\n",
    "* `Python` - Python's built in method sorted() - for comparison.\n",
    "\n",
    "Getting times and collation the results into the dataframe. Each test is run `num_runs` times and the average time is then put into the dataset.\n"
   ]
  },
  {
   "cell_type": "code",
   "execution_count": 11,
   "metadata": {},
   "outputs": [],
   "source": [
    "#  external Python libraries for building and analysing the dataset.\n",
    "import numpy as np # numerical calculations\n",
    "import pandas as pd # data manipulation\n",
    "import time # time stamps\n",
    "\n",
    "\n",
    "# creation of empty data (just headings)\n",
    "data = pd.DataFrame(columns = [\"Size\", \"Bubble\", \"Quick\", \"Bucket\", \"Merge\", \"Tim\", \"Python\"]) \n",
    "\n",
    "\n",
    "# adding values of the size column to the dataset, assumed arbitrarily, based on the project brief.\n",
    "data[\"Size\"] = (100, 250, 500, 750, 1000, 1250, 2500, 3750, 5000, 6250, 7500, 8750, 10000)\n",
    "\n",
    "\n",
    "# a smaller input sizes for visual inspection and testing purposes\n",
    "#data[\"Size\"] = (10, 20, 30, 40, 50, 60, 70, 80, 90, 100)"
   ]
  },
  {
   "cell_type": "markdown",
   "metadata": {},
   "source": [
    "### Generating random data arrays \n",
    "\n",
    "For each of the array size is populated with randomly generated integer numbers in a range from 0 to 99. \n",
    "\n",
    "For each of the selected array sizes, ten different arrays will be generated and stored for the analysis. Exactly the same arrays (clones) will be used for timing the sorting algorithms."
   ]
  },
  {
   "cell_type": "code",
   "execution_count": 12,
   "metadata": {},
   "outputs": [],
   "source": [
    "# generating arrays of random numbers\n",
    "\n",
    "# based on algorithm provided in the project brief\n",
    "def random_array(size): \n",
    "    \n",
    "    # create an empty array\n",
    "    array = []\n",
    "    \n",
    "    # populate the arr list with randomly generated numbers\n",
    "    for i in range(size):\n",
    "        array.append(np.random.randint(0, 100)) # random integer numbers in range from 0 to 99\n",
    "        \n",
    "    return array\n",
    "\n",
    "\n",
    "# generation of arrays for each test sizes\n",
    "\n",
    "# create an empty container to hold the set of arrays\n",
    "random_number_arrays = []\n",
    "\n",
    "# loop through array sizes and for each one assign rundom numbers for each array size (array size is shown in \"data\" DataFrame, column \"size\")\n",
    "for array_size in data[\"Size\"]:\n",
    "    \n",
    "    # create an auxiliary counter representing the index \n",
    "    random_number_arrays_index = 0\n",
    "    \n",
    "    # call function random_array(), passing as an argument the number of elements to be generated\n",
    "    random_number_arrays.append(random_array(array_size))\n",
    "    \n",
    "    # increment the counter by 1\n",
    "    random_number_arrays_index += 1"
   ]
  },
  {
   "cell_type": "code",
   "execution_count": 13,
   "metadata": {},
   "outputs": [
    {
     "data": {
      "text/plain": [
       "'\\nfor i in range(len(data[\"Size\"])):\\n    print(\"\\nArray #\", i+1, \"\\tSize:  \", len(random_number_arrays[i]))\\n    for j in range(len(random_number_arrays[i])):\\n        if j<5: # print out first 5 elements of the array\\n            print(j, \"\\t\", random_number_arrays[i][j])\\n'"
      ]
     },
     "execution_count": 13,
     "metadata": {},
     "output_type": "execute_result"
    }
   ],
   "source": [
    "# for testing only, show existing arrays, their sizes and first few elements\n",
    "'''\n",
    "for i in range(len(data[\"Size\"])):\n",
    "    print(\"\\nArray #\", i+1, \"\\tSize:  \", len(random_number_arrays[i]))\n",
    "    for j in range(len(random_number_arrays[i])):\n",
    "        if j<5: # print out first 5 elements of the array\n",
    "            print(j, \"\\t\", random_number_arrays[i][j])\n",
    "'''"
   ]
  },
  {
   "cell_type": "markdown",
   "metadata": {},
   "source": [
    "#### Bubble Sort"
   ]
  },
  {
   "cell_type": "code",
   "execution_count": 14,
   "metadata": {},
   "outputs": [],
   "source": [
    "#######################################\n",
    "#   Bubble Sort Benachmark                      \n",
    "#######################################\n",
    "\n",
    "# loop through each array size defined in the data[\"Size\"] column, that is arrays of quantity of elements 100, 250, 500, etc\n",
    "for current_array in range(len(data[\"Size\"])-4): # Note: the last four of the input sizes are not tested for this sorting algorithm\n",
    "    \n",
    "    # for testing - show which array is being processed and its number of elements\n",
    "    #print(\"Array #\\t\", current_array+1, \"\\tSize:\", data.loc[(current_array),\"Size\"])\n",
    "    \n",
    "    # a placeholder to store results for each test\n",
    "    intermediate_results = []\n",
    "\n",
    "    # perform the same sorting test several times in order to get the avarage time\n",
    "    num_runs = 10 # number of the tests \n",
    "    \n",
    "        \n",
    "    # benchmarking algorithm \n",
    "    for r in range(num_runs):\n",
    "        \n",
    "        # make a copy of the array to preserve the original unsorted order for the remaining runs\n",
    "        ar = random_number_arrays[current_array].copy() \n",
    "        \n",
    "        # for testing - array before sorting\n",
    "        #t1 = []\n",
    "        #for j in range(10): # show only 10 first elements of the array\n",
    "        #    t1.append(ar[j])\n",
    "        #print(\"\\tFirst 10 elements before sorting:\\t\", t1)\n",
    "        \n",
    "        # log the start time (time stamp)\n",
    "        start_time = time.time()\n",
    "    \n",
    "    \n",
    "        ##### call the sorting implementation to be benchmarked #####\n",
    "        bubble_sort(ar)\n",
    "        \n",
    "         \n",
    "        # for testing - array after sorting\n",
    "        #t2 = []\n",
    "        #for j in range(10): #  10 first elements \n",
    "        #    t2.append(ar[j])\n",
    "        #print(\"\\tFirst 10 elements after sorting:\\t\", t2)\n",
    "                \n",
    "        # log the end time (time stamp)\n",
    "        end_time = time.time()\n",
    "        \n",
    "        # calculate the elapsed time\n",
    "        time_elapsed = end_time - start_time\n",
    "            \n",
    "        # for testing - show time of each run\n",
    "        #print(\"Time of run\", r+1,\":\", time_elapsed, \"\\n\")\n",
    "    \n",
    "        # for each sorting instance, add the time to the below array\n",
    "        intermediate_results.append(time_elapsed)\n",
    "    \n",
    "    # Average result from all runs for the current array size\n",
    "    average_result = np.mean(intermediate_results) * 1000 # in milliseconds\n",
    "    \n",
    "    # for testing - show average time for all analysed array sizes\n",
    "    #print(\"Array size\", data.loc[(current_array),\"Size\"], \"   \\tAverage time of\", num_runs, \"tests:\", average_result)\n",
    "    #print()\n",
    "    \n",
    "    #add the average time to the dataframe\n",
    "    data.loc[current_array, \"Bubble\"] = average_result"
   ]
  },
  {
   "cell_type": "markdown",
   "metadata": {},
   "source": [
    "#### Quicksort benchmark"
   ]
  },
  {
   "cell_type": "code",
   "execution_count": 15,
   "metadata": {},
   "outputs": [],
   "source": [
    "#######################################\n",
    "#   Quicksort Benachmark                      \n",
    "#######################################\n",
    "\n",
    "# loop through each array size defined in the data[\"Size\"] column, that is arrays of quantity of elements 100, 250, 500, etc\n",
    "for current_array in range(len(data[\"Size\"])): \n",
    "    \n",
    "    # for testing - show which array is being processed and its number of elements\n",
    "    #print(\"Array #\\t\", current_array+1, \"\\tSize:\", data.loc[(current_array),\"Size\"])\n",
    "    \n",
    "    # a placeholder to store results for each test\n",
    "    intermediate_results = []\n",
    "\n",
    "    # perform the same sorting test several times in order to get the avarage time\n",
    "    num_runs = 10 # number of the tests \n",
    "    \n",
    "        \n",
    "    # benchmarking algorithm \n",
    "    for r in range(num_runs):\n",
    "        \n",
    "        # make a copy of the array to preserve the original unsorted order for the remaining runs\n",
    "        ar = random_number_arrays[current_array].copy() \n",
    "        \n",
    "   \n",
    "        # for testing - array before sorting\n",
    "        #t1 = []\n",
    "        #for j in range(10): # show only 10 first elements of the array\n",
    "        #    t1.append(ar[j])\n",
    "        #print(\"\\tFirst 10 elements before sorting:\\t\", t1)\n",
    "        \n",
    "        # log the start time (time stamp)\n",
    "        start_time = time.time()\n",
    "    \n",
    "        ##### call the sorting implementation to be benchmarked #####\n",
    "        sortowanie_szybkie(ar)\n",
    "        \n",
    "        \n",
    "        # for testing - array after sorting\n",
    "        #t2 = []\n",
    "        #for j in range(10): #  10 first elements \n",
    "        #    t2.append(ar[j])\n",
    "        #print(\"\\tFirst 10 elements after sorting:\\t\", t2)\n",
    "         \n",
    "        # log the end time (time stamp)\n",
    "        end_time = time.time()\n",
    "        \n",
    "        # calculate the elapsed time\n",
    "        time_elapsed = end_time - start_time\n",
    "            \n",
    "        # for testing - show time of each run\n",
    "        #print(\"Time of run\", r+1,\":\", time_elapsed, \"\\n\")\n",
    "    \n",
    "        # for each sorting instance, add the time to the below array\n",
    "        intermediate_results.append(time_elapsed)\n",
    "    \n",
    "    # Average result from all runs for the current array size\n",
    "    average_result = np.mean(intermediate_results) * 1000 # in milliseconds\n",
    "    \n",
    "    # for testing - show average time for all analysed array sizes\n",
    "    #print(\"Array size\", data.loc[(current_array),\"Size\"], \"   \\tAverage time of\", num_runs, \"tests:\", average_result)\n",
    "    #print()\n",
    "    \n",
    "    #add the average time to the dataframe\n",
    "    data.loc[current_array, \"Quick\"] = average_result\n",
    "    "
   ]
  },
  {
   "cell_type": "markdown",
   "metadata": {},
   "source": [
    "#### Bucket Sort benchmark"
   ]
  },
  {
   "cell_type": "code",
   "execution_count": 16,
   "metadata": {},
   "outputs": [],
   "source": [
    "#######################################\n",
    "#   Bucket Sort Benachmark                      \n",
    "#######################################\n",
    "\n",
    "# loop through each array size defined in the data[\"Size\"] column, that is arrays of quantity of elements 100, 250, 500, etc\n",
    "for current_array in range(len(data[\"Size\"])): # Note: the last three arrays  tested for this sorting algorithm\n",
    "    \n",
    "    # for testing - show which array is being processed and its number of elements\n",
    "    #print(\"Array #\\t\", current_array+1, \"\\tSize:\", data.loc[(current_array),\"Size\"])\n",
    "        \n",
    "    # a placeholder to store results for each test\n",
    "    intermediate_results = []\n",
    "\n",
    "    # perform the same sorting test several times in order to get the avarage time\n",
    "    num_runs = 10 # number of the tests \n",
    "    \n",
    "        \n",
    "    # benchmarking algorithm \n",
    "    for r in range(num_runs):\n",
    "        \n",
    "        # make a copy of the array to preserve the original unsorted order for the remaining runs\n",
    "        ar = random_number_arrays[current_array].copy() \n",
    "        \n",
    "        # for testing - array before sorting\n",
    "        #t1 = []\n",
    "        #for j in range(10): # show only 10 first elements of the array\n",
    "        #    t1.append(ar[j])\n",
    "        #print(\"\\tFirst 10 elements before sorting:\\t\", t1)\n",
    "        \n",
    "        # log the start time (time stamp)\n",
    "        start_time = time.time()\n",
    "    \n",
    "        \n",
    "        ##### call the sorting implementation to be benchmarked #####\n",
    "        bucket_sort(ar)\n",
    "        \n",
    "        \n",
    "        # for testing - array after sorting\n",
    "        #t2 = []\n",
    "        #for j in range(10): #  10 first elements \n",
    "        #    t2.append(ar[j])\n",
    "        #print(\"\\tFirst 10 elements after sorting:\\t\", t2)\n",
    "         \n",
    "        # log the end time (time stamp)\n",
    "        end_time = time.time()\n",
    "        \n",
    "        # calculate the elapsed time\n",
    "        time_elapsed = end_time - start_time\n",
    "            \n",
    "        # for testing - show time of each run\n",
    "        #print(\"Time of run\", r+1,\":\", time_elapsed, \"\\n\")\n",
    "    \n",
    "        # for each sorting instance, add the time to the below array\n",
    "        intermediate_results.append(time_elapsed) \n",
    "    \n",
    "    # Average result from all runs for the current array size\n",
    "    average_result = np.mean(intermediate_results) * 1000 # in milliseconds\n",
    "    \n",
    "    # for testing - show average time for all analysed array sizes\n",
    "    #print(\"Array size\", data.loc[(current_array),\"Size\"], \"   \\tAverage time of\", num_runs, \"tests:\", average_result)\n",
    "    #print()\n",
    "    \n",
    "    #add the average time to the dataframe\n",
    "    data.loc[current_array, \"Bucket\"] = average_result"
   ]
  },
  {
   "cell_type": "markdown",
   "metadata": {},
   "source": [
    "#### Merge Sort benchmark"
   ]
  },
  {
   "cell_type": "code",
   "execution_count": 17,
   "metadata": {},
   "outputs": [],
   "source": [
    "#######################################\n",
    "#   Merge Sort Benachmark                      \n",
    "#######################################\n",
    "\n",
    "# loop through each array size defined in the data[\"Size\"] column, that is arrays of quantity of elements 100, 250, 500, etc\n",
    "for current_array in range(len(data[\"Size\"])): \n",
    "    \n",
    "    # for testing - show which array is being processed and its number of elements\n",
    "    #print(\"Array #\\t\", current_array+1, \"\\tSize:\", data.loc[(current_array),\"Size\"])\n",
    "        \n",
    "    # a placeholder to store results for each test\n",
    "    intermediate_results = []\n",
    "    \n",
    "    # perform the same sorting test several times in order to get the avarage time\n",
    "    num_runs = 10 # number of the tests \n",
    "    \n",
    "        \n",
    "    # benchmarking algorithm \n",
    "    for r in range(num_runs):\n",
    "        \n",
    "        # make a copy of the array to preserve the original unsorted order for the remaining runs\n",
    "        ar = random_number_arrays[current_array].copy() \n",
    "        \n",
    "        # for testing - array before sorting\n",
    "        #t1 = []\n",
    "        #for j in range(10): # show only 10 first elements of the array\n",
    "        #    t1.append(ar[j])\n",
    "        #print(\"\\tFirst 10 elements before sorting:\\t\", t1)\n",
    "        \n",
    "        # log the start time (time stamp)\n",
    "        start_time = time.time()\n",
    "    \n",
    "    \n",
    "        ##### call the sorting implementation to be benchmarked #####\n",
    "        merge_sort(ar)\n",
    "        \n",
    "        \n",
    "        # for testing - array after sorting\n",
    "        #t2 = []\n",
    "        #for j in range(10): #  10 first elements \n",
    "        #    t2.append(ar[j])\n",
    "        #print(\"\\tFirst 10 elements after sorting:\\t\", t2)\n",
    "          \n",
    "        # log the end time (time stamp)\n",
    "        end_time = time.time()\n",
    "        \n",
    "        # calculate the elapsed time\n",
    "        time_elapsed = end_time - start_time\n",
    "            \n",
    "        # for testing - show time of each run\n",
    "        #print(\"Time of run\", r+1,\":\", time_elapsed, \"\\n\")\n",
    "    \n",
    "        # for each sorting instance, add the time to the below array\n",
    "        intermediate_results.append(time_elapsed)\n",
    "    \n",
    "    # Average result from all runs for the current array size\n",
    "    average_result = np.mean(intermediate_results) * 1000 # in milliseconds\n",
    "    \n",
    "    # for testing - show average time for all analysed array sizes\n",
    "    #print(\"Array size\", data.loc[(current_array),\"Size\"], \"   \\tAverage time of\", num_runs, \"tests:\", average_result)\n",
    "    #print()\n",
    "    \n",
    "    #add the average time to the dataframe\n",
    "    data.loc[current_array, \"Merge\"] = average_result"
   ]
  },
  {
   "cell_type": "markdown",
   "metadata": {},
   "source": [
    "#### TimSort benchmark"
   ]
  },
  {
   "cell_type": "code",
   "execution_count": 18,
   "metadata": {},
   "outputs": [],
   "source": [
    "#######################################\n",
    "#   Tim Sort Benachmark                      \n",
    "#######################################\n",
    "\n",
    "# loop through each array size defined in the data[\"Size\"] column, that is arrays of quantity of elements 100, 250, 500, etc\n",
    "for current_array in range(len(data[\"Size\"])): \n",
    "    \n",
    "    # for testing - show which array is being processed and its number of elements\n",
    "    #print(\"Array #\\t\", current_array+1, \"\\tSize:\", data.loc[(current_array),\"Size\"])\n",
    "    \n",
    "    # a placeholder to store results for each test\n",
    "    intermediate_results = []\n",
    "\n",
    "    # perform the same sorting test several times in order to get the avarage time\n",
    "    num_runs = 10 # number of the tests \n",
    "    \n",
    "        \n",
    "    # benchmarking algorithm \n",
    "    for r in range(num_runs):\n",
    "        \n",
    "        # make a copy of the array to preserve the original unsorted order for the remaining runs\n",
    "        ar = random_number_arrays[current_array].copy() \n",
    "        \n",
    "        # for testing - array before sorting\n",
    "        #t1 = []\n",
    "        #for j in range(10): # show only 10 first elements of the array\n",
    "        #    t1.append(ar[j])\n",
    "        #print(\"\\tFirst 10 elements before sorting:\\t\", t1)\n",
    "        \n",
    "        # log the start time (time stamp)\n",
    "        start_time = time.time()\n",
    "    \n",
    "    \n",
    "        ##### call the sorting implementation to be benchmarked #####\n",
    "        TimSort(ar)\n",
    "        \n",
    "        \n",
    "        # for testing - array after sorting\n",
    "        #t2 = []\n",
    "        #for j in range(10): #  10 first elements \n",
    "        #    t2.append(ar[j])\n",
    "        #print(\"\\tFirst 10 elements after sorting:\\t\", t2)\n",
    "        \n",
    "        # log the end time (time stamp)\n",
    "        end_time = time.time()\n",
    "        \n",
    "        # calculate the elapsed time\n",
    "        time_elapsed = end_time - start_time\n",
    "            \n",
    "        # for testing - show time of each run\n",
    "        #print(\"Time of run\", r+1,\":\", time_elapsed, \"\\n\")\n",
    "    \n",
    "        # for each sorting instance, add the time to the below array\n",
    "        intermediate_results.append(time_elapsed)\n",
    "    \n",
    "    # Average result from all runs for the current array size\n",
    "    average_result = np.mean(intermediate_results) * 1000 # in milliseconds\n",
    "    \n",
    "    # for testing - show average time for all analysed array sizes\n",
    "    #print(\"Array size\", data.loc[(current_array),\"Size\"], \"   \\tAverage time of\", num_runs, \"tests:\", average_result)\n",
    "    #print()\n",
    "    \n",
    "    #add the average time to the dataframe\n",
    "    data.loc[current_array, \"Tim\"] = average_result"
   ]
  },
  {
   "cell_type": "markdown",
   "metadata": {},
   "source": [
    "#### Python built-in sortied() function benchmark"
   ]
  },
  {
   "cell_type": "code",
   "execution_count": 19,
   "metadata": {},
   "outputs": [],
   "source": [
    "#######################################\n",
    "#   Python built-in sorted() Benachmark                      \n",
    "#######################################\n",
    "\n",
    "# loop through each array size defined in the data[\"Size\"] column, that is arrays of quantity of elements 100, 250, 500, etc\n",
    "for current_array in range(len(data[\"Size\"])): \n",
    "    \n",
    "    # for testing - show which array is being processed and its number of elements\n",
    "    #print(\"Array #\\t\", current_array+1, \"\\tSize:\", data.loc[(current_array),\"Size\"])\n",
    "        \n",
    "    # a placeholder to store results for each test\n",
    "    intermediate_results = []\n",
    "    \n",
    "    # perform the same sorting test several times in order to get the avarage time\n",
    "    num_runs = 10 # number of the tests \n",
    "            \n",
    "    # benchmarking algorithm \n",
    "    for r in range(num_runs):\n",
    "        \n",
    "        # make a copy of the array to preserve the original unsorted order for the remaining runs\n",
    "        ar = random_number_arrays[current_array].copy() \n",
    "           \n",
    "        # for testing - array before sorting\n",
    "        #t1 = []\n",
    "        #for j in range(10): # show only 10 first elements of the array\n",
    "        #    t1.append(ar[j])\n",
    "        #print(\"\\tFirst 10 elements before sorting:\\t\", t1)\n",
    "                \n",
    "        # log the start time (time stamp)\n",
    "        start_time = time.time()\n",
    "       \n",
    "        \n",
    "        ##### call the sorting implementation to be benchmarked #####\n",
    "        sorted(ar)\n",
    "        \n",
    "                \n",
    "        # for testing - array after sorting\n",
    "        #t2 = []\n",
    "        #for j in range(10): #  10 first elements \n",
    "        #    t2.append(ar[j])\n",
    "        #print(\"\\tFirst 10 elements after sorting:\\t\", t2)\n",
    "         \n",
    "        # log the end time (time stamp)\n",
    "        end_time = time.time()\n",
    "        \n",
    "        # calculate the elapsed time\n",
    "        time_elapsed = end_time - start_time\n",
    "            \n",
    "        # for testing - show time of each run\n",
    "        #print(\"Time of run\", r+1,\":\", time_elapsed, \"\\n\")\n",
    "    \n",
    "        # for each sorting instance, add the time to the below array\n",
    "        intermediate_results.append(time_elapsed)\n",
    "    \n",
    "    # Average result from all runs for the current array size\n",
    "    average_result = np.mean(intermediate_results) * 1000 # in milliseconds\n",
    "    \n",
    "    # for testing - show average time for all analysed array sizes\n",
    "    #print(\"Array size\", data.loc[(current_array),\"Size\"], \"   \\tAverage time of\", num_runs, \"tests:\", average_result)\n",
    "    #print()\n",
    "    \n",
    "    #add the average time to the dataframe\n",
    "    data.loc[current_array, \"Python\"] = average_result"
   ]
  },
  {
   "cell_type": "markdown",
   "metadata": {},
   "source": [
    "### Display the acquired data\n",
    "\n",
    "The data acquired in the benchmarking was stored in the dataframe named `data`. \n",
    "\n",
    "The benchmark results are the average time for each sorting algorithm and array size, expressed in **milliseconds**.\n",
    "\n",
    "For a better readability, the time values were formated so that three decimal places are shown."
   ]
  },
  {
   "cell_type": "code",
   "execution_count": 20,
   "metadata": {},
   "outputs": [
    {
     "data": {
      "text/html": [
       "<div>\n",
       "<style scoped>\n",
       "    .dataframe tbody tr th:only-of-type {\n",
       "        vertical-align: middle;\n",
       "    }\n",
       "\n",
       "    .dataframe tbody tr th {\n",
       "        vertical-align: top;\n",
       "    }\n",
       "\n",
       "    .dataframe thead th {\n",
       "        text-align: right;\n",
       "    }\n",
       "</style>\n",
       "<table border=\"1\" class=\"dataframe\">\n",
       "  <thead>\n",
       "    <tr style=\"text-align: right;\">\n",
       "      <th></th>\n",
       "      <th>Size</th>\n",
       "      <th>100</th>\n",
       "      <th>250</th>\n",
       "      <th>500</th>\n",
       "      <th>750</th>\n",
       "      <th>1000</th>\n",
       "      <th>1250</th>\n",
       "      <th>2500</th>\n",
       "      <th>3750</th>\n",
       "      <th>5000</th>\n",
       "      <th>6250</th>\n",
       "      <th>7500</th>\n",
       "      <th>8750</th>\n",
       "      <th>10000</th>\n",
       "    </tr>\n",
       "  </thead>\n",
       "  <tbody>\n",
       "    <tr>\n",
       "      <th>1</th>\n",
       "      <td>Bubble</td>\n",
       "      <td>0.997</td>\n",
       "      <td>5.280</td>\n",
       "      <td>23.865</td>\n",
       "      <td>57.523</td>\n",
       "      <td>106.028</td>\n",
       "      <td>164.814</td>\n",
       "      <td>647.195</td>\n",
       "      <td>NaN</td>\n",
       "      <td>NaN</td>\n",
       "      <td>NaN</td>\n",
       "      <td>NaN</td>\n",
       "      <td>NaN</td>\n",
       "      <td>NaN</td>\n",
       "    </tr>\n",
       "    <tr>\n",
       "      <th>2</th>\n",
       "      <td>Quick</td>\n",
       "      <td>0.101</td>\n",
       "      <td>0.243</td>\n",
       "      <td>0.334</td>\n",
       "      <td>0.516</td>\n",
       "      <td>0.644</td>\n",
       "      <td>0.824</td>\n",
       "      <td>2.644</td>\n",
       "      <td>2.389</td>\n",
       "      <td>3.136</td>\n",
       "      <td>3.987</td>\n",
       "      <td>5.151</td>\n",
       "      <td>5.924</td>\n",
       "      <td>6.057</td>\n",
       "    </tr>\n",
       "    <tr>\n",
       "      <th>3</th>\n",
       "      <td>Bucket</td>\n",
       "      <td>0.038</td>\n",
       "      <td>0.088</td>\n",
       "      <td>0.181</td>\n",
       "      <td>0.270</td>\n",
       "      <td>0.356</td>\n",
       "      <td>0.440</td>\n",
       "      <td>0.926</td>\n",
       "      <td>1.506</td>\n",
       "      <td>2.049</td>\n",
       "      <td>2.473</td>\n",
       "      <td>2.887</td>\n",
       "      <td>3.366</td>\n",
       "      <td>3.863</td>\n",
       "    </tr>\n",
       "    <tr>\n",
       "      <th>4</th>\n",
       "      <td>Merge</td>\n",
       "      <td>0.216</td>\n",
       "      <td>0.548</td>\n",
       "      <td>1.307</td>\n",
       "      <td>2.166</td>\n",
       "      <td>2.608</td>\n",
       "      <td>3.332</td>\n",
       "      <td>7.047</td>\n",
       "      <td>11.756</td>\n",
       "      <td>15.915</td>\n",
       "      <td>19.711</td>\n",
       "      <td>25.521</td>\n",
       "      <td>28.543</td>\n",
       "      <td>32.684</td>\n",
       "    </tr>\n",
       "    <tr>\n",
       "      <th>5</th>\n",
       "      <td>Tim</td>\n",
       "      <td>0.291</td>\n",
       "      <td>0.773</td>\n",
       "      <td>1.570</td>\n",
       "      <td>2.694</td>\n",
       "      <td>2.977</td>\n",
       "      <td>4.075</td>\n",
       "      <td>8.382</td>\n",
       "      <td>12.474</td>\n",
       "      <td>17.796</td>\n",
       "      <td>22.551</td>\n",
       "      <td>26.552</td>\n",
       "      <td>33.087</td>\n",
       "      <td>38.135</td>\n",
       "    </tr>\n",
       "    <tr>\n",
       "      <th>6</th>\n",
       "      <td>Python</td>\n",
       "      <td>0.004</td>\n",
       "      <td>0.009</td>\n",
       "      <td>0.026</td>\n",
       "      <td>0.046</td>\n",
       "      <td>0.069</td>\n",
       "      <td>0.090</td>\n",
       "      <td>0.197</td>\n",
       "      <td>0.304</td>\n",
       "      <td>0.405</td>\n",
       "      <td>0.517</td>\n",
       "      <td>0.620</td>\n",
       "      <td>0.712</td>\n",
       "      <td>0.835</td>\n",
       "    </tr>\n",
       "  </tbody>\n",
       "</table>\n",
       "</div>"
      ],
      "text/plain": [
       "0    Size   100   250    500    750    1000    1250    2500   3750   5000  \\\n",
       "1  Bubble 0.997 5.280 23.865 57.523 106.028 164.814 647.195    NaN    NaN   \n",
       "2   Quick 0.101 0.243  0.334  0.516   0.644   0.824   2.644  2.389  3.136   \n",
       "3  Bucket 0.038 0.088  0.181  0.270   0.356   0.440   0.926  1.506  2.049   \n",
       "4   Merge 0.216 0.548  1.307  2.166   2.608   3.332   7.047 11.756 15.915   \n",
       "5     Tim 0.291 0.773  1.570  2.694   2.977   4.075   8.382 12.474 17.796   \n",
       "6  Python 0.004 0.009  0.026  0.046   0.069   0.090   0.197  0.304  0.405   \n",
       "\n",
       "0   6250   7500   8750  10000  \n",
       "1    NaN    NaN    NaN    NaN  \n",
       "2  3.987  5.151  5.924  6.057  \n",
       "3  2.473  2.887  3.366  3.863  \n",
       "4 19.711 25.521 28.543 32.684  \n",
       "5 22.551 26.552 33.087 38.135  \n",
       "6  0.517  0.620  0.712  0.835  "
      ]
     },
     "execution_count": 20,
     "metadata": {},
     "output_type": "execute_result"
    }
   ],
   "source": [
    "# Apply formating to three decimal places\n",
    "# Source: https://stackoverflow.com/a/42735712\n",
    "pd.options.display.float_format = '{:,.3f}'.format\n",
    "\n",
    "# transpose the table, source: https://stackoverflow.com/a/31328974\n",
    "d = data.transpose().reset_index().rename(columns={'index':'Size'})\n",
    "new_header = d.iloc[0] #grab the first row for the header\n",
    "d = d[1:] #take the data less the header row\n",
    "d.columns = new_header #set the header row as the df header\n",
    "\n",
    "# show the results in a table format\n",
    "d"
   ]
  },
  {
   "cell_type": "markdown",
   "metadata": {},
   "source": [
    "### Results visualisation"
   ]
  },
  {
   "cell_type": "markdown",
   "metadata": {},
   "source": [
    "The results of the benchmarking analysis are plotted below in a chart, where the relationship between the input size and time can be seen.\n",
    "The x-axis represents the size of the input array, and the y-axis - time it took to sort the array. Each sorting algorithm is shown in a different colour."
   ]
  },
  {
   "cell_type": "code",
   "execution_count": 32,
   "metadata": {},
   "outputs": [
    {
     "data": {
      "image/png": "[encoded data removed]",
      "text/plain": [
       "<Figure size 864x432 with 1 Axes>"
      ]
     },
     "metadata": {
      "needs_background": "light"
     },
     "output_type": "display_data"
    }
   ],
   "source": [
    "import matplotlib.pyplot as plt \n",
    "#import seaborn as sns\n",
    "#import scipy.stats as stats\n",
    "\n",
    "# below command will allow for the plots being displayed inside the Notebook, rather than in a separate screen.\n",
    "%matplotlib inline\n",
    "\n",
    "### Results visualisation\n",
    "\n",
    "import matplotlib.pyplot as plt \n",
    "#import seaborn as sns\n",
    "#import scipy.stats as stats\n",
    "\n",
    "# below command will allow for the plots being displayed inside the Notebook, rather than in a separate screen.\n",
    "%matplotlib inline\n",
    "\n",
    "# Setting up the plotting output\n",
    "plt.plot(data['Size'], data['Bubble'], label='Bubble Sort')\n",
    "plt.plot(data['Size'], data['Quick'],  label='Quicksort')\n",
    "plt.plot(data['Size'], data['Bucket'], label='Bucket Sort')\n",
    "plt.plot(data['Size'], data['Merge'],  label='Merge Sort')\n",
    "plt.plot(data['Size'], data['Tim'],    label='Timsort')\n",
    "plt.plot(data['Size'], data['Python'], label='Python Sort')\n",
    "\n",
    "# Adding title, labels and legend\n",
    "plt.title(\"Measured Time Complexity\")\n",
    "plt.xlabel(\"Input Size\") \n",
    "plt.ylabel(\"Time, milliseconds\")\n",
    "plt.legend()\n",
    "\n",
    "# set axis ranges\n",
    "plt.xlim(0,10050)\n",
    "plt.ylim(0,105)\n",
    "\n",
    "# set size of the plot in inches (default dpi=100)\n",
    "plt.gcf().set_size_inches(12, 6)\n",
    "\n",
    "# plot the graph\n",
    "plt.show()"
   ]
  },
  {
   "cell_type": "markdown",
   "metadata": {},
   "source": [
    "___\n",
    "## 4. Findings / Discussion"
   ]
  },
  {
   "cell_type": "markdown",
   "metadata": {},
   "source": [
    "From the above it is clear that the Bubble Sort is by far the least efficient of all tested. Although the Bubble sort algorithm is relatively simple, its application for larger input sizes becomes hardly justified. From the chart, it appears the curve takes the shape of a quadratic function. This corresponds to the expected O(n2) time complexity of the algorithm.\n",
    "\n",
    "The next two least efficient algorithms are the Timsort and the Merge sort. The times measured for these two are very similar. The shape of the curves appear to follow O(n logn), which are the expected results for the algorithms. It is interesting, however, when comparing the above tested Timsort implementation against Python’s built-in sorting algorithm, sorted(), which also uses the Timsort algorithm and is much more efficient. This direct comparison demonstrates the importance of actual implementation of an algorithm. Also, it is worth noting that the sorted() method was originally written in C language ([source code](https://github.com/python/cpython/blob/master/Python/bltinmodule.c#L2222)). \n",
    "\n",
    "The Quick sort is significantly better than the other three already discussed. The plot of their efficiency is similar. It is interesting to see the curve of the Quicksort in relation to the Merge sort one. They both are classified in the literature (see the algorithms description above) as O(n logn) time complexity. However, the former (Quick) outperforms the later (Merge).\n",
    "\n",
    "The Bucket sort is the last of the tested algorithms. It showed the best performance of all the tested (excluding sorted(), which was added as reference only), although only marginally better than the Quicksort. This algorithm is the only one from the selected for benchmarking that is classified as non-comparison based. Its supposed time complexity is of O(nk) degree, where k is the number of the buckets. The algorithm performance seems to be accurately captured in this benchmarking.\n"
   ]
  },
  {
   "cell_type": "markdown",
   "metadata": {},
   "source": [
    "___\n",
    "## References"
   ]
  },
  {
   "cell_type": "markdown",
   "metadata": {},
   "source": [
    "### Sorting Algorithms\n",
    "\n",
    "* Lectures materials [online] Available at: https://learnonline.gmit.ie/course/view.php?id=1696 [Accessed April 2020].\n",
    "* Quicksort tutorial - Codementor Community [online] Available at: https://www.codementor.io/@garethdwyer/quicksort-tutorial-python-implementation-with-line-by-line-explanation-p9h7jd3r6 [Accessed April 2020].\n",
    "* Analysis of Algorithms - Big O Analysis  - Geeks for Geeks [online] Available at: https://www.geeksforgeeks.org/analysis-algorithms-big-o-analysis/ [Accessed April 2020].\n",
    "* Analysis of of different sorting techniques  - Geeks for Geeks [online] Available at: https://www.geeksforgeeks.org/analysis-of-different-sorting-techniques/ [Accessed April 2020].\n",
    "* Asymptotic Analysis and comparison of sorting algorithms - Geeks for Geeks [online] Available at: https://www.geeksforgeeks.org/asymptotic-analysis-comparison-sorting-algorithms/ [Accessed April 2020].\n",
    "* Sorting, how to - Python documentation [online] Available at: https://docs.python.org/3/howto/sorting.html [Accessed April 2020].\n",
    "* Python's built in sort() function source code [online] Available at: https://github.com/python/cpython/blob/master/Objects/listobject.c [Accessed April 2020].\n",
    "* A tour of the top 5 sorting algorithms with Python code - Medium [online] Available at: https://medium.com/@george.seif94/a-tour-of-the-top-5-sorting-algorithms-with-python-code-43ea9aa02889 [Accessed April 2020].\n",
    "* Sorting Algorithms - Free Code Camp [online] Available at: https://guide.freecodecamp.org/algorithms/sorting-algorithms/ [Accessed April 2020].\n",
    "* Big O notation - Wikipedia [online] Available at: https://en.wikipedia.org/wiki/Big_O_notation [Accessed April 2020].\n",
    "* Sorting Algorithm - Wikipedia [online] Available at: https://en.wikipedia.org/wiki/Sorting_algorithm [Accessed April 2020].\n",
    "* Sorting Algorithms Demonstration in Java [online] Available at: http://home.westman.wave.ca/~rhenry/sort/#flashsort [Accessed April 2020].\n",
    "* Sorting Algorithms in Python [online] Available at: https://stackabuse.com/sorting-algorithms-in-python/ [Accessed April 2020].\n",
    "\n",
    "* Bubble Sort - Wikipedia [online] Available at: https://en.wikipedia.org/wiki/Bubble_sort [Accessed April 2020].\n",
    "\n",
    "* Bucket Sort - Programiz [online] Available at: https://www.programiz.com/dsa/bucket-sort [Accessed April 2020].\n",
    "* Bucket Sort - Geeks for Geeks [online] Available at: https://www.geeksforgeeks.org/bucket-sort-2/ [Accessed April 2020].\n",
    "\n",
    "* Timsort - Wikipedia [online] Available at: https://en.wikipedia.org/wiki/Timsort [Accessed April 2020].\n",
    "* Python bug tracker - Timsort [online] Available at: https://bugs.python.org/file4451/timsort.txt [Accessed April 2020].\n",
    "\n",
    "\n"
   ]
  },
  {
   "cell_type": "markdown",
   "metadata": {},
   "source": [
    "### Sorting Algorithm Visualisations\n",
    "* Visualising Sorting [online] Available at: https://corte.si/posts/code/visualisingsorting/index.html [Accessed April 2020].\n",
    "* Sorting Algorithm Animations [online] Available at: https://www.toptal.com/developers/sorting-algorithms [Accessed April 2020].\n",
    "* Visualising Python's Timsort [online] Available at: https://corte.si/posts/code/timsort/index.html [Accessed April 2020].\n",
    "\n",
    "* Hilbert Curve + Sorting Algorithms + Procrastination = ? [online] Available at: https://corte.si/posts/code/sortvis-fruitsalad/index.html [Accessed April 2020].\n",
    "* Timsort - a study in grayscale [online] Available at: https://corte.si/posts/code/timsort-grayscale/index.html [Accessed April 2020].\n"
   ]
  },
  {
   "cell_type": "code",
   "execution_count": null,
   "metadata": {},
   "outputs": [],
   "source": []
  },
  {
   "cell_type": "markdown",
   "metadata": {},
   "source": [
    "### Data analysis\n",
    "* Google [online] Available at: https://google.com [Accessed April 2020].\n"
   ]
  },
  {
   "cell_type": "markdown",
   "metadata": {},
   "source": [
    "___"
   ]
  },
  {
   "cell_type": "markdown",
   "metadata": {},
   "source": [
    "Andrzej Kocielski, 2020"
   ]
  }
 ],
 "metadata": {
  "kernelspec": {
   "display_name": "Python 3",
   "language": "python",
   "name": "python3"
  },
  "language_info": {
   "codemirror_mode": {
    "name": "ipython",
    "version": 3
   },
   "file_extension": ".py",
   "mimetype": "text/x-python",
   "name": "python",
   "nbconvert_exporter": "python",
   "pygments_lexer": "ipython3",
   "version": "3.7.5"
  },
  "toc-autonumbering": false
 },
 "nbformat": 4,
 "nbformat_minor": 4
}
