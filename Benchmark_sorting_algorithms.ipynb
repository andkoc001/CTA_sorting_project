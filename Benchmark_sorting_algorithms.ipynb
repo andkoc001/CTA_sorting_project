{
 "cells": [
  {
   "cell_type": "markdown",
   "metadata": {},
   "source": [
    "# Benchmarking sorting algorithms\n",
    "This is part of the final project assignment for Computational Thinking with Algorithms module, GMIT 2020. Lecturer: dr Dominic Carr\n",
    "\n",
    "> Author: Andrzej Kocielski  \n"
   ]
  },
  {
   "cell_type": "markdown",
   "metadata": {},
   "source": [
    "<figure>\n",
    "  <img src=\"https://upload.wikimedia.org/wikipedia/commons/7/7e/Comparison_computational_complexity.svg\" alt=\"Big O notation\" style=\"width:400px\">\n",
    "  <figcaption>Image source: Wikipedia.</figcaption>\n",
    "</figure>"
   ]
  },
  {
   "cell_type": "markdown",
   "metadata": {},
   "source": [
    "___\n",
    "### Content\n",
    "\n",
    "1. Introduction\n",
    "2. Sorting algorithms\n",
    "3. Benchmarking\n",
    "4. Data analysis\n",
    "5. Discussion\n",
    "6. References\n",
    " "
   ]
  },
  {
   "cell_type": "markdown",
   "metadata": {},
   "source": [
    "**Below is to be deleted**\n",
    "\n",
    "Ideas:\n",
    "- discuss terms:\n",
    "    - sorting\n",
    "    - efficiency (time efficiency only considered in this project)\n",
    "    - best-, average- and worst-case time complexity\n",
    "    - comparison\n",
    "    - stability\n",
    "    - inversion\n",
    "    - sort key data (satellite data neglected in this analysis)\n",
    "    - in-place sorting   \n"
   ]
  },
  {
   "cell_type": "markdown",
   "metadata": {},
   "source": [
    "___"
   ]
  },
  {
   "cell_type": "markdown",
   "metadata": {},
   "source": [
    "## Introduction"
   ]
  },
  {
   "cell_type": "markdown",
   "metadata": {},
   "source": [
    "### Sorting algorithms selected for testing\n",
    "\n",
    "For this project a Python application is written which will be used to benchmark five different sorting algorithms. \n",
    "\n",
    "The five sorting algorithms are selected to satisfy the project specification, that is according to the following criteria:\n",
    "\n",
    "1. A simple comparison-based sort - I have chosen to analyse the **Bubble Sort**, Selection Sort or Insertion Sort - TBD\n",
    "2. An efficient comparison-based sort - I have chosen to analyse the Merge Sort, **Quicksort** or Heap Sort - TBD\n",
    "3. A non-comparison sort - I have chosen to analyse the **Bucket Sort** or Radix Sort - TBD\n",
    "\n",
    "The remaining two algorithms were left to my choice:\n",
    "\n",
    "4. Either an efficient sort (Merge Sort or Heap Sort) or a hybrid sort (**Timsort** or Introsort) - TBD\n",
    "5. The Python built-in sorting algorithm: the sort() or **sorted()** (a Timsort implementation) - TBD\n",
    "\n",
    "\n",
    "Each of the selected algorithms are briefly described followed by the algorithms implementation and benchmarking. Finally, at the end of the report, there is the discussion of the results of the benchmarking process and findings.\n",
    "\n",
    "\n",
    "The following algorithms were selected for benchmarking analysis:\n",
    "\n",
    "1. **Bubble Sort**\n",
    "2. **Quicksort**\n",
    "3. **Bucket Sort**\n",
    "4. **Tim Sort**\n",
    "5. **Python's built-in sorted()**"
   ]
  },
  {
   "cell_type": "markdown",
   "metadata": {},
   "source": [
    "___\n"
   ]
  },
  {
   "cell_type": "markdown",
   "metadata": {},
   "source": [
    "## Bubble Sort\n",
    "### Algorithm description\n",
    "...\n"
   ]
  },
  {
   "cell_type": "code",
   "execution_count": null,
   "metadata": {},
   "outputs": [],
   "source": []
  },
  {
   "cell_type": "code",
   "execution_count": null,
   "metadata": {},
   "outputs": [],
   "source": []
  },
  {
   "cell_type": "markdown",
   "metadata": {},
   "source": [
    "## Quicksort\n",
    "### Algorithm description\n",
    "...\n",
    "\n",
    "\n"
   ]
  },
  {
   "cell_type": "markdown",
   "metadata": {},
   "source": [
    "<figure>\n",
    "  <img src=\"https://upload.wikimedia.org/wikipedia/commons/6/6a/Sorting_quicksort_anim.gif\"  alt=\"Quick sort visualisation\" style=\"width:400px; height:200px\">\n",
    "  <figcaption>Image source: Wikipedia.</figcaption>\n",
    "</figure>"
   ]
  },
  {
   "cell_type": "markdown",
   "metadata": {},
   "source": [
    "### Algorithm implementation\n",
    "Based on https://youtu.be/u4tVQszsyEQ"
   ]
  },
  {
   "cell_type": "code",
   "execution_count": 24,
   "metadata": {},
   "outputs": [
    {
     "name": "stdout",
     "output_type": "stream",
     "text": [
      "[0, 1, 2, 3, 5, 7, 9]\n"
     ]
    }
   ],
   "source": [
    "# Source: https://youtu.be/u4tVQszsyEQ\n",
    "# Comments added by myself (AK)\n",
    "\n",
    "# Function performing the quick sort; it takes a list to be sorted as an argument\n",
    "def sortowanie_szybkie(lista):\n",
    "    \n",
    "    # creation of empty lists\n",
    "    mniejsze = [] # less than the pivot\n",
    "    rowne = [] # equal to the pivot\n",
    "    wieksze =[] # greater than the pivot\n",
    "    \n",
    "    # base case of the recursion \n",
    "    # check whether the list is more than one element long (otherwise, one-element list is considered to be sorted)\n",
    "    if len(lista) <= 1:\n",
    "        return lista\n",
    "    \n",
    "    # recursion algorithm for a list that holds more than one element\n",
    "    else: \n",
    "        # set the pivot value at the middle element of the list\n",
    "        middle = (len(lista))//2\n",
    "        pivot = lista[middle]\n",
    "        \n",
    "        # let's consider three cases for each element of the list\n",
    "        for x in lista:\n",
    "            # case #1 - the current element is greater than the pivot\n",
    "            if x > pivot:\n",
    "                wieksze.append(x) # add the current element to the list \"wieksze\"\n",
    "            # case #2 - the current element is equal to the pivot\n",
    "            elif x == pivot:\n",
    "                rowne.append(x) # add the current element to the list \"rowne\"\n",
    "            # case #3 - the current element is less than the pivot\n",
    "            else:\n",
    "                mniejsze.append(x) # add the current element to the list \"mniejsze\"\n",
    "        \n",
    "        # as a result of the above loop, the function will return:\n",
    "        # in the middle: the element(s) that has just been sorted, i.e. equal to the pivot(?) (as well as those sorted on previous recurses)\n",
    "        # on the left-hand side: elements that are less than the pivot - still unsorted, therefore the same function is called recursively (with the \"mniejsze\" list as an argument)\n",
    "        # on the the right-hand side: elements that are greater than the pivot - still unsorted, therefore the same function is called recursively (with the \"wieksze\" list as an argument)\n",
    "        \n",
    "        return sortowanie_szybkie(mniejsze) + rowne + sortowanie_szybkie(wieksze)\n",
    "        \n",
    "l = [3,1,0,9,2,7,5]\n",
    "print(sortowanie_szybkie(l))"
   ]
  },
  {
   "cell_type": "code",
   "execution_count": 19,
   "metadata": {},
   "outputs": [
    {
     "data": {
      "text/plain": [
       "9"
      ]
     },
     "execution_count": 19,
     "metadata": {},
     "output_type": "execute_result"
    }
   ],
   "source": [
    "l = [3,6,0,9,2,7,5]\n",
    "lista[(len(lista))//2]"
   ]
  },
  {
   "cell_type": "code",
   "execution_count": 60,
   "metadata": {},
   "outputs": [
    {
     "name": "stdout",
     "output_type": "stream",
     "text": [
      "[0, 1, 2, 3, 5, 7, 9]\n"
     ]
    }
   ],
   "source": [
    "# Source: https://youtu.be/u4tVQszsyEQ\n",
    "# Comments added by myself (AK)\n",
    "\n",
    "# Function performing the quick sort; it takes a list to be sorted as an argument\n",
    "def sortowanie_szybkie2(lista):\n",
    "    \n",
    "    # set the pivot value at the middle element of the list\n",
    "    middle = (len(lista))//2\n",
    "    #pivot = lista[middle]\n",
    "        \n",
    "    # creation of empty lists\n",
    "    mniejsze = [x for x in lista if x < lista[middle]] # less than the pivot\n",
    "    rowne = [x for x in lista if x == lista[middle]] # equal to the pivot\n",
    "    wieksze =[x for x in lista if x > lista[middle]] # greater than the pivot\n",
    "    \n",
    "    # base case of the recursion \n",
    "    # check whether the list is more than one element long (otherwise, one-element list is considered to be sorted)\n",
    "    if len(lista) <= 1:\n",
    "        return lista\n",
    "    \n",
    "    # recursion algorithm for a list that holds more than one element\n",
    "    else: \n",
    "        return sortowanie_szybkie2(mniejsze) + rowne + sortowanie_szybkie2(wieksze)\n",
    "        \n",
    "l = [3,1,0,9,2,7,5]\n",
    "print(sortowanie_szybkie2(l))"
   ]
  },
  {
   "cell_type": "code",
   "execution_count": null,
   "metadata": {},
   "outputs": [],
   "source": []
  },
  {
   "cell_type": "code",
   "execution_count": null,
   "metadata": {},
   "outputs": [],
   "source": []
  },
  {
   "cell_type": "markdown",
   "metadata": {},
   "source": [
    "## Bucket Sort\n",
    "### Algorithm description\n",
    "...\n"
   ]
  },
  {
   "cell_type": "code",
   "execution_count": null,
   "metadata": {},
   "outputs": [],
   "source": []
  },
  {
   "cell_type": "code",
   "execution_count": null,
   "metadata": {},
   "outputs": [],
   "source": []
  },
  {
   "cell_type": "markdown",
   "metadata": {},
   "source": [
    "## Python's sorted()\n",
    "### Algorithm description\n",
    "...\n"
   ]
  },
  {
   "cell_type": "code",
   "execution_count": null,
   "metadata": {},
   "outputs": [],
   "source": []
  },
  {
   "cell_type": "code",
   "execution_count": null,
   "metadata": {},
   "outputs": [],
   "source": []
  },
  {
   "cell_type": "markdown",
   "metadata": {},
   "source": [
    "____\n",
    "## Benchmarking the sorting algorithms"
   ]
  },
  {
   "cell_type": "markdown",
   "metadata": {},
   "source": [
    "### Benchmarking algorithm"
   ]
  },
  {
   "cell_type": "code",
   "execution_count": 62,
   "metadata": {},
   "outputs": [
    {
     "data": {
      "text/plain": [
       "[8.821487426757812e-06,\n",
       " 5.245208740234375e-06,\n",
       " 5.0067901611328125e-06,\n",
       " 4.76837158203125e-06,\n",
       " 4.76837158203125e-06,\n",
       " 4.76837158203125e-06,\n",
       " 4.76837158203125e-06,\n",
       " 4.5299530029296875e-06,\n",
       " 4.5299530029296875e-06,\n",
       " 4.5299530029296875e-06]"
      ]
     },
     "execution_count": 62,
     "metadata": {},
     "output_type": "execute_result"
    }
   ],
   "source": [
    "# the benchmarking algoirithms is based on the lecture materials\n",
    "\n",
    "import time\n",
    "\n",
    "# number of times to test the function\n",
    "num_runs = 10\n",
    "\n",
    "# empty array (a placeholder) to store results for each test\n",
    "results = []\n",
    "\n",
    "# benchmarking the function\n",
    "for r in range(num_runs):\n",
    "    \n",
    "    # log the start time (time stamp)\n",
    "    start_time = time.time()\n",
    "    \n",
    "    # call the function to be benchmarked\n",
    "    sortowanie_szybkie(l)\n",
    "    \n",
    "    # log the end time (time stamp)\n",
    "    end_time = time.time()\n",
    "    \n",
    "    # calculate the elapsed time\n",
    "    time_elapsed = end_time - start_time\n",
    "    \n",
    "    results.append(time_elapsed)\n",
    "\n",
    "results"
   ]
  },
  {
   "cell_type": "code",
   "execution_count": null,
   "metadata": {},
   "outputs": [],
   "source": []
  },
  {
   "cell_type": "markdown",
   "metadata": {},
   "source": [
    "___\n",
    "## Data analysis"
   ]
  },
  {
   "cell_type": "code",
   "execution_count": null,
   "metadata": {},
   "outputs": [],
   "source": []
  },
  {
   "cell_type": "markdown",
   "metadata": {},
   "source": [
    "___\n",
    "## Discussion / Findings"
   ]
  },
  {
   "cell_type": "code",
   "execution_count": 2,
   "metadata": {},
   "outputs": [
    {
     "name": "stdout",
     "output_type": "stream",
     "text": [
      "Help on built-in function sorted in module builtins:\n",
      "\n",
      "sorted(iterable, /, *, key=None, reverse=False)\n",
      "    Return a new list containing all items from the iterable in ascending order.\n",
      "    \n",
      "    A custom key function can be supplied to customize the sort order, and the\n",
      "    reverse flag can be set to request the result in descending order.\n",
      "\n"
     ]
    }
   ],
   "source": [
    "# Delete me\n",
    "\n",
    "help(sorted)"
   ]
  },
  {
   "cell_type": "code",
   "execution_count": null,
   "metadata": {},
   "outputs": [],
   "source": []
  },
  {
   "cell_type": "markdown",
   "metadata": {},
   "source": [
    "___\n",
    "## References"
   ]
  },
  {
   "cell_type": "markdown",
   "metadata": {},
   "source": [
    "### Sorting Algorithms\n",
    "\n",
    "* Lectures materials [online] Available at: https://learnonline.gmit.ie/course/view.php?id=1696 [Accessed April 2020].\n",
    "* Quicksort tutorial - Codementor Community [online] Available at: https://www.codementor.io/@garethdwyer/quicksort-tutorial-python-implementation-with-line-by-line-explanation-p9h7jd3r6 [Accessed April 2020].\n",
    "* Analysis of Algorithms - Big O Analysis  - Geeks for Geeks [online] Available at: https://www.geeksforgeeks.org/analysis-algorithms-big-o-analysis/ [Accessed April 2020].\n",
    "* Analysis of of different sorting techniques  - Geeks for Geeks [online] Available at: https://www.geeksforgeeks.org/analysis-of-different-sorting-techniques/ [Accessed April 2020].\n",
    "* Asymptotic Analysis and comparison of sorting algorithms - Geeks for Geeks [online] Available at: https://www.geeksforgeeks.org/asymptotic-analysis-comparison-sorting-algorithms/ [Accessed April 2020].\n",
    "* Sorting, how to - Python documentation [online] Available at: https://docs.python.org/3/howto/sorting.html [Accessed April 2020].\n",
    "* Python's built in sort() function source code [online] Available at: https://github.com/python/cpython/blob/master/Objects/listobject.c [Accessed April 2020].\n",
    "* A tour of the top 5 sorting algorithms with Python code - Medium [online] Available at: https://medium.com/@george.seif94/a-tour-of-the-top-5-sorting-algorithms-with-python-code-43ea9aa02889 [Accessed April 2020].\n",
    "* Sorting Algorithms - Free Code Camp [online] Available at: https://guide.freecodecamp.org/algorithms/sorting-algorithms/ [Accessed April 2020].\n",
    "* Big O notation - Wikipedia [online] Available at: https://en.wikipedia.org/wiki/Big_O_notation [Accessed April 2020].\n",
    "* Sorting Algorithm - Wikipedia [online] Available at: https://en.wikipedia.org/wiki/Sorting_algorithm [Accessed April 2020].\n",
    "* Sorting Algorithms Demonstration in Java [online] Available at: http://home.westman.wave.ca/~rhenry/sort/#flashsort [Accessed April 2020].\n",
    "* Sorting Algorithms in Python [online] Available at: https://stackabuse.com/sorting-algorithms-in-python/ [Accessed April 2020].\n",
    "\n",
    "* Bubble Sort - Wikipedia [online] Available at: https://en.wikipedia.org/wiki/Bubble_sort [Accessed April 2020].\n",
    "\n",
    "* Bucket Sort - Programiz [online] Available at: https://www.programiz.com/dsa/bucket-sort [Accessed April 2020].\n",
    "* Bucket Sort - Geeks for Geeks [online] Available at: https://www.geeksforgeeks.org/bucket-sort-2/ [Accessed April 2020].\n",
    "\n",
    "* Timsort - Wikipedia [online] Available at: https://en.wikipedia.org/wiki/Timsort [Accessed April 2020].\n",
    "* Python bug tracker - Timsort [online] Available at: https://bugs.python.org/file4451/timsort.txt [Accessed April 2020].\n",
    "\n",
    "\n"
   ]
  },
  {
   "cell_type": "markdown",
   "metadata": {},
   "source": [
    "### Sorting Algorithm Visualisations\n",
    "* Visualising Sorting [online] Available at: https://corte.si/posts/code/visualisingsorting/index.html [Accessed April 2020].\n",
    "* Sorting Algorithm Animations [online] Available at: https://www.toptal.com/developers/sorting-algorithms [Accessed April 2020].\n",
    "* Visualising Python's Timsort [online] Available at: https://corte.si/posts/code/timsort/index.html [Accessed April 2020].\n",
    "\n",
    "* Hilbert Curve + Sorting Algorithms + Procrastination = ? [online] Available at: https://corte.si/posts/code/sortvis-fruitsalad/index.html [Accessed April 2020].\n",
    "* Timsort - a study in grayscale [online] Available at: https://corte.si/posts/code/timsort-grayscale/index.html [Accessed April 2020].\n"
   ]
  },
  {
   "cell_type": "markdown",
   "metadata": {},
   "source": [
    "### Data analysis\n",
    "* Google [online] Available at: https://google.com [Accessed April 2020].\n"
   ]
  },
  {
   "cell_type": "markdown",
   "metadata": {},
   "source": [
    "___"
   ]
  },
  {
   "cell_type": "markdown",
   "metadata": {},
   "source": [
    "Andrzej Kocielski, 2020"
   ]
  }
 ],
 "metadata": {
  "kernelspec": {
   "display_name": "Python 3",
   "language": "python",
   "name": "python3"
  },
  "language_info": {
   "codemirror_mode": {
    "name": "ipython",
    "version": 3
   },
   "file_extension": ".py",
   "mimetype": "text/x-python",
   "name": "python",
   "nbconvert_exporter": "python",
   "pygments_lexer": "ipython3",
   "version": "3.7.5"
  },
  "toc-autonumbering": true
 },
 "nbformat": 4,
 "nbformat_minor": 4
}
