{
 "cells": [
  {
   "cell_type": "markdown",
   "metadata": {},
   "source": [
    "# Sorting algorithms\n",
    "\n",
    "A collection of sorting algorithms implementation, collated from various sources.\n",
    "\n",
    "> Author: Andrzej Kocielski  \n"
   ]
  },
  {
   "cell_type": "markdown",
   "metadata": {},
   "source": [
    "<figure>\n",
    "  <img src=\"https://upload.wikimedia.org/wikipedia/commons/7/7e/Comparison_computational_complexity.svg\" alt=\"Big O notation\" style=\"width:400px\">\n",
    "  <figcaption>Image source: Wikipedia.</figcaption>\n",
    "</figure>"
   ]
  },
  {
   "cell_type": "markdown",
   "metadata": {},
   "source": [
    "___\n",
    "## Content  --- to be updated\n",
    "\n",
    "1. Bubble Sort\n",
    "2. Quicksort\n",
    "3. Bucket Sort\n",
    "4. Merge Sort\n",
    "5. Tim Sort"
   ]
  },
  {
   "cell_type": "markdown",
   "metadata": {},
   "source": [
    "___\n",
    "## Quicksort\n",
    "\n",
    "<figure>\n",
    "  <img src=\"https://upload.wikimedia.org/wikipedia/commons/6/6a/Sorting_quicksort_anim.gif\"  alt=\"Quick sort visualisation\" style=\"width:400px; height:200px\">\n",
    "  <figcaption>Image source: Wikipedia.</figcaption>\n",
    "</figure>\n"
   ]
  },
  {
   "cell_type": "markdown",
   "metadata": {},
   "source": [
    "### Algorithm implementation\n",
    "Based on https://youtu.be/u4tVQszsyEQ"
   ]
  },
  {
   "cell_type": "code",
   "execution_count": 24,
   "metadata": {},
   "outputs": [
    {
     "name": "stdout",
     "output_type": "stream",
     "text": [
      "[0, 1, 2, 3, 5, 7, 9]\n"
     ]
    }
   ],
   "source": [
    "# Source: https://youtu.be/u4tVQszsyEQ\n",
    "\n",
    "# Function performing the quick sort; it takes a list to be sorted as an argument\n",
    "def sortowanie_szybkie(lista):\n",
    "    \n",
    "    # creation of empty lists\n",
    "    mniejsze = [] # less than the pivot\n",
    "    rowne = [] # equal to the pivot\n",
    "    wieksze =[] # greater than the pivot\n",
    "    \n",
    "    # base case of the recursion \n",
    "    # check whether the list is more than one element long (otherwise, one-element list is considered to be sorted)\n",
    "    if len(lista) <= 1:\n",
    "        return lista\n",
    "    \n",
    "    # recursion algorithm for a list that holds more than one element\n",
    "    else: \n",
    "        # set the pivot value at the middle element of the list\n",
    "        middle = (len(lista))//2\n",
    "        pivot = lista[middle]\n",
    "        \n",
    "        # let's consider three cases for each element of the list\n",
    "        for x in lista:\n",
    "            # case #1 - the current element is greater than the pivot\n",
    "            if x > pivot:\n",
    "                wieksze.append(x) # add the current element to the list \"wieksze\"\n",
    "            # case #2 - the current element is equal to the pivot\n",
    "            elif x == pivot:\n",
    "                rowne.append(x) # add the current element to the list \"rowne\"\n",
    "            # case #3 - the current element is less than the pivot\n",
    "            else:\n",
    "                mniejsze.append(x) # add the current element to the list \"mniejsze\"\n",
    "        \n",
    "        # as a result of the above loop, the function will return:\n",
    "        # in the middle: the element(s) that has just been sorted, i.e. equal to the pivot(?) (as well as those sorted on previous recurses)\n",
    "        # on the left-hand side: elements that are less than the pivot - still unsorted, therefore the same function is called recursively (with the \"mniejsze\" list as an argument)\n",
    "        # on the the right-hand side: elements that are greater than the pivot - still unsorted, therefore the same function is called recursively (with the \"wieksze\" list as an argument)\n",
    "        \n",
    "        return sortowanie_szybkie(mniejsze) + rowne + sortowanie_szybkie(wieksze)\n",
    "        \n",
    "l = [3,1,0,9,2,7,5]\n",
    "print(sortowanie_szybkie(l))"
   ]
  },
  {
   "cell_type": "code",
   "execution_count": 19,
   "metadata": {},
   "outputs": [
    {
     "data": {
      "text/plain": [
       "9"
      ]
     },
     "execution_count": 19,
     "metadata": {},
     "output_type": "execute_result"
    }
   ],
   "source": [
    "l = [3,6,0,9,2,7,5]\n",
    "lista[(len(lista))//2]"
   ]
  },
  {
   "cell_type": "markdown",
   "metadata": {},
   "source": [
    "### Another implementation"
   ]
  },
  {
   "cell_type": "code",
   "execution_count": 60,
   "metadata": {},
   "outputs": [
    {
     "name": "stdout",
     "output_type": "stream",
     "text": [
      "[0, 1, 2, 3, 5, 7, 9]\n"
     ]
    }
   ],
   "source": [
    "# Source: https://youtu.be/u4tVQszsyEQ\n",
    "\n",
    "# Function performing the quick sort; it takes a list to be sorted as an argument\n",
    "def sortowanie_szybkie2(lista):\n",
    "    \n",
    "    # set the pivot value at the middle element of the list\n",
    "    middle = (len(lista))//2\n",
    "    #pivot = lista[middle]\n",
    "        \n",
    "    # creation of empty lists\n",
    "    mniejsze = [x for x in lista if x < lista[middle]] # less than the pivot\n",
    "    rowne = [x for x in lista if x == lista[middle]] # equal to the pivot\n",
    "    wieksze =[x for x in lista if x > lista[middle]] # greater than the pivot\n",
    "    \n",
    "    # base case of the recursion \n",
    "    # check whether the list is more than one element long (otherwise, one-element list is considered to be sorted)\n",
    "    if len(lista) <= 1:\n",
    "        return lista\n",
    "    \n",
    "    # recursion algorithm for a list that holds more than one element\n",
    "    else: \n",
    "        return sortowanie_szybkie2(mniejsze) + rowne + sortowanie_szybkie2(wieksze)\n",
    "        \n",
    "l = [3,1,0,9,2,7,5]\n",
    "print(sortowanie_szybkie2(l))"
   ]
  },
  {
   "cell_type": "markdown",
   "metadata": {},
   "source": [
    "### Another implementation"
   ]
  },
  {
   "cell_type": "code",
   "execution_count": 32,
   "metadata": {},
   "outputs": [
    {
     "name": "stdout",
     "output_type": "stream",
     "text": [
      "[2, 2, 3, 5, 6, 6, 7]\n"
     ]
    }
   ],
   "source": [
    "# From Python Cookbook by Alex Martelli et al.\n",
    "\n",
    "def qsort(L):\n",
    "    return ((qsort([x for x in L[1:] if x < L[0]]) +\n",
    "             L[0:1] +\n",
    "             qsort([x for x in L[1:] if x >= L[0]])) if L\n",
    "            else [])\n",
    "\n",
    "l = [3,6,6,2,2,7,5]\n",
    "print(qsort(l))"
   ]
  },
  {
   "cell_type": "code",
   "execution_count": null,
   "metadata": {},
   "outputs": [],
   "source": []
  },
  {
   "cell_type": "markdown",
   "metadata": {},
   "source": [
    "___\n",
    "## Timsort\n",
    "\n",
    "Tim sort is a hybrid algorithm that utilises Insert Sort (aka Insertion Sort) and Merge sort. \n",
    "\n",
    "The object (e.g. an array) is first divided into smaller chunks of arbitrarily taken maximum length (variable `RUN` in the below code). The smaller chunks are then sorted using the Insert Sort. Subsequently, the already sorted chunks are merged together using Merge Sort."
   ]
  },
  {
   "cell_type": "markdown",
   "metadata": {},
   "source": [
    "### Algorithm implementation\n",
    "Source: https://quinston.com/code-snippets/, https://youtu.be/9kFHVe5MT6o"
   ]
  },
  {
   "cell_type": "code",
   "execution_count": 17,
   "metadata": {},
   "outputs": [
    {
     "name": "stdout",
     "output_type": "stream",
     "text": [
      "[24, 38, 100]\n"
     ]
    }
   ],
   "source": [
    "# Based on https://quinston.com/code-snippets/\n",
    "# my own comments\n",
    "\n",
    "import random\n",
    "\n",
    "# Insert Sort algorithm\n",
    "# Function InsertionSort() takes one argument - array\n",
    "def InsertionSort(array):\n",
    "\n",
    "    for x in range (1, len(array)):\n",
    "        for i in range(x, 0, -1):\n",
    "            if array[i] < array[i - 1]:\n",
    "                t = array[i]\n",
    "                array[i] = array[i - 1]\n",
    "                array[i - 1] = t\n",
    "            else:\n",
    "                break\n",
    "            i = i - 1\n",
    "    return array\n",
    "\n",
    "\n",
    "# Merge Sort implementation\n",
    "# The Merge() function takes two arguments - two arrays - and merge them together. The function returns yet another array\n",
    "def Merge(aArr, bArr):\n",
    "    \n",
    "    a = 0 # a is a pointer (index position) of aArr array\n",
    "    b = 0 # b is a pointer of bArr array\n",
    "    \n",
    "    # placeholder - an empty array cArr which will be holding sorted values of aArr and bArr arrays\n",
    "    cArr = []\n",
    "\n",
    "    # end of loop codition:\n",
    "    while a < len(aArr) and b < len(bArr):\n",
    "        # check if a-element of array aArr is less than b-element of array bArr\n",
    "        if aArr[a] < bArr[b]:\n",
    "            cArr.append(aArr[a]) # if the condition is satisfied, assign the value of a-element to cArr array\n",
    "            a = a + 1 # move the pointer to the next aArr array index\n",
    "            \n",
    "        elif aArr[a] > bArr[b]:\n",
    "            cArr.append(bArr[b])\n",
    "            b = b + 1\n",
    "        \n",
    "        # in case the a-element of aArra and b-element of bArr are equal\n",
    "        else:\n",
    "            cArr.append(aArr[a])\n",
    "            cArr.append(bArr[b])\n",
    "            a = a + 1\n",
    "            b = b + 1\n",
    "    \n",
    "    # when there are no left elements from bArr to compare with aArr, the remaining elements from aArr are appended at the end of cArr array\n",
    "    while a < len(aArr):\n",
    "        cArr.append(aArr[a])\n",
    "        a = a + 1\n",
    "\n",
    "    while b < len(bArr):\n",
    "        cArr.append(bArr[b])\n",
    "        b = b + 1\n",
    "\n",
    "    # function returns merged the two arrays, sorted\n",
    "    return cArr\n",
    "\n",
    "\n",
    "# Implementation of the TimSort sorting algorithm\n",
    "# Funtion TimSort divides the array to be sorted (arr) into smaller chunks of size RUN. The variable RUN is defined outside the funtion body, prior to its first call.\n",
    "def TimSort():\n",
    "\n",
    "    # divide the array into chunks\n",
    "    for x in range(0, len(arr), RUN): # loop starting from index 0, to the last element of the array, with incrementing step size RUN; note the value of len(arr) is excluded from the loop\n",
    "        # arr[x : x + RUN] is the current slice of the array (from x to x+RUN)\n",
    "        # values of the current array slice are transfered (passed) to InsertionSort function; the return from the InsertionSort is already sorted array assigned to the original slice\n",
    "        arr[x : x + RUN] = InsertionSort(arr[x : x + RUN])\n",
    "    \n",
    "    # merging the already sortd slices of the array\n",
    "    # create an auxiliary variable     \n",
    "    RUNinc = RUN\n",
    "    # define loop termination condition\n",
    "    while RUNinc < len(arr):\n",
    "        \n",
    "        # the array is divided into pairs of neighbouring slices and passed to Merge() function\n",
    "        for x in range(0, len(arr), 2 * RUNinc):\n",
    "            # the return from the Merge() function is assigned to the slice (size of 2xRUN) original array\n",
    "            arr[x : x + 2 * RUNinc] = Merge(arr[x : x + RUNinc], arr[x + RUNinc: x + 2 * RUNinc])\n",
    "        RUNinc = RUNinc * 2\n",
    "\n",
    "# generate the list of elements - variable arr \n",
    "# create an empty list\n",
    "arr = []\n",
    "# populate the arr list with randomly generated numbers\n",
    "for x in range(0, 100): # how many elements of the list? \n",
    "    arr.append(random.randint(0, 100)) # integer numbers from 0 to 100\n",
    "\n",
    "    \n",
    "RUN = 32    \n",
    "TimSort()\n",
    "\n",
    "print(arr)\n"
   ]
  },
  {
   "cell_type": "code",
   "execution_count": null,
   "metadata": {},
   "outputs": [],
   "source": []
  },
  {
   "cell_type": "code",
   "execution_count": null,
   "metadata": {},
   "outputs": [],
   "source": []
  },
  {
   "cell_type": "markdown",
   "metadata": {},
   "source": [
    "___"
   ]
  },
  {
   "cell_type": "markdown",
   "metadata": {},
   "source": [
    "Andrzej Kocielski, 2020"
   ]
  }
 ],
 "metadata": {
  "kernelspec": {
   "display_name": "Python 3",
   "language": "python",
   "name": "python3"
  },
  "language_info": {
   "codemirror_mode": {
    "name": "ipython",
    "version": 3
   },
   "file_extension": ".py",
   "mimetype": "text/x-python",
   "name": "python",
   "nbconvert_exporter": "python",
   "pygments_lexer": "ipython3",
   "version": "3.7.5"
  }
 },
 "nbformat": 4,
 "nbformat_minor": 4
}
